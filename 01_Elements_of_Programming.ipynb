{
 "cells": [
  {
   "cell_type": "markdown",
   "id": "62d52432740c2440",
   "metadata": {},
   "source": [
    "## Einführung in Python\n",
    "\n",
    "Der Prozess der Python-Programmierung kann in zwei Schritte gegliedert werden. Um in Python zu programmieren, müssen wir:\n",
    "\n",
    "- Ein Programm zusammenstellen, indem wir es in eine Datei mit der Endung `.py` eingeben. In diesem ersten Beispiel verwenden wir das Beispielprogramm [helloworld.py](introcs/helloworld.py), welches sich, wie all unsere Beispiele, im Verzeichnis [introcs](introcs) befindet.\n",
    "- Wir führen dieses Programm aus, indem wir den Befehl `python introcs/helloworld.py` in der Konsole eingeben.\n",
    "\n",
    "Im ersten Schritt beginnen wir mit einem leeren Bildschirm und enden mit einer Folge von getippten Zeichen auf dem Bildschirm, genau wie beim Schreiben einer E-Mail oder eines Aufsatzes. Programmierer verwenden den Begriff _Code_ für Programmtext und den Begriff _Codierung_ für den Akt der Erstellung und Bearbeitung des _Codes_. Im zweiten Schritt übertragen wir die Kontrolle über den Computer vom System an das Programm (das die Kontrolle wieder an das System zurückgibt, wenn es fertig ist). Viele Systeme unterstützen verschiedene Arten, Programme zu verfassen und Ausführen von Programmen. Wir haben uns für die hier beschriebene Reihenfolge entschieden, weil sie die einfachste ist zu beschreiben und für kleine Programme zu verwenden ist."
   ]
  },
  {
   "cell_type": "markdown",
   "id": "f71f1cb76a29628d",
   "metadata": {},
   "source": [
    "### Erstellen eines Programmes\n",
    "Ein Python-Programm ist nichts anderes als eine Folge von Zeichen, wie ein Absatz oder ein Gedicht, die in einer Datei mit der Endung `.py` gespeichert sind. Um ein Python-Programm zu erstellen, müssen wir also nur diese Zeichenfolge definieren, so wie wir es auch bei einer E-Mail oder einer anderen Computeranwendung tun. Wir können für diese Aufgabe einen beliebigen Texteditor oder eine der anspruchsvolleren Programmentwicklungsumgebungen verwenden."
   ]
  },
  {
   "cell_type": "markdown",
   "id": "f0e9bb85adf1727f",
   "metadata": {},
   "source": [
    "#### Editoren\n",
    "In diesem kleinen Einschub wollen wir einige Editoren vorstellen, welche sich für die Erstellung von Python-Programmen eignen. Diese Liste erhebt keinen Anspruch auf Vollständigkeit.\n",
    "\n",
    "[DataSpell]\n",
    "[PyCharm]\n",
    "[Sublime]\n"
   ]
  },
  {
   "cell_type": "markdown",
   "id": "1412e77006047bc4",
   "metadata": {},
   "source": [
    "### Ausführen eines Programmes\n",
    "Sobald Sie das Programm zusammengestellt haben, können Sie es ausführen. Dies ist der spannende Teil, bei dem Ihr Programm die Kontrolle über Ihren Computer übernimmt (im Rahmen der Möglichkeiten von Python). Es ist vielleicht genauer zu sagen, dass Ihr Computer Ihren Anweisungen folgt. Noch genauer ist es zu sagen, dass der Python-_Compiler_ Ihr Python-Programm in eine Sprache übersetzt, die für die Ausführung auf einem Computer geeignet ist. Anschliessend weist der Python-_Interpreter_ den Computer an, diesen Anweisungen zu folgen. In diesem Kurs verwenden wir den Begriff **Ausführen**, um die Kombination aus Kompilieren und Interpretieren eines Programms zu bezeichnen (wie in \"_Wenn Python dieses Programm ausführt_ ...\").\n",
    "\n",
    "Um den Python-Compiler und Interpreter zur Ausführung Ihres Programms zu verwenden, geben Sie den Befehl `python` gefolgt von dem Namen der Datei, die das Python-Programm enthält, in ein Terminalfenster ein.\n",
    "\n",
    "Das erste Programm ist ein Beispiel für ein vollständiges Python-Programm. Sein Code befindet sich in einer Datei namens [helloworld.py](introcs/helloworld.py). Die einzige Aktion des Programms ist das Schreiben einer Nachricht in das Terminalfenster. Ein Python-Programm besteht aus Anweisungen. Normalerweise platzieren Sie jede Anweisung in eine eigene Zeile.\n",
    "\n",
    "<br>\n",
    "<div>\n",
    "<img src=\"images/1_1_developing_a_python_program.png\" width=\"840\"/>\n",
    "\n",
    "<b>Abbildung:</b> _Erstellen und ausführen eines Pythonprogrammes_\n",
    "</div>"
   ]
  },
  {
   "cell_type": "markdown",
   "id": "f3ae05b68a2eb266",
   "metadata": {},
   "source": [
    "Die erste Zeile von [helloworld.py](introcs/helloworld.py) enthält eine `import`-Anweisung. Diese Anweisung sagt Python, dass Sie beabsichtigen, die Funktionen zu verwenden, die im Modul `stdlib.stdio` Modul definiert sind - also in einer Datei namens [stdio.py](stdlib/stdio.py). Die Datei `stdio.py` ist eine Datei, die die wir speziell für diesen Kurs entwickelt haben. Sie definiert Funktionen für das Lesen Eingaben und das Schreiben von Ausgaben. Wenn Sie das Modul `stdlib.stdio` importiert haben, können Sie später Funktionen aufrufen, die in diesem Modul definiert sind. Hier verwenden wir die Funktion `writeln`."
   ]
  },
  {
   "cell_type": "code",
   "execution_count": null,
   "id": "e184bef0c3f634d8",
   "metadata": {
    "is_executing": true
   },
   "outputs": [],
   "source": [
    "# -----------------------------------------------------------------------\n",
    "# helloworld.py\n",
    "# -----------------------------------------------------------------------\n",
    "\n",
    "from stdlib.stdio import writeln\n",
    "\n",
    "# Write 'Hello, World' to standard output.\n",
    "writeln('Hello, World')\n",
    "\n",
    "# -----------------------------------------------------------------------\n",
    "\n",
    "# python helloworld.py\n",
    "# Hello, World"
   ]
  },
  {
   "cell_type": "markdown",
   "id": "691da2135b7e1f2c",
   "metadata": {},
   "source": [
    "Im Folgenden wollen wir diese Zeilen und deren Funktion kurz analysieren:\n",
    "- Zeile 1: Zeilen, welche mit einem `#` Zeichen beginnen entsprechen einem Kommentar, welcher durch den Interpreter ignoriert wird. Dieser Kommentar kann durchaus auch am Ende einer Anweisung stehen.\n",
    "- Zeile 5 enthält eine `import`-Anweisung. Diese Anweisung teilt Python mit, dass Sie beabsichtigen, die im Modul `stdlib.stdio` definierten Funktionen zu verwenden, d. h. in einer Datei namens [stdio.py](stdlib/stdio.py). Die Datei [stdio.py](stdlib/stdio.py) haben wir speziell für diesen Kurs entwickelt. Sie definiert Funktionen für das Lesen und Schreiben. Nachdem wir das Modul `stdlib.stdio` importiert haben, können wir später Funktionen aufrufen, die in diesem Modul definiert ist.\n",
    "- Zeile 8 verwendet die Funktion `writeln`, welche wir aus dem Modul [stdio](stdlib/stdio.py) importiert haben. Ist ist das eigentliche Herzstück der Anwendung, welche die Zeichenkette '`Hello, World`' auf der Konsole ausgibt."
   ]
  },
  {
   "cell_type": "markdown",
   "id": "df2a73ea62459236",
   "metadata": {},
   "source": [
    "Nachdem dieses Programm in einer Datei [helloworld.py](introcs/helloworld.py) gespeichert wurde kann es mit folgendem Befehl ausgeführt werden:\n",
    "<br>\n",
    "\n",
    "`python introcs/helloworld.py`"
   ]
  },
  {
   "cell_type": "code",
   "execution_count": 1,
   "id": "8d09d3f3abba2584",
   "metadata": {},
   "outputs": [
    {
     "name": "stdout",
     "output_type": "stream",
     "text": [
      "Hi, -f. How are you?\n"
     ]
    }
   ],
   "source": [
    "# -----------------------------------------------------------------------\n",
    "# useargument.py\n",
    "# -----------------------------------------------------------------------\n",
    "\n",
    "from stdlib import stdio\n",
    "import sys\n",
    "\n",
    "# Accept a name as a command-line argument. Write a message containing\n",
    "# that name to standard output.\n",
    "\n",
    "stdio.write('Hi, ')\n",
    "stdio.write(sys.argv[1])\n",
    "stdio.writeln('. How are you?')\n",
    "\n",
    "# -----------------------------------------------------------------------\n",
    "\n",
    "# python useargument.py Alice\n",
    "# Hi, Alice. How are you?\n",
    "\n",
    "# python useargument.py Bob\n",
    "# Hi, Bob. How are you?\n",
    "\n",
    "# python useargument.py Carol\n",
    "# Hi, Carol. How are you?\n"
   ]
  },
  {
   "cell_type": "code",
   "execution_count": null,
   "id": "d411acd31b451da",
   "metadata": {
    "ExecuteTime": {
     "end_time": "2023-09-04T16:10:01.280696Z",
     "start_time": "2023-09-04T16:10:01.268717Z"
    }
   },
   "outputs": [],
   "source": []
  },
  {
   "cell_type": "code",
   "execution_count": null,
   "id": "4d4fe74181a0d8dd",
   "metadata": {},
   "outputs": [],
   "source": []
  }
 ],
 "metadata": {
  "kernelspec": {
   "display_name": "Python 3 (ipykernel)",
   "language": "python",
   "name": "python3"
  },
  "language_info": {
   "codemirror_mode": {
    "name": "ipython",
    "version": 3
   },
   "file_extension": ".py",
   "mimetype": "text/x-python",
   "name": "python",
   "nbconvert_exporter": "python",
   "pygments_lexer": "ipython3",
   "version": "3.10.0"
  }
 },
 "nbformat": 4,
 "nbformat_minor": 5
}
