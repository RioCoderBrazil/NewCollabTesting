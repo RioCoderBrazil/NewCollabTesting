{
 "cells": [
  {
   "cell_type": "markdown",
   "source": [
    "## Einführung\n",
    "Es gibt sehr viele Dokumentationen, Tutorials und Bücher zu Python, aber die meisten sind in Englisch. Deshalb bieten wir [hier](https://www.python-kurs.eu/) sowohl einen online Python-Kurs als auch ein Tutorial zu Python in Deutsch, das sich sowohl für Anfänger wegen seiner vielen Beispiele als auch für Fortgeschrittene wegen der weiterführenden Themen eignet."
   ],
   "metadata": {
    "collapsed": false
   },
   "id": "9b92fc801ce9e840"
  },
  {
   "cell_type": "markdown",
   "source": [
    "### Wichtige Links\n",
    "Die folgende Liste erhebt keinen Anspruch auf Vollständigkeit. Dies it lediglich eine Aufzählung, welche aus sich des Authoren für dem Lernprozess von Bedeutung sein könnte. Etliche diese _Links_ wurden auch bei der Erstellung dieses Kurses zu Rate gezogen:\n",
    "\n",
    "[1] [https://www.python.org/](https://www.python.org/) - Eigentlich _Homepage_ der Programmiersprache Python. An dieser Stelle finden wir alle wichtigen _Downloads_, die Dokumentation, Einführungen und vieles mehr.  \n",
    "\n",
    "[2] [Wikipedia](https://de.wikipedia.org/wiki/Python_(Programmiersprache)) - Deutschsprachiges Wikipedia.\n",
    "\n",
    "[3] [Das Python-Tutorial](https://py-tutorial-de.readthedocs.io/de/python-3.3/) - Deutsche Übersetzung des offiziellen Python 3.3-Tutorials. "
   ],
   "metadata": {
    "collapsed": false
   },
   "id": "27a1c8dd0e57ab40"
  },
  {
   "cell_type": "code",
   "execution_count": null,
   "outputs": [],
   "source": [],
   "metadata": {
    "collapsed": false
   },
   "id": "cbbae8b2a693ad6a"
  }
 ],
 "metadata": {
  "kernelspec": {
   "display_name": "Python 3",
   "language": "python",
   "name": "python3"
  },
  "language_info": {
   "codemirror_mode": {
    "name": "ipython",
    "version": 2
   },
   "file_extension": ".py",
   "mimetype": "text/x-python",
   "name": "python",
   "nbconvert_exporter": "python",
   "pygments_lexer": "ipython2",
   "version": "2.7.6"
  }
 },
 "nbformat": 4,
 "nbformat_minor": 5
}
