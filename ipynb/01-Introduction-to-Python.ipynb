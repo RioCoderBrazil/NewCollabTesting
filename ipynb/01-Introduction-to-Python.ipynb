{
 "cells": [
  {
   "cell_type": "markdown",
   "source": [
    "# Einführung in Python\n",
    "\n",
    "---\n",
    "\n",
    "Python ist eine hochrangige, interpretierte und allgemeine Programmiersprache, die 1991 von Guido van Rossum entwickelt wurde. Sie legt besonderen Wert auf Code-Lesbarkeit und ermöglicht es Programmierern, Konzepte in weniger Code-Zeilen auszudrücken als in Sprachen wie C++ oder Java. Die Sprache bietet Konstrukte, die es ermöglichen, klare Programme zu schreiben, sowohl auf kleiner als auch auf grosser Skala.\n",
    "\n",
    "Der Hauptunterschied zwischen einer kompilierten Sprache und einer Skriptsprache liegt in der Ausführung der Programme. Bei kompilierten Sprachen wird der Code vor der Ausführung komplett in Maschinen-Code übersetzt. Bei Skriptsprachen hingegen wird der Code Zeile für Zeile während der Laufzeit interpretiert. Python ist eine interpretierte Sprache, was ihr eine gewisse Flexibilität verschafft, allerdings auf Kosten der Performance.\n",
    "\n",
    "Python wird in diversen Anwendungsfällen eingesetzt. Es wird häufig als (_Glue_-) Sprache verwendet, um existierende Komponenten zusammenzuführen. Es ist auch sehr gut für den Einsatz in Datenanalyse, künstlicher Intelligenz, maschinellem Lernen und Webentwicklung geeignet. In Bezug auf seine Systemintegration und Textverarbeitungsfähigkeiten ist Python besonders stark.\n",
    "\n",
    "Die Zukunft von Python sieht recht positiv aus. Es wird von einer aktiven Community unterstützt und seine Popularität hat in den letzten Jahren zunehmend zugenommen. Sicherlich hat jede der Sprachen C, C++, C# und Java ihre eigene Nische und wird in bestimmten Anwendungsfällen bevorzugt. Aber die Tatsache, dass Python eine einfach zu lernende und anzuwendende Sprache ist, macht sie zu einer attraktiven Wahl für viele Anwendungsfälle, besonders für Anfänger in der Programmierung. Python wird wahrscheinlich weiterhin ein wichtiger Spieler in der Welt der Programmiersprachen bleiben."
   ],
   "metadata": {
    "collapsed": false
   },
   "id": "d09b729ca6857d8b"
  },
  {
   "cell_type": "markdown",
   "source": [
    "## Was ist Python\n",
    "[Python](https://www.python.org/) ist eine moderne, objektorientierte Hochsprachenprogrammierung für allgemeine Zwecke.\n",
    "\n",
    "Allgemeine Eigenschaften von Python:\n",
    "* **Saubere und einfache Sprache**: Leicht zu lesender und intuitiver Code, einfach zu erlernende, minimalistische Syntax, gute Wartbarkeit, skalierbar mit der Größe der Projekte.\n",
    "* **Ausdrucksvolle Sprache**: Weniger Codezeilen, weniger Fehler, leichter zu pflegen.\n",
    "\n",
    "Technische Einzelheiten:\n",
    "* **Dynamisch typisiert**: Der Typ von Variablen, Funktionsargumenten oder Rückgabetypen muss nicht definiert werden.\n",
    "* **Automatische Speicherverwaltung**: Kein explizites Zuweisen und Freigeben von Speicher für Variablen und Datenarrays erforderlich. Keine Speicherleck-Fehler. \n",
    "* **Interpretiert**: Sie müssen den Code nicht kompilieren. Der Python-Interpreter liest und führt den Python-Code direkt aus.\n",
    "\n",
    "Vorteile:\n",
    "* Der Hauptvorteil ist die einfache Programmierung, die den Zeitaufwand für die Entwicklung, das Debugging und die Pflege des Codes minimiert.\n",
    "* Gut konzipierte Sprache, die viele gute Programmierpraktiken fördert:\n",
    "    * Modulare und objektorientierte Programmierung, gutes System für die Verpackung und Wiederverwendung von Code. Dies führt oft zu transparenterem, wartbarem und fehlerfreiem Code.\n",
    "    * Die Dokumentation ist eng in den Code integriert.\n",
    "* Eine umfangreiche Standardbibliothek und eine grosse Sammlung von Zusatzpaketen.\n",
    "\n",
    "Nachteile:\n",
    "* Da Python eine interpretierte und dynamisch typisierte Programmiersprache ist, kann die Ausführung von Python-Code im Vergleich zu kompilierten, statisch typisierten Programmiersprachen wie C und Fortran langsam sein. \n",
    "* Etwas dezentralisiert, mit verschiedenen Umgebungen, Paketen und Dokumentationen, die an verschiedenen Orten verteilt sind. Das kann den Einstieg erschweren."
   ],
   "metadata": {
    "collapsed": false
   },
   "id": "36fd4fdc4cfd6944"
  },
  {
   "cell_type": "markdown",
   "source": [
    "# Kommandos und Programme\n",
    "\n",
    "---"
   ],
   "metadata": {
    "collapsed": false
   },
   "id": "3c042b4ea21334a"
  },
  {
   "metadata": {},
   "cell_type": "markdown",
   "source": [
    "## Erste Schritte mit Python\n",
    "Wir beginnen den Kurs mit ein paar grundlegenden Python-Befehlen. Ein einfacher Befel in Python könnte das Drucken von Text auf dem Bildschirm sein."
   ],
   "id": "6a822cda53547916"
  },
  {
   "cell_type": "code",
   "source": [
    "print(\"Herzlich Willkommen zum Python-Kurs\")"
   ],
   "metadata": {
    "collapsed": false,
    "ExecuteTime": {
     "end_time": "2024-08-06T17:13:02.493753Z",
     "start_time": "2024-08-06T17:13:02.473520Z"
    }
   },
   "id": "54ac5528bdf8e61d",
   "outputs": [
    {
     "name": "stdout",
     "output_type": "stream",
     "text": [
      "Herzlich Willkommen zum Python-Kurs\n"
     ]
    }
   ],
   "execution_count": 168
  },
  {
   "cell_type": "markdown",
   "source": [
    "Ebenso können wir einfache mathematische Berechnungen durchführen."
   ],
   "metadata": {
    "collapsed": false
   },
   "id": "d96b7180d51e58a0"
  },
  {
   "cell_type": "code",
   "source": [
    "print(5 + 10)"
   ],
   "metadata": {
    "collapsed": true,
    "ExecuteTime": {
     "end_time": "2024-08-06T17:13:03.193462Z",
     "start_time": "2024-08-06T17:13:03.190316Z"
    }
   },
   "id": "initial_id",
   "outputs": [
    {
     "name": "stdout",
     "output_type": "stream",
     "text": [
      "15\n"
     ]
    }
   ],
   "execution_count": 169
  },
  {
   "cell_type": "markdown",
   "source": [
    "Oder eine Division:"
   ],
   "metadata": {
    "collapsed": false
   },
   "id": "f57760b074887192"
  },
  {
   "cell_type": "code",
   "source": [
    "print(10 / 2)"
   ],
   "metadata": {
    "collapsed": false,
    "ExecuteTime": {
     "end_time": "2024-08-06T17:13:03.211117Z",
     "start_time": "2024-08-06T17:13:03.209339Z"
    }
   },
   "id": "d5282d848bed0380",
   "outputs": [
    {
     "name": "stdout",
     "output_type": "stream",
     "text": [
      "5.0\n"
     ]
    }
   ],
   "execution_count": 170
  },
  {
   "cell_type": "markdown",
   "source": [
    "In diesen Beispielen wurde die Funktion `print()` aus der Standardbibliothek von Python verwendet. Hier spricht man auch von den sogenannten _built-in_ Funktionen, welche im Detail im [Handbuch](https://docs.python.org/3/library/functions.html) aufgeführt und beschrieben sind. \n",
    "\n",
    "Die Spezialzeichen, welche an dieser Stelle für die Addition (`+`) und Division (`/`) verwendet wurden werden Operatoren genannt. Eine komplette Auflistung der möglichen Operatoren sind [hier](https://docs.python.org/3/library/stdtypes.html#numeric-types-int-float-complex) zu finden. "
   ],
   "metadata": {
    "collapsed": false
   },
   "id": "1038bd24b8eb92ec"
  },
  {
   "cell_type": "markdown",
   "source": [
    "## Python Umgebungen\n",
    "Python-Skripte werden üblicherweise in eine mit einem Editor oder einer Interaktiven Entwiklungsumgebung (IDE) in einer Datei abgelegt.\n",
    "Hier nur einige Beispiele möglicher Umgebungen:\n",
    "\n",
    "- [PyCharm](https://www.jetbrains.com/pycharm/) \n",
    "- [Visual Studio Code](https://code.visualstudio.com/) \n",
    "- [Spyder](https://www.spyder-ide.org/) "
   ],
   "metadata": {
    "collapsed": false
   },
   "id": "3a9689f7a2c79d3c"
  },
  {
   "cell_type": "markdown",
   "source": [
    "### Python Interpreter\n",
    "Die Standardmethode zur Verwendung der Programmiersprache Python ist die Verwendung des Python-Interpreters zur Ausführung von Python-Code. Der Python-Interpreter ist ein Programm, das den Python-Code in Dateien liest und ausführt, die ihm als Argumente übergeben werden. An der Eingabeaufforderung wird der Befehl `python` verwendet, um den Python-Interpreter aufzurufen.\n",
    "\n",
    "Um zum Beispiel eine Datei [hello.py](scripts/hello.py), die Python-Code enthält, von der Eingabeaufforderung aus zu starten, verwenden wir:\n",
    "\n",
    "<br>\n",
    "\n",
    "    $ python hello.py\n",
    "\n",
    "Wir können den Interpreter auch einfach durch die Eingabe von `python` in der Befehlszeile starten und interaktiv python-Code in den Interpreter eingeben.\n",
    "\n",
    "<br>\n",
    "<img src=\"../images/python-screenshot.png\" width=\"840\">\n",
    "\n",
    "So wollen wir oft arbeiten, wenn wir wissenschaftliche Anwendungen entwickeln oder kleine Berechnungen durchführen. Aber der Standard-Python-Interpreter ist für diese Art von Arbeit aufgrund einer Reihe von Einschränkungen nicht sehr geeignet."
   ],
   "metadata": {
    "collapsed": false
   },
   "id": "1565cd43023faf2b"
  },
  {
   "cell_type": "markdown",
   "source": [
    "### IPython\n",
    "IPython ist eine interaktive Shell, die die Einschränkungen des Standard-Python-Interpreters behebt und ein Arbeitspferd für den wissenschaftlichen Einsatz von Python ist. Sie bietet eine interaktive Eingabeaufforderung für den Python-Interpreter mit einer stark verbesserten Benutzerfreundlichkeit.\n",
    "  \n",
    "<br>\n",
    "<img src=\"../images/ipython-screenshot.png\" width=\"840\">\n",
    "\n",
    "Einige der vielen nützlichen Funktionen von IPython sind:\n",
    "\n",
    "* Befehlshistorie, die mit den Aufwärts- und Abwärtspfeilen auf der Tastatur durchsucht werden kann.\n",
    "* Automatische Vervollständigung mit `TAB`.\n",
    "* Inline-Bearbeitung von Code.\n",
    "* Objektintrospektion und automatische Extraktion von Dokumentationsstrings aus Pythonobjekten wie Klassen und Funktionen.\n",
    "* Gute Interaktion mit der Shell des Betriebssystems.\n",
    "* Support for multiple parallel back-end processes, that can run on computing clusters or cloud services like Amazon EC2."
   ],
   "metadata": {
    "collapsed": false
   },
   "id": "368aaf1617582589"
  },
  {
   "cell_type": "markdown",
   "source": [
    "### Jupyter Notebook\n",
    "\n",
    "[Jupyter Notebook](https://jupyter.org/) ist eine HTML-basierte Notizbuchumgebung für Python, ähnlich wie Mathematica oder Maple. Es basiert auf der IPython-Shell, bietet aber eine zellenbasierte Umgebung mit großer Interaktivität, in der Berechnungen strukturiert organisiert und dokumentiert werden können.\n",
    "\n",
    "<br>\n",
    "<img src=\"../images/jupyter-notebook-screenshot.png\" width=\"840\">\n",
    "\n",
    "Obwohl ein Webbrowser als grafische Oberfläche verwendet wird, werden Jupyter-Notebooks in der Regel lokal auf demselben Computer ausgeführt, auf dem auch der Browser läuft. Um eine neue Jupyter-Notebook-Sitzung zu starten, führen Sie den folgenden Befehl aus:\n",
    "\n",
    "<br>\n",
    "\n",
    "    $ jupyter notebook\n",
    "    \n",
    "aus einem Verzeichnis, in dem die Notizbücher gespeichert werden sollen. Dadurch wird ein neues Browserfenster (oder eine neue Registerkarte in einem bestehenden Fenster) mit einer Indexseite geöffnet, auf der die vorhandenen Notizbücher angezeigt werden und von der aus neue Notizbücher erstellt werden können.\n",
    "\n",
    "Damit obiger Befehl funktioniert muss, falls nicht bereits vorhanden, das Paket [jupyter](https://pypi.org/project/jupyter/) vorgängig installiert werden.\n",
    " \n",
    "Alternativ kann ein bestehendes Notebook (z.B. das vorliegende Dokument) mit dem [nbviewer](https://nbviewer.org/github/talent-factory/pyt-introduction/blob/develop/01-Introduction-to-Python.ipynb) betrachtet werden."
   ],
   "metadata": {
    "collapsed": false
   },
   "id": "d87b8227c568bcb0"
  },
  {
   "cell_type": "markdown",
   "source": [
    "### Spyder\n",
    "\n",
    "[Spyder](https://www.spyder-ide.org/) ist eine MATLAB-ähnliche IDE für wissenschaftliches Rechnen mit Python. Es hat die vielen Vorteile einer traditionellen IDE-Umgebung, zum Beispiel, dass alles von der Code-Bearbeitung, der Ausführung und dem Debugging in einer einzigen Umgebung durchgeführt wird und die Arbeit an verschiedenen Berechnungen als Projekte in der IDE-Umgebung organisiert werden kann.\n",
    "\n",
    "<br>\n",
    "<img src=\"../images/spyder-screenshot.png\" width=\"840\">\n",
    "\n",
    "Einige Vorteile des Spyder:\n",
    "* Leistungsstarker Code-Editor mit Syntax-Highlighting, dynamischer Code-Introspektion und Integration mit dem Python-Debugger.\n",
    "* Variablen-Explorer, IPython-Eingabeaufforderung.\n",
    "* Integrierte Dokumentation und Hilfe."
   ],
   "metadata": {
    "collapsed": false
   },
   "id": "1f00db071af733d0"
  },
  {
   "cell_type": "markdown",
   "source": [
    "## Installation\n",
    "\n",
    "### Python und Modulversionen\n",
    "Da es mehrere verschiedene Versionen von Python gibt und jedes Python-Paket seinen eigenen Veröffentlichungszyklus und seine eigene Versionsnummer hat, ist es für die Reproduzierbarkeit eines Projektes wichtig, die Versionen all dieser verschiedenen Softwarepakete aufzuzeichnen. Wenn dies richtig gemacht wird, ist es einfach, die Umgebung zu reproduzieren, die zum Ausführen verwendet wurde, aber wenn nicht, kann es schwierig sein, herauszufinden, was verwendet wurde, um die Ergebnisse in einem Notizbuch zu erzeugen.\n",
    "\n",
    "Damit das folgende Skript funktioniert müssen vorgängig folgende Module installiert werden:\n",
    "\n",
    "<br>\n",
    "\n",
    "```\n",
    "pip install --upgrade numpy scipy matplotlib sympy jupyter\n",
    "```"
   ],
   "metadata": {
    "collapsed": false
   },
   "id": "2de0f8af2cb47e2"
  },
  {
   "cell_type": "markdown",
   "source": [
    "# Variablen und Datentypen\n",
    "\n",
    "---"
   ],
   "metadata": {
    "collapsed": false
   },
   "id": "add9141f89ff1ef8"
  },
  {
   "cell_type": "markdown",
   "source": [
    "## Symbolische Namen\n",
    "Variablennamen in Python können die alphanumerischen Zeichen `a-z`, `A-Z`, `0-9` und einige Sonderzeichen wie `_` enthalten. Normale Variablennamen müssen mit einem Buchstaben beginnen.\n",
    "\n",
    "Konventionell beginnen Variablennamen mit einem Kleinbuchstaben und Klassennamen mit einem Grossbuchstaben. Dies ist im [Python Style Guide](https://peps.python.org/pep-0008/#naming-conventions) (PEP8) festgehalten.\n",
    "\n",
    "Darüber hinaus gibt es eine Reihe von [Python-Schlüsselwörtern](https://docs.python.org/3/reference/lexical_analysis.html#keywords), die nicht als Variablennamen verwendet werden können. \n"
   ],
   "metadata": {
    "collapsed": false
   },
   "id": "671f92b089b8e1c2"
  },
  {
   "cell_type": "markdown",
   "source": [
    "## Zuweisungen\n",
    "Der Zuweisungsoperator in Python ist `=`. Python ist eine dynamisch typisierte Sprache, so dass wir den Typ einer Variablen nicht angeben müssen, wenn wir eine Variable erstellen.\n",
    "\n",
    "Durch die Zuweisung eines Wertes an eine neue Variable wird die Variable erstellt:"
   ],
   "metadata": {
    "collapsed": false
   },
   "id": "9d6c855ce87c90ce"
  },
  {
   "cell_type": "code",
   "source": [
    "# Variablenzuweisungen\n",
    "x = 1.0\n",
    "my_variable = 12\n",
    "name = 'Peter Pan'"
   ],
   "metadata": {
    "collapsed": false,
    "ExecuteTime": {
     "end_time": "2024-08-06T17:13:03.263109Z",
     "start_time": "2024-08-06T17:13:03.260741Z"
    }
   },
   "id": "a351491e1e6b7346",
   "outputs": [],
   "execution_count": 171
  },
  {
   "cell_type": "markdown",
   "source": [
    "Obwohl nicht explizit angegeben, hat eine Variable einen Typ, der mit ihr verbunden ist. Der Typ wird von dem Wert abgeleitet, der ihr zugewiesen wurde."
   ],
   "metadata": {
    "collapsed": false
   },
   "id": "1f9f02dd8633cb2c"
  },
  {
   "cell_type": "code",
   "source": "print(type(name))",
   "metadata": {
    "collapsed": false,
    "ExecuteTime": {
     "end_time": "2024-08-06T17:13:03.343994Z",
     "start_time": "2024-08-06T17:13:03.341936Z"
    }
   },
   "id": "a140366867d99a01",
   "outputs": [
    {
     "name": "stdout",
     "output_type": "stream",
     "text": [
      "<class 'str'>\n"
     ]
    }
   ],
   "execution_count": 172
  },
  {
   "cell_type": "markdown",
   "source": [
    "Wenn wir einer Variablen einen neuen Wert zuweisen, kann sich ihr Typ ändern."
   ],
   "metadata": {
    "collapsed": false
   },
   "id": "589450a7176ae46"
  },
  {
   "cell_type": "code",
   "source": [
    "x = 1\n",
    "print(type(x))"
   ],
   "metadata": {
    "collapsed": false,
    "ExecuteTime": {
     "end_time": "2024-08-06T17:13:03.387075Z",
     "start_time": "2024-08-06T17:13:03.383947Z"
    }
   },
   "id": "f4d4149b0983917b",
   "outputs": [
    {
     "name": "stdout",
     "output_type": "stream",
     "text": [
      "<class 'int'>\n"
     ]
    }
   ],
   "execution_count": 173
  },
  {
   "cell_type": "markdown",
   "source": [
    "Wenn wir versuchen, eine Variable zu verwenden, die noch nicht definiert wurde, erhalten wir einen `NameError`:"
   ],
   "metadata": {
    "collapsed": false
   },
   "id": "dada6989727d67a7"
  },
  {
   "cell_type": "code",
   "source": "# print(type(y))",
   "metadata": {
    "collapsed": false,
    "ExecuteTime": {
     "end_time": "2024-08-06T17:13:03.447493Z",
     "start_time": "2024-08-06T17:13:03.445698Z"
    }
   },
   "id": "471429f59ecf4215",
   "outputs": [],
   "execution_count": 174
  },
  {
   "cell_type": "markdown",
   "source": [
    "## Grundlegende Datentypen"
   ],
   "metadata": {
    "collapsed": false
   },
   "id": "d2bb70f709398344"
  },
  {
   "cell_type": "code",
   "source": [
    "# integers\n",
    "x = 1\n",
    "print(type(x))"
   ],
   "metadata": {
    "collapsed": false,
    "ExecuteTime": {
     "end_time": "2024-08-06T17:13:03.498049Z",
     "start_time": "2024-08-06T17:13:03.495674Z"
    }
   },
   "id": "7e789c3938634680",
   "outputs": [
    {
     "name": "stdout",
     "output_type": "stream",
     "text": [
      "<class 'int'>\n"
     ]
    }
   ],
   "execution_count": 175
  },
  {
   "cell_type": "code",
   "source": [
    "# float\n",
    "x = 1.0\n",
    "print(type(x))"
   ],
   "metadata": {
    "collapsed": false,
    "ExecuteTime": {
     "end_time": "2024-08-06T17:13:03.571045Z",
     "start_time": "2024-08-06T17:13:03.569320Z"
    }
   },
   "id": "ceeb694b4ff1e07c",
   "outputs": [
    {
     "name": "stdout",
     "output_type": "stream",
     "text": [
      "<class 'float'>\n"
     ]
    }
   ],
   "execution_count": 176
  },
  {
   "cell_type": "code",
   "source": [
    "# boolean\n",
    "b1 = True\n",
    "b2 = False\n",
    "\n",
    "print(type(b1))"
   ],
   "metadata": {
    "collapsed": false,
    "ExecuteTime": {
     "end_time": "2024-08-06T17:13:03.655568Z",
     "start_time": "2024-08-06T17:13:03.652756Z"
    }
   },
   "id": "d947dcbe9a6316d2",
   "outputs": [
    {
     "name": "stdout",
     "output_type": "stream",
     "text": [
      "<class 'bool'>\n"
     ]
    }
   ],
   "execution_count": 177
  },
  {
   "cell_type": "code",
   "source": [
    "# complex numbers: beachte die Verwendung von \"j\" zur Angabe des Imaginärteils\n",
    "x = 1.0 - 1.0j\n",
    "print(type(x))"
   ],
   "metadata": {
    "collapsed": false,
    "ExecuteTime": {
     "end_time": "2024-08-06T17:13:03.691144Z",
     "start_time": "2024-08-06T17:13:03.688701Z"
    }
   },
   "id": "b4f009182bc4f82e",
   "outputs": [
    {
     "name": "stdout",
     "output_type": "stream",
     "text": [
      "<class 'complex'>\n"
     ]
    }
   ],
   "execution_count": 178
  },
  {
   "cell_type": "markdown",
   "source": [
    "## Hilfsfunktionen\n",
    "Das Modul `types` enthält eine Reihe von Definitionen von Typnamen, die verwendet werden können, um zu prüfen, ob Variablen von bestimmten Typen sind:"
   ],
   "metadata": {
    "collapsed": false
   },
   "id": "f77b43f56ef67ad0"
  },
  {
   "cell_type": "code",
   "source": [
    "x = 1.0\n",
    "\n",
    "# prüfen, ob die Variable x ein Float ist\n",
    "print(type(x) is float)"
   ],
   "metadata": {
    "collapsed": false,
    "ExecuteTime": {
     "end_time": "2024-08-06T17:13:03.764125Z",
     "start_time": "2024-08-06T17:13:03.761663Z"
    }
   },
   "id": "13d777d7e412b665",
   "outputs": [
    {
     "name": "stdout",
     "output_type": "stream",
     "text": [
      "True\n"
     ]
    }
   ],
   "execution_count": 179
  },
  {
   "cell_type": "code",
   "source": [
    "x = 1.0\n",
    "\n",
    "# prüfen, ob die Variable x ein Int ist\n",
    "print(type(x) is int)"
   ],
   "metadata": {
    "collapsed": false,
    "ExecuteTime": {
     "end_time": "2024-08-06T17:13:03.792756Z",
     "start_time": "2024-08-06T17:13:03.790597Z"
    }
   },
   "id": "4cfd1ee5e1848c52",
   "outputs": [
    {
     "name": "stdout",
     "output_type": "stream",
     "text": [
      "False\n"
     ]
    }
   ],
   "execution_count": 180
  },
  {
   "cell_type": "markdown",
   "source": [
    "Wir können auch die Methode `isinstance()` zum Testen von Variablentypen verwenden:\n"
   ],
   "metadata": {
    "collapsed": false
   },
   "id": "72e807aac005895b"
  },
  {
   "cell_type": "code",
   "source": [
    "print(isinstance(x, float))"
   ],
   "metadata": {
    "collapsed": false,
    "ExecuteTime": {
     "end_time": "2024-08-06T17:13:03.854798Z",
     "start_time": "2024-08-06T17:13:03.852987Z"
    }
   },
   "id": "ae2d6fb7ee337aff",
   "outputs": [
    {
     "name": "stdout",
     "output_type": "stream",
     "text": [
      "True\n"
     ]
    }
   ],
   "execution_count": 181
  },
  {
   "cell_type": "markdown",
   "source": [
    "### Typumwandlung"
   ],
   "metadata": {
    "collapsed": false
   },
   "id": "322280c3f31ba1c6"
  },
  {
   "cell_type": "code",
   "source": [
    "x = 1.5\n",
    "\n",
    "print(x, type(x))"
   ],
   "metadata": {
    "collapsed": false,
    "ExecuteTime": {
     "end_time": "2024-08-06T17:13:03.896266Z",
     "start_time": "2024-08-06T17:13:03.894428Z"
    }
   },
   "id": "9316f94f789afe22",
   "outputs": [
    {
     "name": "stdout",
     "output_type": "stream",
     "text": [
      "1.5 <class 'float'>\n"
     ]
    }
   ],
   "execution_count": 182
  },
  {
   "cell_type": "code",
   "source": [
    "x = int(x)\n",
    "\n",
    "print(x, type(x))"
   ],
   "metadata": {
    "collapsed": false,
    "ExecuteTime": {
     "end_time": "2024-08-06T17:13:03.976888Z",
     "start_time": "2024-08-06T17:13:03.975246Z"
    }
   },
   "id": "66aec1aa0dc0a82a",
   "outputs": [
    {
     "name": "stdout",
     "output_type": "stream",
     "text": [
      "1 <class 'int'>\n"
     ]
    }
   ],
   "execution_count": 183
  },
  {
   "cell_type": "markdown",
   "source": [
    "## Operatoren und Vergleiche\n",
    "Die meisten Operatoren und Vergleiche in Python funktionieren so, wie man es erwarten würde:\n",
    "\n",
    "<br>\n",
    "\n",
    "* Arithmetische Operatoren `+`, `-`, `*`, `/`, `//` (Ganzzahlige Division), `**` Potenz"
   ],
   "metadata": {
    "collapsed": false
   },
   "id": "293767cd122091ec"
  },
  {
   "cell_type": "code",
   "source": [
    "1 + 2, 1 - 2, 1 * 2, 1 / 2"
   ],
   "metadata": {
    "collapsed": false,
    "ExecuteTime": {
     "end_time": "2024-08-06T17:13:03.996454Z",
     "start_time": "2024-08-06T17:13:03.993108Z"
    }
   },
   "id": "aec9f44380a005ac",
   "outputs": [
    {
     "data": {
      "text/plain": [
       "(3, -1, 2, 0.5)"
      ]
     },
     "execution_count": 184,
     "metadata": {},
     "output_type": "execute_result"
    }
   ],
   "execution_count": 184
  },
  {
   "cell_type": "code",
   "source": [
    "1.0 + 2.0, 1.0 - 2.0, 1.0 * 2.0, 1.0 / 2.0"
   ],
   "metadata": {
    "collapsed": false,
    "ExecuteTime": {
     "end_time": "2024-08-06T17:13:04.046261Z",
     "start_time": "2024-08-06T17:13:04.042598Z"
    }
   },
   "id": "ad043ebcbb050697",
   "outputs": [
    {
     "data": {
      "text/plain": [
       "(3.0, -1.0, 2.0, 0.5)"
      ]
     },
     "execution_count": 185,
     "metadata": {},
     "output_type": "execute_result"
    }
   ],
   "execution_count": 185
  },
  {
   "cell_type": "code",
   "source": [
    "# Ganzzahlige Division von Float Zahlen\n",
    "3.0 // 2.0"
   ],
   "metadata": {
    "collapsed": false,
    "ExecuteTime": {
     "end_time": "2024-08-06T17:13:04.114204Z",
     "start_time": "2024-08-06T17:13:04.112061Z"
    }
   },
   "id": "313681a6dadf3bf3",
   "outputs": [
    {
     "data": {
      "text/plain": [
       "1.0"
      ]
     },
     "execution_count": 186,
     "metadata": {},
     "output_type": "execute_result"
    }
   ],
   "execution_count": 186
  },
  {
   "cell_type": "markdown",
   "source": [
    "**Hinweis**: Der Operator `/` führt in Python 3.x immer eine Fliesskommadivision durch. Dies ist in Python 2.x nicht der Fall, wo das Ergebnis von `/` immer eine ganze Zahl ist, wenn die Operanden ganze Zahlen sind. Genauer gesagt, `1/2 = 0,5` (float) in Python 3.x und `1/2 = 0` (int) in Python 2.x (aber `1.0/2 = 0.5` in Python 2.x).\n",
    "\n",
    "<br>\n",
    "\n",
    "* Die booleschen Operatoren werden mit den Worten `and`, `not` und `or` buchstabiert. Weitere Informationen sind [hier](https://docs.python.org/3/library/stdtypes.html#boolean-operations-and-or-not) zu finden."
   ],
   "metadata": {
    "collapsed": false
   },
   "id": "7b5ea5847d28377"
  },
  {
   "cell_type": "code",
   "source": [
    "True and False"
   ],
   "metadata": {
    "collapsed": false,
    "ExecuteTime": {
     "end_time": "2024-08-06T17:13:04.181882Z",
     "start_time": "2024-08-06T17:13:04.179376Z"
    }
   },
   "id": "db2b39364b3ce9bc",
   "outputs": [
    {
     "data": {
      "text/plain": [
       "False"
      ]
     },
     "execution_count": 187,
     "metadata": {},
     "output_type": "execute_result"
    }
   ],
   "execution_count": 187
  },
  {
   "cell_type": "code",
   "source": [
    "not False"
   ],
   "metadata": {
    "collapsed": false,
    "ExecuteTime": {
     "end_time": "2024-08-06T17:13:04.214170Z",
     "start_time": "2024-08-06T17:13:04.211826Z"
    }
   },
   "id": "a034c7b24b3602d6",
   "outputs": [
    {
     "data": {
      "text/plain": [
       "True"
      ]
     },
     "execution_count": 188,
     "metadata": {},
     "output_type": "execute_result"
    }
   ],
   "execution_count": 188
  },
  {
   "cell_type": "code",
   "source": [
    "True or False"
   ],
   "metadata": {
    "collapsed": false,
    "ExecuteTime": {
     "end_time": "2024-08-06T17:13:04.287225Z",
     "start_time": "2024-08-06T17:13:04.284411Z"
    }
   },
   "id": "5d8b590cbd0d3e6",
   "outputs": [
    {
     "data": {
      "text/plain": [
       "True"
      ]
     },
     "execution_count": 189,
     "metadata": {},
     "output_type": "execute_result"
    }
   ],
   "execution_count": 189
  },
  {
   "cell_type": "markdown",
   "source": [
    "* Vergleichsoperatoren `>`, `<`, `>=` (grösser oder gleich), `<=` (kleiner oder gleich), `==` Gleichheit, `is` identisch."
   ],
   "metadata": {
    "collapsed": false
   },
   "id": "be12d257cdd01012"
  },
  {
   "cell_type": "code",
   "source": [
    "2 > 1, 2 < 1"
   ],
   "metadata": {
    "collapsed": false,
    "ExecuteTime": {
     "end_time": "2024-08-06T17:13:04.326279Z",
     "start_time": "2024-08-06T17:13:04.323984Z"
    }
   },
   "id": "61660c3af31d0789",
   "outputs": [
    {
     "data": {
      "text/plain": [
       "(True, False)"
      ]
     },
     "execution_count": 190,
     "metadata": {},
     "output_type": "execute_result"
    }
   ],
   "execution_count": 190
  },
  {
   "cell_type": "code",
   "source": [
    "2 > 2, 2 < 2"
   ],
   "metadata": {
    "collapsed": false,
    "ExecuteTime": {
     "end_time": "2024-08-06T17:13:04.409153Z",
     "start_time": "2024-08-06T17:13:04.406485Z"
    }
   },
   "id": "1070c468f6dcf124",
   "outputs": [
    {
     "data": {
      "text/plain": [
       "(False, False)"
      ]
     },
     "execution_count": 191,
     "metadata": {},
     "output_type": "execute_result"
    }
   ],
   "execution_count": 191
  },
  {
   "cell_type": "code",
   "source": [
    "2 >= 2, 2 <= 2"
   ],
   "metadata": {
    "collapsed": false,
    "ExecuteTime": {
     "end_time": "2024-08-06T17:13:04.444329Z",
     "start_time": "2024-08-06T17:13:04.441851Z"
    }
   },
   "id": "4a7c802634504ae3",
   "outputs": [
    {
     "data": {
      "text/plain": [
       "(True, True)"
      ]
     },
     "execution_count": 192,
     "metadata": {},
     "output_type": "execute_result"
    }
   ],
   "execution_count": 192
  },
  {
   "cell_type": "markdown",
   "source": [
    "## Zusammengesetzte Typen\n",
    "### Zeichenketten\n",
    "\n",
    "Strings sind der Variablentyp, der für die Speicherung von Textnachrichten verwendet wird. "
   ],
   "metadata": {
    "collapsed": false
   },
   "id": "f4a3a3c84ce073d"
  },
  {
   "cell_type": "code",
   "source": [
    "s = \"Hallo Peter\"\n",
    "print(type(s))"
   ],
   "metadata": {
    "collapsed": false,
    "ExecuteTime": {
     "end_time": "2024-08-06T17:13:04.510184Z",
     "start_time": "2024-08-06T17:13:04.508265Z"
    }
   },
   "id": "f9ee6cb181c21910",
   "outputs": [
    {
     "name": "stdout",
     "output_type": "stream",
     "text": [
      "<class 'str'>\n"
     ]
    }
   ],
   "execution_count": 193
  },
  {
   "cell_type": "code",
   "source": [
    "# Länge der Zeichenkette: die Anzahl der Zeichen\n",
    "print(len(s))"
   ],
   "metadata": {
    "collapsed": false,
    "ExecuteTime": {
     "end_time": "2024-08-06T17:13:04.550772Z",
     "start_time": "2024-08-06T17:13:04.548613Z"
    }
   },
   "id": "4e02bd47ab941943",
   "outputs": [
    {
     "name": "stdout",
     "output_type": "stream",
     "text": [
      "11\n"
     ]
    }
   ],
   "execution_count": 194
  },
  {
   "cell_type": "code",
   "source": [
    "# Eine Teilzeichenkette in einer Zeichenkette durch etwas anderes ersetzen\n",
    "s = s.replace(\"Peter\", \"Daniel\")\n",
    "print(s)"
   ],
   "metadata": {
    "collapsed": false,
    "ExecuteTime": {
     "end_time": "2024-08-06T17:13:04.631100Z",
     "start_time": "2024-08-06T17:13:04.628200Z"
    }
   },
   "id": "5afaddd89bd98dd3",
   "outputs": [
    {
     "name": "stdout",
     "output_type": "stream",
     "text": [
      "Hallo Daniel\n"
     ]
    }
   ],
   "execution_count": 195
  },
  {
   "cell_type": "markdown",
   "source": [
    "Wir können ein Zeichen in einer Zeichenkette mit `[]` indizieren:"
   ],
   "metadata": {
    "collapsed": false
   },
   "id": "bfc34ef9be3c76f9"
  },
  {
   "cell_type": "code",
   "source": [
    "print(s[0])"
   ],
   "metadata": {
    "collapsed": false,
    "ExecuteTime": {
     "end_time": "2024-08-06T17:13:04.666122Z",
     "start_time": "2024-08-06T17:13:04.663521Z"
    }
   },
   "id": "fa3888c5705d8b65",
   "outputs": [
    {
     "name": "stdout",
     "output_type": "stream",
     "text": [
      "H\n"
     ]
    }
   ],
   "execution_count": 196
  },
  {
   "cell_type": "markdown",
   "source": [
    "Wir können einen Teil einer Zeichenkette mit der Syntax `[start:stop]` extrahieren, wobei die Zeichen zwischen Index `start` und `stop` -1 berücksichtigt werden (das Zeichen bei Index `stop` wird nicht berücksichtigt):"
   ],
   "metadata": {
    "collapsed": false
   },
   "id": "834d4e09eabbcc25"
  },
  {
   "cell_type": "code",
   "source": [
    "print(s[0:5])\n",
    "print(s[4:5])"
   ],
   "metadata": {
    "collapsed": false,
    "ExecuteTime": {
     "end_time": "2024-08-06T17:13:04.729171Z",
     "start_time": "2024-08-06T17:13:04.727009Z"
    }
   },
   "id": "42e4f2c7a78c9b4",
   "outputs": [
    {
     "name": "stdout",
     "output_type": "stream",
     "text": [
      "Hallo\n",
      "o\n"
     ]
    }
   ],
   "execution_count": 197
  },
  {
   "cell_type": "markdown",
   "source": [
    "Wenn wir eines (oder beide) von `start` oder `stop` aus `[start:stop]` weglassen, ist die Vorgabe der Anfang bzw. das Ende der Zeichenkette:"
   ],
   "metadata": {
    "collapsed": false
   },
   "id": "32d9b1e72b7ea80a"
  },
  {
   "cell_type": "code",
   "source": [
    "print(s[:5])\n",
    "print(s[6:])\n",
    "print(s[:])"
   ],
   "metadata": {
    "collapsed": false,
    "ExecuteTime": {
     "end_time": "2024-08-06T17:13:04.766945Z",
     "start_time": "2024-08-06T17:13:04.764994Z"
    }
   },
   "id": "356d007b4765844",
   "outputs": [
    {
     "name": "stdout",
     "output_type": "stream",
     "text": [
      "Hallo\n",
      "Daniel\n",
      "Hallo Daniel\n"
     ]
    }
   ],
   "execution_count": 198
  },
  {
   "cell_type": "markdown",
   "source": [
    "Wir können die Schrittgrösse auch mit der Syntax `[start:stop:schritt]` definieren (der Standardwert für `schritt` ist 1, wie wir oben gesehen haben):"
   ],
   "metadata": {
    "collapsed": false
   },
   "id": "e811545a15f30484"
  },
  {
   "cell_type": "code",
   "source": [
    "print(s[::1])\n",
    "print(s[::2])"
   ],
   "metadata": {
    "collapsed": false,
    "ExecuteTime": {
     "end_time": "2024-08-06T17:13:04.847474Z",
     "start_time": "2024-08-06T17:13:04.845398Z"
    }
   },
   "id": "24ffbdd2e6e6c94d",
   "outputs": [
    {
     "name": "stdout",
     "output_type": "stream",
     "text": [
      "Hallo Daniel\n",
      "HloDne\n"
     ]
    }
   ],
   "execution_count": 199
  },
  {
   "cell_type": "markdown",
   "source": [
    "Diese Technik wird _Slicing_ genannt. Lesen Sie [hier](https://docs.python.org/3/library/functions.html?highlight=slice#slice) mehr über die Syntax.\n",
    "\n",
    "Python verfügt über einen sehr umfangreichen Satz von [Funktionen](https://docs.python.org/3/library/string.html) für die Textverarbeitung. "
   ],
   "metadata": {
    "collapsed": false
   },
   "id": "54e2496e5942d999"
  },
  {
   "cell_type": "markdown",
   "source": [
    "**Beispiele für die Formatierung von Zeichenketten**"
   ],
   "metadata": {
    "collapsed": false
   },
   "id": "16dbf4f5836f2ca5"
  },
  {
   "cell_type": "code",
   "source": [
    "print(\"str1\", \"str2\", \"str3\")  # Die print-Anweisung verkettet Zeichenketten mit einem Leerzeichen"
   ],
   "metadata": {
    "collapsed": false,
    "ExecuteTime": {
     "end_time": "2024-08-06T17:13:04.877415Z",
     "start_time": "2024-08-06T17:13:04.873810Z"
    }
   },
   "id": "e05c547fb83aa6ed",
   "outputs": [
    {
     "name": "stdout",
     "output_type": "stream",
     "text": [
      "str1 str2 str3\n"
     ]
    }
   ],
   "execution_count": 200
  },
  {
   "cell_type": "code",
   "source": "print(\"str1\" + \"str2\" + \"str3\")  # mit + hinzugefügte Zeichenfolgen werden ohne Leerzeichen verkettet",
   "metadata": {
    "collapsed": false,
    "ExecuteTime": {
     "end_time": "2024-08-06T17:13:04.945471Z",
     "start_time": "2024-08-06T17:13:04.942947Z"
    }
   },
   "id": "d64dcb03d1ac2217",
   "outputs": [
    {
     "name": "stdout",
     "output_type": "stream",
     "text": [
      "str1str2str3\n"
     ]
    }
   ],
   "execution_count": 201
  },
  {
   "cell_type": "code",
   "source": "print(\"value = %f\" % 1.0)  # wir können eine String-Formatierung im C-Stil verwenden",
   "metadata": {
    "collapsed": false,
    "ExecuteTime": {
     "end_time": "2024-08-06T17:13:04.985498Z",
     "start_time": "2024-08-06T17:13:04.983273Z"
    }
   },
   "id": "3ca8f6dae1a44f73",
   "outputs": [
    {
     "name": "stdout",
     "output_type": "stream",
     "text": [
      "value = 1.000000\n"
     ]
    }
   ],
   "execution_count": 202
  },
  {
   "cell_type": "code",
   "source": [
    "# Diese Formatierung erzeugt eine Zeichenkette\n",
    "s = \"value1 = %.2f. value2 = %d\" % (3.1415, 1.5)\n",
    "\n",
    "print(s)"
   ],
   "metadata": {
    "collapsed": false,
    "ExecuteTime": {
     "end_time": "2024-08-06T17:13:05.044238Z",
     "start_time": "2024-08-06T17:13:05.041825Z"
    }
   },
   "id": "512e70373955cc50",
   "outputs": [
    {
     "name": "stdout",
     "output_type": "stream",
     "text": [
      "value1 = 3.14. value2 = 1\n"
     ]
    }
   ],
   "execution_count": 203
  },
  {
   "cell_type": "code",
   "source": [
    "# Alternative, intuitivere Methode zur Formatierung einer Zeichenkette  \n",
    "s = 'value1 = {0}, value2 = {1}'.format(3.1415, 1.5)\n",
    "\n",
    "print(s)"
   ],
   "metadata": {
    "collapsed": false,
    "ExecuteTime": {
     "end_time": "2024-08-06T17:13:05.086505Z",
     "start_time": "2024-08-06T17:13:05.084309Z"
    }
   },
   "id": "7f5693873eeb0a3c",
   "outputs": [
    {
     "name": "stdout",
     "output_type": "stream",
     "text": [
      "value1 = 3.1415, value2 = 1.5\n"
     ]
    }
   ],
   "execution_count": 204
  },
  {
   "cell_type": "markdown",
   "source": [
    "Die Formatierung einer Zeichenkette ist ein sehr umfangreiches Thema, welches in diesem kurzen Abschnitt nichtvollständig abgehandelt werden kann. Aus diesem Grund hier einige Referenzen zu weitergehenden Informationen:\n",
    "\n",
    "- [Python Dokumentation](https://docs.python.org/3/library/string.html#custom-string-formatting) - Benutzerdefinierte String-Formatierung\n",
    "- [RealPython](https://realpython.com/python-string-formatting/) - Python String Formatierung Best Practices\n",
    "- [W3Schools](https://www.w3schools.com/python/ref_string_format.asp) - Python String `format()` Methode  "
   ],
   "metadata": {
    "collapsed": false
   },
   "id": "694baad515f356e0"
  },
  {
   "cell_type": "markdown",
   "source": [
    "### Listen\n",
    "Listen sind den Zeichenketten sehr ähnlich, mit dem Unterschied, dass jedes Element von beliebigem Typ sein kann."
   ],
   "metadata": {
    "collapsed": false
   },
   "id": "b9f67a27689d6531"
  },
  {
   "cell_type": "code",
   "source": [
    "l = [1, 2, 3, 4]\n",
    "print(type(l))\n",
    "print(l)"
   ],
   "metadata": {
    "collapsed": false,
    "ExecuteTime": {
     "end_time": "2024-08-06T17:13:05.169500Z",
     "start_time": "2024-08-06T17:13:05.167510Z"
    }
   },
   "id": "6463f570723707a0",
   "outputs": [
    {
     "name": "stdout",
     "output_type": "stream",
     "text": [
      "<class 'list'>\n",
      "[1, 2, 3, 4]\n"
     ]
    }
   ],
   "execution_count": 205
  },
  {
   "cell_type": "markdown",
   "source": [
    "Für die Bearbeitung von Listen können wir dieselben _Slicing_-Techniken verwenden, die wir auch für Zeichenketten anwenden können:"
   ],
   "metadata": {
    "collapsed": false
   },
   "id": "eb9cc62cf70cba21"
  },
  {
   "cell_type": "code",
   "source": [
    "print(l)\n",
    "\n",
    "print(l[1:3])\n",
    "\n",
    "print(l[::2])"
   ],
   "metadata": {
    "collapsed": false,
    "ExecuteTime": {
     "end_time": "2024-08-06T17:13:05.195658Z",
     "start_time": "2024-08-06T17:13:05.193680Z"
    }
   },
   "id": "4f23526ea2df3411",
   "outputs": [
    {
     "name": "stdout",
     "output_type": "stream",
     "text": [
      "[1, 2, 3, 4]\n",
      "[2, 3]\n",
      "[1, 3]\n"
     ]
    }
   ],
   "execution_count": 206
  },
  {
   "cell_type": "markdown",
   "source": [
    "Die Elemente in einer Liste müssen nicht alle vom gleichen Typ sein:"
   ],
   "metadata": {
    "collapsed": false
   },
   "id": "2bcd0868cd5d232b"
  },
  {
   "cell_type": "code",
   "source": [
    "l = [1, 'a', 1.0, 1 - 1j]\n",
    "\n",
    "print(l)"
   ],
   "metadata": {
    "collapsed": false,
    "ExecuteTime": {
     "end_time": "2024-08-06T17:13:05.281389Z",
     "start_time": "2024-08-06T17:13:05.279721Z"
    }
   },
   "id": "b759074135ab5970",
   "outputs": [
    {
     "name": "stdout",
     "output_type": "stream",
     "text": [
      "[1, 'a', 1.0, (1-1j)]\n"
     ]
    }
   ],
   "execution_count": 207
  },
  {
   "cell_type": "markdown",
   "source": [
    "Python-Listen können inhomogen und willkürlich verschachtelt sein:"
   ],
   "metadata": {
    "collapsed": false
   },
   "id": "890004ad60649a5e"
  },
  {
   "cell_type": "code",
   "source": [
    "my_list = [1, [2.0, [3.4, ['Daniel', [5]]]]]\n",
    "\n",
    "print(my_list)"
   ],
   "metadata": {
    "collapsed": false,
    "ExecuteTime": {
     "end_time": "2024-08-06T17:13:05.300064Z",
     "start_time": "2024-08-06T17:13:05.298121Z"
    }
   },
   "id": "7d5cd3b9a9939680",
   "outputs": [
    {
     "name": "stdout",
     "output_type": "stream",
     "text": [
      "[1, [2.0, [3.4, ['Daniel', [5]]]]]\n"
     ]
    }
   ],
   "execution_count": 208
  },
  {
   "cell_type": "markdown",
   "source": [
    "Listen spielen in Python eine sehr wichtige Rolle. Sie werden zum Beispiel in Schleifen und anderen Flusskontrollstrukturen verwendet. Es gibt eine Reihe praktischer Funktionen zur Erzeugung von Listen verschiedener Typen, zum Beispiel die Funktion `range()`):\n"
   ],
   "metadata": {
    "collapsed": false
   },
   "id": "1ef7162e739eef0f"
  },
  {
   "cell_type": "code",
   "source": [
    "start = 10\n",
    "stop = 30\n",
    "step = 2\n",
    "\n",
    "range(start, stop, step)"
   ],
   "metadata": {
    "collapsed": false,
    "ExecuteTime": {
     "end_time": "2024-08-06T17:13:05.338259Z",
     "start_time": "2024-08-06T17:13:05.335553Z"
    }
   },
   "id": "42eca5931de52420",
   "outputs": [
    {
     "data": {
      "text/plain": [
       "range(10, 30, 2)"
      ]
     },
     "execution_count": 209,
     "metadata": {},
     "output_type": "execute_result"
    }
   ],
   "execution_count": 209
  },
  {
   "cell_type": "code",
   "source": [
    "# In Python 3 erzeugt range() einen Iterator, der mit 'list(...)' in eine Liste umgewandelt werden kann.\n",
    "print(list(range(start, stop, step)))"
   ],
   "metadata": {
    "collapsed": false,
    "ExecuteTime": {
     "end_time": "2024-08-06T17:13:05.415970Z",
     "start_time": "2024-08-06T17:13:05.413896Z"
    }
   },
   "id": "3957ebc5fe1e2ba8",
   "outputs": [
    {
     "name": "stdout",
     "output_type": "stream",
     "text": [
      "[10, 12, 14, 16, 18, 20, 22, 24, 26, 28]\n"
     ]
    }
   ],
   "execution_count": 210
  },
  {
   "cell_type": "code",
   "source": [
    "print(list(range(-10, 11)))"
   ],
   "metadata": {
    "collapsed": false,
    "ExecuteTime": {
     "end_time": "2024-08-06T17:13:05.458734Z",
     "start_time": "2024-08-06T17:13:05.456908Z"
    }
   },
   "id": "6e51d4e95ccc0c1",
   "outputs": [
    {
     "name": "stdout",
     "output_type": "stream",
     "text": [
      "[-10, -9, -8, -7, -6, -5, -4, -3, -2, -1, 0, 1, 2, 3, 4, 5, 6, 7, 8, 9, 10]\n"
     ]
    }
   ],
   "execution_count": 211
  },
  {
   "cell_type": "markdown",
   "source": [
    "**Funktionen des Datentype `List`**\n",
    "\n",
    "Eine Liste kann zusätzlich mit den folgenden Funktionen bearbeitet werden:"
   ],
   "metadata": {
    "collapsed": false
   },
   "id": "296ee704844fd9e6"
  },
  {
   "cell_type": "markdown",
   "source": [
    "Mit `append()` kannst  du deine Python Liste verlängern. Du schreibst einfach den Namen von deiner Liste und dahinter .append(). In die Klammern schreibst du das neue Listenelement, das du anhängen willst (Zeile 2)."
   ],
   "metadata": {
    "collapsed": false
   },
   "id": "a67660cdcbd2adc5"
  },
  {
   "cell_type": "code",
   "source": [
    "zahlen = [3, 4, \"fünf\"]\n",
    "\n",
    "zahlen.append(1)\n",
    "print(zahlen)"
   ],
   "metadata": {
    "collapsed": false,
    "ExecuteTime": {
     "end_time": "2024-08-06T17:13:05.515398Z",
     "start_time": "2024-08-06T17:13:05.513626Z"
    }
   },
   "id": "616387501b89b8c3",
   "outputs": [
    {
     "name": "stdout",
     "output_type": "stream",
     "text": [
      "[3, 4, 'fünf', 1]\n"
     ]
    }
   ],
   "execution_count": 212
  },
  {
   "cell_type": "markdown",
   "source": [
    "Falls du mehrere Elemente hinzufügen möchtest, kannst du `extend()` benutzen. Es funktioniert wie `append()`, nur dass es gleich eine Liste von neuen Werten an die alte Liste anhängt."
   ],
   "metadata": {
    "collapsed": false
   },
   "id": "d7488f7c6029987d"
  },
  {
   "cell_type": "code",
   "source": [
    "zahlen = [3, 4, \"fünf\"]\n",
    "\n",
    "zahlen.extend([1, 8, 9])\n",
    "print(zahlen)"
   ],
   "metadata": {
    "collapsed": false,
    "ExecuteTime": {
     "end_time": "2024-08-06T17:13:05.554292Z",
     "start_time": "2024-08-06T17:13:05.552324Z"
    }
   },
   "id": "aa1cdbf0143d149e",
   "outputs": [
    {
     "name": "stdout",
     "output_type": "stream",
     "text": [
      "[3, 4, 'fünf', 1, 8, 9]\n"
     ]
    }
   ],
   "execution_count": 213
  },
  {
   "cell_type": "markdown",
   "source": [
    "Wenn du in der Mitte deiner Liste ein neues Element einfügen willst, brauchst du `insert()`. Du schreibst `.insert()` hinter den Namen deiner Liste und notierst in den Klammern welches neue Element du einfügen willst und welchen Index es haben soll. Das neue Element wird hinzugefügt und deine Liste länger."
   ],
   "metadata": {
    "collapsed": false
   },
   "id": "822cefa219eb97de"
  },
  {
   "cell_type": "code",
   "source": [
    "obst = [\"Apfel\", \"Banane\", \"Erdbeere\"]\n",
    "\n",
    "obst.insert(1, \"Pfirsich\")\n",
    "print(obst)"
   ],
   "metadata": {
    "collapsed": false,
    "ExecuteTime": {
     "end_time": "2024-08-06T17:13:05.627988Z",
     "start_time": "2024-08-06T17:13:05.625948Z"
    }
   },
   "id": "e18341703de898cd",
   "outputs": [
    {
     "name": "stdout",
     "output_type": "stream",
     "text": [
      "['Apfel', 'Pfirsich', 'Banane', 'Erdbeere']\n"
     ]
    }
   ],
   "execution_count": 214
  },
  {
   "cell_type": "markdown",
   "source": [
    "Falls du allerdings ein Element aus deiner Liste entfernen willst, brauchst du die Funktion `remove()`. Wie bei den anderen Funktionen schreibst du hinter deinen Listennamen `.remove()`. In die Klammern kommt das Element, das du aus der Liste entfernen möchtest."
   ],
   "metadata": {
    "collapsed": false
   },
   "id": "73caa8d9bacf797c"
  },
  {
   "cell_type": "code",
   "source": [
    "farben = [\"grün\", \"blau\", \"rot\", \"blau\"]\n",
    "\n",
    "farben.remove(\"blau\")  # Es wird nur das erste Element entfernt\n",
    "print(farben)"
   ],
   "metadata": {
    "collapsed": false,
    "ExecuteTime": {
     "end_time": "2024-08-06T17:13:05.709076Z",
     "start_time": "2024-08-06T17:13:05.706853Z"
    }
   },
   "id": "9a676c24b68220f6",
   "outputs": [
    {
     "name": "stdout",
     "output_type": "stream",
     "text": [
      "['grün', 'rot', 'blau']\n"
     ]
    }
   ],
   "execution_count": 215
  },
  {
   "cell_type": "markdown",
   "source": [
    "Es gibt noch einen zweiten Weg ein Element aus deiner Liste zu entfernen: den Befehl `del`. Du schreibst hinter das Schlüsselwort `del` einfach den Namen deiner Liste und in eckigen Klammern den Index, den du entfernen willst."
   ],
   "metadata": {
    "collapsed": false
   },
   "id": "a0373a4585a5e660"
  },
  {
   "cell_type": "code",
   "source": [
    "farben = [\"grün\", \"blau\", \"rot\", \"blau\"]\n",
    "\n",
    "del farben[2]\n",
    "print(farben)\n",
    "\n",
    "del farben      # Vorsicht: So wird die ganze Liste gelöscht\n",
    "# print(farben) # Gibt eine entsprechende Fehlermeldung aus"
   ],
   "metadata": {
    "collapsed": false,
    "ExecuteTime": {
     "end_time": "2024-08-06T17:13:05.742642Z",
     "start_time": "2024-08-06T17:13:05.740655Z"
    }
   },
   "id": "4ae271ababc43d10",
   "outputs": [
    {
     "name": "stdout",
     "output_type": "stream",
     "text": [
      "['grün', 'blau', 'blau']\n"
     ]
    }
   ],
   "execution_count": 216
  },
  {
   "cell_type": "markdown",
   "source": [
    "Falls du nur den Wert, aber nicht den Index eines Elements kennst, findest du mit der Funktion `index()` seinen Index heraus. Dafür schreibst du hinter den Namen deiner Liste `.index` (Zeile 3). Danach kommt das Element, das du suchst, in runden Klammern. So findest du aber nur den Index des ersten passenden Elements mit dem gesuchten Wert. Hier hat das letzte Element zum Beispiel auch den Wert „blau“, aber es wurde nur der Index 1 gefunden."
   ],
   "metadata": {
    "collapsed": false
   },
   "id": "7bd8b95f7a58ad1"
  },
  {
   "cell_type": "code",
   "source": [
    "farben = [\"grün\", \"blau\", \"rot\", \"blau\"]\n",
    "\n",
    "i = farben.index(\"blau\")\n",
    "print(f\"Index = {i}\")"
   ],
   "metadata": {
    "collapsed": false,
    "ExecuteTime": {
     "end_time": "2024-08-06T17:13:05.818959Z",
     "start_time": "2024-08-06T17:13:05.816763Z"
    }
   },
   "id": "c1d588ffbc0df2ac",
   "outputs": [
    {
     "name": "stdout",
     "output_type": "stream",
     "text": [
      "Index = 1\n"
     ]
    }
   ],
   "execution_count": 217
  },
  {
   "cell_type": "markdown",
   "source": [
    "Du willst deine Liste fein säuberlich geordnet haben? Kein Problem! Dafür gibt es die Funktion sort(). Wenn du die runden Klammern leer lässt (Zeile 2), werden die Zahlen in deiner Liste aufsteigend sortiert. Schreibst du reverse = True in die Klammern, sortiert Python die Zahlen absteigend (Zeile 4)."
   ],
   "metadata": {
    "collapsed": false
   },
   "id": "ce3acec3fe66a723"
  },
  {
   "cell_type": "code",
   "source": [
    "liste = [2, 1, 4, 3]\n",
    "liste.sort()\n",
    "print(liste)\n",
    "liste.sort(reverse=True)\n",
    "print(liste)"
   ],
   "metadata": {
    "collapsed": false,
    "ExecuteTime": {
     "end_time": "2024-08-06T17:13:05.856336Z",
     "start_time": "2024-08-06T17:13:05.853858Z"
    }
   },
   "id": "53b92d211bb4eb0",
   "outputs": [
    {
     "name": "stdout",
     "output_type": "stream",
     "text": [
      "[1, 2, 3, 4]\n",
      "[4, 3, 2, 1]\n"
     ]
    }
   ],
   "execution_count": 218
  },
  {
   "cell_type": "markdown",
   "source": [
    "### Tupel\n",
    "Tupel sind wie Listen, mit dem Unterschied, dass sie nach ihrer Erstellung nicht mehr verändert werden können, d.h. sie sind *unveränderlich*. \n",
    "\n",
    "In Python werden Tupel mit der Syntax `(..., ..., ...)`, oder auch `..., ...` erstellt:"
   ],
   "metadata": {
    "collapsed": false
   },
   "id": "60be20f2a0ad27da"
  },
  {
   "cell_type": "code",
   "source": [
    "point = (10, 20)\n",
    "\n",
    "print(point, type(point))"
   ],
   "metadata": {
    "collapsed": false,
    "ExecuteTime": {
     "end_time": "2024-08-06T17:13:05.923738Z",
     "start_time": "2024-08-06T17:13:05.921803Z"
    }
   },
   "id": "961b45eb2540315e",
   "outputs": [
    {
     "name": "stdout",
     "output_type": "stream",
     "text": [
      "(10, 20) <class 'tuple'>\n"
     ]
    }
   ],
   "execution_count": 219
  },
  {
   "cell_type": "code",
   "source": [
    "point = 10, 20\n",
    "\n",
    "print(point, type(point))"
   ],
   "metadata": {
    "collapsed": false,
    "ExecuteTime": {
     "end_time": "2024-08-06T17:13:05.959816Z",
     "start_time": "2024-08-06T17:13:05.957981Z"
    }
   },
   "id": "175aaf653b614fcf",
   "outputs": [
    {
     "name": "stdout",
     "output_type": "stream",
     "text": [
      "(10, 20) <class 'tuple'>\n"
     ]
    }
   ],
   "execution_count": 220
  },
  {
   "cell_type": "markdown",
   "source": [
    "Wir können ein Tupel entpacken, indem wir es einer durch Komma getrennten Liste von Variablen zuordnen:"
   ],
   "metadata": {
    "collapsed": false
   },
   "id": "f6003e07dbcaf464"
  },
  {
   "cell_type": "code",
   "source": [
    "x, y = point\n",
    "\n",
    "print(\"x =\", x)\n",
    "print(\"y =\", y)"
   ],
   "metadata": {
    "collapsed": false,
    "ExecuteTime": {
     "end_time": "2024-08-06T17:13:06.031371Z",
     "start_time": "2024-08-06T17:13:06.029359Z"
    }
   },
   "id": "663feb4d31cc74e2",
   "outputs": [
    {
     "name": "stdout",
     "output_type": "stream",
     "text": [
      "x = 10\n",
      "y = 20\n"
     ]
    }
   ],
   "execution_count": 221
  },
  {
   "cell_type": "code",
   "source": [
    "point[0] = 20"
   ],
   "metadata": {
    "collapsed": false,
    "ExecuteTime": {
     "end_time": "2024-08-06T17:13:06.072347Z",
     "start_time": "2024-08-06T17:13:06.047266Z"
    }
   },
   "id": "17d8779011159242",
   "outputs": [
    {
     "ename": "TypeError",
     "evalue": "'tuple' object does not support item assignment",
     "output_type": "error",
     "traceback": [
      "\u001B[0;31m---------------------------------------------------------------------------\u001B[0m",
      "\u001B[0;31mTypeError\u001B[0m                                 Traceback (most recent call last)",
      "Cell \u001B[0;32mIn[222], line 1\u001B[0m\n\u001B[0;32m----> 1\u001B[0m \u001B[43mpoint\u001B[49m\u001B[43m[\u001B[49m\u001B[38;5;241;43m0\u001B[39;49m\u001B[43m]\u001B[49m \u001B[38;5;241m=\u001B[39m \u001B[38;5;241m20\u001B[39m\n",
      "\u001B[0;31mTypeError\u001B[0m: 'tuple' object does not support item assignment"
     ]
    }
   ],
   "execution_count": 222
  },
  {
   "cell_type": "markdown",
   "source": [
    "Wenn wir versuchen, einem Element in einem Tupel einen neuen Wert zuzuweisen, erhalten wir einen Fehler:"
   ],
   "metadata": {
    "collapsed": false
   },
   "id": "3d8d1809205c4350"
  },
  {
   "cell_type": "markdown",
   "source": [
    "### Wörterbücher (_Dictionaries_)\n",
    "Dictionaries sind ebenfalls wie Listen, nur dass jedes Element ein Schlüssel-Wert-Paar ist. Die Syntax für Wörterbücher ist"
   ],
   "metadata": {
    "collapsed": false
   },
   "id": "bb7c9afe56b015b0"
  },
  {
   "cell_type": "code",
   "source": [
    "params = {\n",
    "    \"parameter1\": 1.0,\n",
    "    \"parameter2\": 2.0,\n",
    "    (1, 2): 'Daniel',\n",
    "    3: 3,\n",
    "}\n",
    "\n",
    "print(type(params))\n",
    "print(params)"
   ],
   "metadata": {
    "collapsed": false,
    "ExecuteTime": {
     "end_time": "2024-08-06T17:13:06.090870Z",
     "start_time": "2024-08-06T17:13:06.088540Z"
    }
   },
   "id": "293971d94788c76e",
   "outputs": [
    {
     "name": "stdout",
     "output_type": "stream",
     "text": [
      "<class 'dict'>\n",
      "{'parameter1': 1.0, 'parameter2': 2.0, (1, 2): 'Daniel', 3: 3}\n"
     ]
    }
   ],
   "execution_count": 223
  },
  {
   "cell_type": "code",
   "source": [
    "print(\"parameter1 = \" + str(params[\"parameter1\"]))\n",
    "print(\"parameter2 = \" + str(params[\"parameter2\"]))\n",
    "# print(\"parameter3 = \" + str(params[\"parameter3\"])) # Resultiert in einem KeyError"
   ],
   "metadata": {
    "collapsed": false,
    "ExecuteTime": {
     "end_time": "2024-08-06T17:13:06.166064Z",
     "start_time": "2024-08-06T17:13:06.164117Z"
    }
   },
   "id": "421c5441ab351221",
   "outputs": [
    {
     "name": "stdout",
     "output_type": "stream",
     "text": [
      "parameter1 = 1.0\n",
      "parameter2 = 2.0\n"
     ]
    }
   ],
   "execution_count": 224
  },
  {
   "cell_type": "code",
   "source": [
    "params[\"parameter1\"] = \"A\"\n",
    "params[\"parameter2\"] = \"B\"\n",
    "\n",
    "# add a new entry\n",
    "params[\"parameter4\"] = \"D\"\n",
    "\n",
    "print(\"parameter1 = \" + str(params[\"parameter1\"]))\n",
    "print(\"parameter2 = \" + str(params[\"parameter2\"]))\n",
    "# print(\"parameter3 = \" + str(params[\"parameter3\"])) # Resultiert in einem KeyError\n",
    "print(\"parameter4 = \" + str(params[\"parameter4\"]))"
   ],
   "metadata": {
    "collapsed": false,
    "ExecuteTime": {
     "end_time": "2024-08-06T17:13:06.442494Z",
     "start_time": "2024-08-06T17:13:06.440377Z"
    }
   },
   "id": "69cccde9e237ed93",
   "outputs": [
    {
     "name": "stdout",
     "output_type": "stream",
     "text": [
      "parameter1 = A\n",
      "parameter2 = B\n",
      "parameter4 = D\n"
     ]
    }
   ],
   "execution_count": 225
  },
  {
   "cell_type": "markdown",
   "source": [
    "# Kontrollstukturen\n",
    "\n",
    "---"
   ],
   "metadata": {
    "collapsed": false
   },
   "id": "e1c4df0fff205cfb"
  },
  {
   "metadata": {},
   "cell_type": "markdown",
   "source": [
    "## Anweisungen und Folgen\n",
    "Ein Programm setzt sich aus einer Menge von Anweisungen zusammen, um eine bestimme Aufgabe zu lösen. Anweisungen arbeiten dabei mit den im Programm festgelegten Variablen und führen damit Operationen aus. Die einzelnen Programmiersprachen stellen unterschiedliche Anweisungen zur Verfügung; dabei finden sich jedoch folgende Grundstrukturen wieder:\n",
    "\n",
    "Einfache Anweisungen, z. B. Zuweisung\n",
    "Verzweigungen\n",
    "Schleifen\n",
    "In Python stehen diverse Kontrollstrukturen, die es in anderen modernen Programmiersprachen gibt, nicht oder nur eingeschränkt zur Verfügung. Das mag Umsteigern als Schwäche oder Einschränkung erscheinen, gilt aber im Gegenteil als einer der Hauptvorteile von Python.\n",
    "\n",
    "Der Verzicht auf redundante Syntaxstrukturen führt zu einem klareren und effizienteren Quellcode und zwingt Programmierer zu einem sauberen Stil. Allerdings sollte man als Programmierer auch diejenigen typischen Kontrollstrukturen kennen, die in Sprachen wie Java, JavaScript, PHP, C, C# etc. zum unabdingbaren Standard gehören. Deshalb werden sie in dem Kapitel zumindest vorgestellt und beim Fehlen in Python mit Java-Quellcode skizziert."
   ],
   "id": "ca9a6ed23f237665"
  },
  {
   "metadata": {},
   "cell_type": "markdown",
   "source": [
    "### Einfache Anweisungen\n",
    "Eine Anweisung (engl. _statement_) ist die kleinste ausführbare Einheit eines Programms. In Java, JavaScript und vielen anderen Programmiersprachen wird eine Anweisung mit einem Strichpunkt (Semikolon) abgeschlossen.\n",
    "\n",
    "Beispiel Java: `Integer myNumber = 12;`\n",
    "\n",
    "In einigen Sprachen wird pro Zeile eine Anweisung geschrieben. Ist eine Anweisung so lang, dass sie nicht in eine Zeile passt, wird sie in der nächsten Zeile fortgesetzt. Einige Programmiersprachen verlangen, dass diese Fortsetzungszeile dann mit einem speziellen Fortsetzungszeichen beginnt."
   ],
   "id": "a159b742ec7ed9a8"
  },
  {
   "metadata": {},
   "cell_type": "markdown",
   "source": [
    "### Die Leere Anweisung\n",
    "Die einfachste Form der Anweisung ist die leere Anweisung"
   ],
   "id": "d6590c302363136c"
  },
  {
   "metadata": {
    "ExecuteTime": {
     "end_time": "2024-08-06T17:13:06.473600Z",
     "start_time": "2024-08-06T17:13:06.471876Z"
    }
   },
   "cell_type": "code",
   "source": [
    "pass\n",
    "# oder in Java(;)"
   ],
   "id": "3f880958cbfa5f8c",
   "outputs": [],
   "execution_count": 226
  },
  {
   "metadata": {},
   "cell_type": "markdown",
   "source": "### Zuweisungsanweisung",
   "id": "dca9d66e651d2492"
  },
  {
   "metadata": {
    "ExecuteTime": {
     "end_time": "2024-08-06T17:13:06.542406Z",
     "start_time": "2024-08-06T17:13:06.540851Z"
    }
   },
   "cell_type": "code",
   "source": "i = i + 1",
   "id": "f54815eb80a91053",
   "outputs": [],
   "execution_count": 227
  },
  {
   "metadata": {},
   "cell_type": "markdown",
   "source": "### Ausgabeanweisung",
   "id": "439a7435d677bf8d"
  },
  {
   "metadata": {
    "ExecuteTime": {
     "end_time": "2024-08-06T17:13:06.569120Z",
     "start_time": "2024-08-06T17:13:06.566502Z"
    }
   },
   "cell_type": "code",
   "source": "print('Hallo')",
   "id": "de5f25e4996b7a09",
   "outputs": [
    {
     "name": "stdout",
     "output_type": "stream",
     "text": [
      "Hallo\n"
     ]
    }
   ],
   "execution_count": 228
  },
  {
   "metadata": {},
   "cell_type": "markdown",
   "source": "### Eingabeanweisung",
   "id": "d245a41d4b894ee"
  },
  {
   "metadata": {
    "ExecuteTime": {
     "end_time": "2024-08-06T17:13:11.138349Z",
     "start_time": "2024-08-06T17:13:06.633267Z"
    }
   },
   "cell_type": "code",
   "source": [
    "name = input(\"Gib deinen Namen ein: \")\n",
    "print(name)"
   ],
   "id": "59cee739685ff25b",
   "outputs": [
    {
     "name": "stdout",
     "output_type": "stream",
     "text": [
      "Daniel\n"
     ]
    }
   ],
   "execution_count": 229
  },
  {
   "metadata": {},
   "cell_type": "markdown",
   "source": [
    "### Folgen\n",
    "Eine Folge, auch Sequenz genannt, ist eine Liste von Anweisungen, die nacheinander (sequenziell) abgearbeitet werden."
   ],
   "id": "bf48d95f23a2500"
  },
  {
   "metadata": {
    "ExecuteTime": {
     "end_time": "2024-08-06T17:13:11.143343Z",
     "start_time": "2024-08-06T17:13:11.140372Z"
    }
   },
   "cell_type": "code",
   "source": [
    "net_amount = 7.85  # Nettopreis\n",
    "vat = 0.081        # MWST\n",
    "total_amount = net_amount * (1 + vat)\n",
    "print(f'Berechneter Bruttopreis: {total_amount:.2f}') # Ausgeben von zwei Nachkommastellen"
   ],
   "id": "b62ca03cf30d019a",
   "outputs": [
    {
     "name": "stdout",
     "output_type": "stream",
     "text": [
      "Berechneter Bruttopreis: 8.49\n"
     ]
    }
   ],
   "execution_count": 230
  },
  {
   "metadata": {},
   "cell_type": "markdown",
   "source": "## Bedingungen und Kontrollstrukturen",
   "id": "a7251fc9c543e0d0"
  },
  {
   "metadata": {},
   "cell_type": "markdown",
   "source": [
    "### Bedingungen\n",
    "Durch eine Bedingung (engl. _condition_) wird der Ablauf eines Programms beeinflusst. Es wird ein logischer Ausdruck ausgewertet. Für die Formulierung solcher Bedingungen stehen die Vergleichsoperatoren und die logischen Operatoren zur Verfügung. Eine Bedingung kann entweder mit „Ja“ beantwortet werden (`True` bzw. wahr) oder mit „Nein“ (`False`  bzw. falsch). Vom Ergebnis der Bedingung ist abhängig, welche Anweisungen des Programms danach abgearbeitet werden und welche nicht."
   ],
   "id": "a925fc52601388c3"
  },
  {
   "metadata": {
    "ExecuteTime": {
     "end_time": "2024-08-06T17:13:11.185598Z",
     "start_time": "2024-08-06T17:13:11.183419Z"
    }
   },
   "cell_type": "code",
   "source": [
    "zahl = 50\n",
    "print((zahl % 2) == 0)\n",
    "print((zahl > 40) and (zahl < 51))\n",
    "print(zahl > 60 or zahl == 50)"
   ],
   "id": "5a22cb71c200a045",
   "outputs": [
    {
     "name": "stdout",
     "output_type": "stream",
     "text": [
      "True\n",
      "True\n",
      "True\n"
     ]
    }
   ],
   "execution_count": 231
  },
  {
   "metadata": {},
   "cell_type": "markdown",
   "source": "### Grundlagen zu Verzweigungen",
   "id": "cbc09e9c9bbdce3"
  },
  {
   "metadata": {},
   "cell_type": "markdown",
   "source": [
    "Eine Verzweigung kann eine der folgenden Ausprägungen besitzen:\n",
    "\n",
    "- Bedingte Anweisung (Einseitige Verzweigung)\n",
    "- Verzweigung\n",
    "- Geschachtelte Verzweigung"
   ],
   "id": "304b13c213db72b5"
  },
  {
   "metadata": {
    "ExecuteTime": {
     "end_time": "2024-08-06T17:13:11.250896Z",
     "start_time": "2024-08-06T17:13:11.248067Z"
    }
   },
   "cell_type": "code",
   "source": [
    "x = 60\n",
    "\n",
    "# Einseitige Verzweigung\n",
    "if x > 50:\n",
    "    print('Das ist zu teuer...')\n",
    "\n",
    "# Verzweigung\n",
    "if x > 50:\n",
    "    print('Das ist zu teuer...')\n",
    "else:\n",
    "    print('Der Preis ist OK.')\n",
    "\n",
    "# Geschachtelte Verzweigung\n",
    "if x > 50:\n",
    "    print('Das ist zu teuer...')\n",
    "else:\n",
    "    if x < 10:\n",
    "        print('Das ist ein Schnäppchen')\n",
    "    else:\n",
    "        print('Der Preis ist OK.')\n",
    "\n",
    "# Geschachtelte Verzweigung (Vereinfacht)\n",
    "if x > 50:\n",
    "    print('Das ist zu teuer...')\n",
    "elif x < 10:\n",
    "    print('Das ist ein Schnäppchen')\n",
    "else:\n",
    "    print('Der Preis ist OK.')"
   ],
   "id": "bec24a7d80f78fce",
   "outputs": [
    {
     "name": "stdout",
     "output_type": "stream",
     "text": [
      "Das ist zu teuer...\n",
      "Das ist zu teuer...\n",
      "Das ist zu teuer...\n",
      "Das ist zu teuer...\n"
     ]
    }
   ],
   "execution_count": 232
  },
  {
   "metadata": {},
   "cell_type": "markdown",
   "source": "## Schleifen",
   "id": "d1d705b0f1cd65cb"
  },
  {
   "metadata": {},
   "cell_type": "markdown",
   "source": [
    "Zur Umsetzung von Algorithmen müssen die gleichen Anweisungen meist mehrmals wiederholt werden. Häufig ist es dabei auch nicht vorhersehbar, wie oft diese Anweisungen ausgeführt werden sollen. In jeder Programmiersprache gibt es verschiedene Strukturen, die eine wiederholte Ausführung von Anweisungen ermöglichen. Diese Kontrollstrukturen werden als Schleifen bezeichnet.\n",
    "\n",
    "Eine Schleife besteht aus einer Schleifensteuerung und einem Schleifenrumpf. Die Schleifensteuerung gibt an, wie oft oder unter welcher Bedingung die Anweisungen abgearbeitet werden. Innerhalb der Schleifensteuerung befindet sich der Schleifenrumpf, der die zu wiederholenden Anweisungen enthält.\n",
    "\n",
    "Drei Arten von Schleifenstrukturen werden unterschieden:\n",
    "\n",
    "- Zählergesteuerte Schleife\n",
    "- Bedingte Schleife (Kopfgesteuert)\n",
    "- Bedingte Schleife (Fussgesteuert)"
   ],
   "id": "f986aac103107fb"
  },
  {
   "metadata": {},
   "cell_type": "markdown",
   "source": "### Zählergesteuerte Schleife",
   "id": "c89748f01045cab4"
  },
  {
   "metadata": {},
   "cell_type": "markdown",
   "source": "Die zählergesteuerte Schleife (auch For-Schleife genannt) ist dadurch gekennzeichnet, dass die Anzahl der Schleifendurchläufe durch einen Anfangs- und Endwert festgelegt ist.",
   "id": "efdb4a467d37d914"
  },
  {
   "metadata": {
    "ExecuteTime": {
     "end_time": "2024-08-06T17:13:11.347978Z",
     "start_time": "2024-08-06T17:13:11.346033Z"
    }
   },
   "cell_type": "code",
   "source": [
    "languages = ['Python', 'PHP2', 'C#', 'C++', 'Java', 'JavaScript']\n",
    "languages.sort() # Sortieren der Liste\n",
    "\n",
    "print('Wir kennen die folgenden Programmiersprachen:')\n",
    "for language in languages:\n",
    "    print(f'- {language}')"
   ],
   "id": "d866e70ff2018bbf",
   "outputs": [
    {
     "name": "stdout",
     "output_type": "stream",
     "text": [
      "Wir kennen die folgenden Programmiersprachen:\n",
      "- C#\n",
      "- C++\n",
      "- Java\n",
      "- JavaScript\n",
      "- PHP2\n",
      "- Python\n"
     ]
    }
   ],
   "execution_count": 233
  },
  {
   "metadata": {},
   "cell_type": "markdown",
   "source": "### Bedingte Schleife (Kopfgesteuert) ",
   "id": "5dd6572e2a8e0d11"
  },
  {
   "metadata": {},
   "cell_type": "markdown",
   "source": [
    "Bei einer kopfgesteuerten bedingten Schleife wird eine Bedingung ausgewertet, bevor die Anweisungsfolge innerhalb des Schleifenrumpfs ausgeführt wird. Wenn das Ergebnis der Bedingung falsch ist, bevor die Schleife das erste Mal durchlaufen werden soll, werden die darin enthaltenen Anweisungen nie ausgeführt (abweisende Schleife).\n",
    "\n",
    "Wenn das Ergebnis der Bedingung wahr ist, wird die Anweisungsfolge so lange ausgeführt, bis die Bedingung nicht mehr zutrifft.\n",
    "\n",
    "Eine kopfgesteuerte Schleife wird auch abweisende Schleife genannt. Auch die Zählschleife ist eine kopfgesteuerte Schleife. Wenn die Laufvariable den Endwert bereits bei der Initialisierung überschreitet, werden die Anweisungen der Schleife nie ausgeführt.\n",
    "\n",
    "Sie sollten kopfgesteuerte Schleifen einsetzen, wenn das Programm nur dann die Anweisungen der Schleife abarbeiten soll, wenn eine bestimmte Bedingung zutrifft."
   ],
   "id": "61fc237740f696f6"
  },
  {
   "metadata": {
    "ExecuteTime": {
     "end_time": "2024-08-06T17:13:11.397700Z",
     "start_time": "2024-08-06T17:13:11.395502Z"
    }
   },
   "cell_type": "code",
   "source": [
    "countdown = 10\n",
    "\n",
    "while countdown > 0:\n",
    "    print(f'{countdown:2d}') # Rechtsbündige Ausgabe\n",
    "    countdown -= 1           # alternativ: countdown = countdown - 1"
   ],
   "id": "fdd028ccdc5470e6",
   "outputs": [
    {
     "name": "stdout",
     "output_type": "stream",
     "text": [
      "10\n",
      " 9\n",
      " 8\n",
      " 7\n",
      " 6\n",
      " 5\n",
      " 4\n",
      " 3\n",
      " 2\n",
      " 1\n"
     ]
    }
   ],
   "execution_count": 234
  },
  {
   "metadata": {},
   "cell_type": "markdown",
   "source": "### Fussgesteuerte Schleife",
   "id": "55728a1dd2366087"
  },
  {
   "metadata": {},
   "cell_type": "markdown",
   "source": [
    "Bei der fussgesteuerten Schleife findet die Bedingungsprüfung am Ende der Schleife statt.\n",
    "\n",
    "Erst nach Abarbeitung der Anweisungen wird am Ende der Schleife die Bedingung geprüft, ob der Schleifenrumpf noch einmal durchlaufen werden soll oder nicht (annehmende Schleife).\n",
    "\n",
    "Setzen Sie fussgesteuerte Schleifen ein, wenn die Anweisungen innerhalb des Schleifenrumpfs mindestens einmal ausgeführt werden sollen. Erst danach entscheidet eine Bedingungsprüfung, ob die Schleife erneut ausgeführt wird.\n",
    "\n",
    "Python kennt keine fussgesteuerte Schleife in klassischem Sinn. Deshalb wird hier eine Syntax vorgestellt, wie sie in Sprachen wie Java üblich ist. Aber noch einmal zur Verdeutlichung – der Verzicht auf diese Art einer Schleife in Python ist keine Schwäche, sondern ein sehr grosser Vorteil! Es gibt keinen Grund, warum man zwingend eine fussgesteuerte Schleife in einer Programmiersprache benötigt. Man muss lediglich eine Situation beim Erreichen der Schleife so formulieren, dass auch mit einer abweisenden Schleife die Schleife auf jeden Fall einmal durchlaufen wird, etwa durch geschickte Wahl des Wertes der Zählvariable.\n",
    "\n",
    "In Python sorgt der Verzicht also nur für klareren Code und einfachere Syntax."
   ],
   "id": "f6f5799bb00eddad"
  },
  {
   "metadata": {
    "ExecuteTime": {
     "end_time": "2024-08-06T17:13:11.473429Z",
     "start_time": "2024-08-06T17:13:11.471821Z"
    }
   },
   "cell_type": "code",
   "source": [
    "# Beispiel Java\n",
    "\n",
    "# int countdown = 20\n",
    "# do\n",
    "#   System.out.println(countdown)\n",
    "#   countdown -= 1\n",
    "# while (countdown >= 0)"
   ],
   "id": "59b86ccce027594e",
   "outputs": [],
   "execution_count": 235
  },
  {
   "metadata": {},
   "cell_type": "markdown",
   "source": "### Sprunganweisungen",
   "id": "4d4e71cc9fd89f9e"
  },
  {
   "metadata": {},
   "cell_type": "markdown",
   "source": "Nahezu alle modernen Sprachen stellen eine gewisse Anzahl an Sprunganweisungen zur Verfügung. Diese verlassen eine umgebende syntaktische Struktur (beispielsweise eine Schleife) und führen dazu, dass mit der direkten Anweisung hinter der syntaktischen Struktur weitergemacht wird.",
   "id": "fabfb5e7e3872c03"
  },
  {
   "metadata": {},
   "cell_type": "markdown",
   "source": [
    "#### BREAK\n",
    "Die Anweisung `break` beendet eine Schleife sofort, sobald sie im Quelltext erreicht wird. Dies kann in Schleifen genutzt werden, um den weiteren Ablauf zu stoppen und die Schleife vorzeitig zu verlassen."
   ],
   "id": "39d5af1d92d9792c"
  },
  {
   "metadata": {
    "ExecuteTime": {
     "end_time": "2024-08-06T17:13:11.497577Z",
     "start_time": "2024-08-06T17:13:11.495594Z"
    }
   },
   "cell_type": "code",
   "source": [
    "number = 1\n",
    "\n",
    "while number < 10:\n",
    "    print(number)\n",
    "    if number == 5:\n",
    "        break\n",
    "    number += 1"
   ],
   "id": "f0891a351e42ae70",
   "outputs": [
    {
     "name": "stdout",
     "output_type": "stream",
     "text": [
      "1\n",
      "2\n",
      "3\n",
      "4\n",
      "5\n"
     ]
    }
   ],
   "execution_count": 236
  },
  {
   "metadata": {},
   "cell_type": "markdown",
   "source": [
    "#### CONTINUE\n",
    "Mit der Sprunganweisung `continue` können Sie an einer bestimmten Stelle innerhalb eines Schleifenblocks unmittelbar den nächsten Schleifendurchlauf erzwingen und die nachfolgenden Anweisungen im aktuellen Durchlauf der Schleife überspringen. In der Praxis wird continue nicht sehr häufig verwendet, da man stattdessen meist Bedingungen so formulieren kann, dass auf `continue` verzichtet werden kann."
   ],
   "id": "c9527c6c7df89e36"
  },
  {
   "metadata": {
    "ExecuteTime": {
     "end_time": "2024-08-06T17:13:11.526198Z",
     "start_time": "2024-08-06T17:13:11.524109Z"
    }
   },
   "cell_type": "code",
   "source": [
    "number = 0\n",
    "\n",
    "while number < 10:\n",
    "    number += 1\n",
    "    if number == 5 or number == 6: \n",
    "        continue\n",
    "    print(number)"
   ],
   "id": "bf76e68c201c7ff8",
   "outputs": [
    {
     "name": "stdout",
     "output_type": "stream",
     "text": [
      "1\n",
      "2\n",
      "3\n",
      "4\n",
      "7\n",
      "8\n",
      "9\n",
      "10\n"
     ]
    }
   ],
   "execution_count": 237
  },
  {
   "metadata": {},
   "cell_type": "markdown",
   "source": [
    "#### RETURN\n",
    "Im Zusammenhang mit Funktionen und Methoden gibt es die Sprunganweisung `return`. Diese verlässt eine Funktion oder Methode und gibt in der Regel einen Rückgabewert zurück."
   ],
   "id": "c735fd57091929bb"
  },
  {
   "metadata": {
    "ExecuteTime": {
     "end_time": "2024-08-06T17:13:11.619622Z",
     "start_time": "2024-08-06T17:13:11.617242Z"
    }
   },
   "cell_type": "code",
   "source": [
    "def total(number1, number2):\n",
    "    summe = number1 + number2\n",
    "    return summe\n",
    "\n",
    "print(total(5, 15))"
   ],
   "id": "675f93ab6585a460",
   "outputs": [
    {
     "name": "stdout",
     "output_type": "stream",
     "text": [
      "20\n"
     ]
    }
   ],
   "execution_count": 238
  },
  {
   "metadata": {},
   "cell_type": "markdown",
   "source": [
    "#### RAISE\n",
    "Die vierte Sprunganweisung bei Python nennt sich `raise`. Damit werfen Sie eine sogenannte Ausnahme (_Exception_) aus, die den normalen Programm- beziehungsweise Skriptablauf unterbricht und zu einer Behandlungsroutine springt."
   ],
   "id": "be66953c0229a510"
  },
  {
   "metadata": {
    "ExecuteTime": {
     "end_time": "2024-08-06T17:13:11.693748Z",
     "start_time": "2024-08-06T17:13:11.685881Z"
    }
   },
   "cell_type": "code",
   "source": [
    "number = 0\n",
    "\n",
    "while number < 10:\n",
    "    number += 1\n",
    "    if number == 8:\n",
    "        raise Exception('Ausnahmebedingung geworfen!')\n",
    "    print(number)"
   ],
   "id": "ac2612fcca648b1",
   "outputs": [
    {
     "name": "stdout",
     "output_type": "stream",
     "text": [
      "1\n",
      "2\n",
      "3\n",
      "4\n",
      "5\n",
      "6\n",
      "7\n"
     ]
    },
    {
     "ename": "Exception",
     "evalue": "Ausnahmebedingung geworfen!",
     "output_type": "error",
     "traceback": [
      "\u001B[0;31m---------------------------------------------------------------------------\u001B[0m",
      "\u001B[0;31mException\u001B[0m                                 Traceback (most recent call last)",
      "Cell \u001B[0;32mIn[239], line 6\u001B[0m\n\u001B[1;32m      4\u001B[0m number \u001B[38;5;241m+\u001B[39m\u001B[38;5;241m=\u001B[39m \u001B[38;5;241m1\u001B[39m\n\u001B[1;32m      5\u001B[0m \u001B[38;5;28;01mif\u001B[39;00m number \u001B[38;5;241m==\u001B[39m \u001B[38;5;241m8\u001B[39m:\n\u001B[0;32m----> 6\u001B[0m     \u001B[38;5;28;01mraise\u001B[39;00m \u001B[38;5;167;01mException\u001B[39;00m(\u001B[38;5;124m'\u001B[39m\u001B[38;5;124mAusnahmebedingung geworfen!\u001B[39m\u001B[38;5;124m'\u001B[39m)\n\u001B[1;32m      7\u001B[0m \u001B[38;5;28mprint\u001B[39m(number)\n",
      "\u001B[0;31mException\u001B[0m: Ausnahmebedingung geworfen!"
     ]
    }
   ],
   "execution_count": 239
  },
  {
   "metadata": {},
   "cell_type": "markdown",
   "source": "### Endlosschleifen",
   "id": "ba880ed792e68014"
  },
  {
   "metadata": {},
   "cell_type": "markdown",
   "source": [
    "Endlosschleifen (_Infinite loop_) sind Schleifen, die nach jeder Abarbeitung erneut abgearbeitet werden, falls die Ausführung nicht durch äussere Einflüsse oder eine Anweisung aus dem Inneren (etwa die Sprunganweisung `break`) abgebrochen wird.\n",
    "\n",
    "Endlosschleifen können durch Fehler entstehen, wenn die Abbruchbedingung nicht definiert ist oder nicht eintreten kann. Es gibt aber auch sinnvolle Anwendungen. So kann etwa die permanente Abfrage der Mausposition bei einer grafischen Oberfläche eine gewollte Endlosschleife sein. Eine andere Situation ist, dass man eine Schleife eine unbekannte oder unbestimmte Anzahl von Durchläufen ausführen möchte und der Abbruch dann durch eine Eingabe erfolgen soll."
   ],
   "id": "9c84fbc7bf1210b8"
  },
  {
   "metadata": {
    "jupyter": {
     "is_executing": true
    },
    "ExecuteTime": {
     "start_time": "2024-08-06T17:13:11.719692Z"
    }
   },
   "cell_type": "code",
   "source": [
    "counter = 0\n",
    "while counter < 50:\n",
    "    if 25 <= counter <= 30:\n",
    "        continue\n",
    "    print(counter)\n",
    "    counter += 1"
   ],
   "id": "477c3a85550bb34e",
   "outputs": [
    {
     "name": "stdout",
     "output_type": "stream",
     "text": [
      "0\n",
      "1\n",
      "2\n",
      "3\n",
      "4\n",
      "5\n",
      "6\n",
      "7\n",
      "8\n",
      "9\n",
      "10\n",
      "11\n",
      "12\n",
      "13\n",
      "14\n",
      "15\n",
      "16\n",
      "17\n",
      "18\n",
      "19\n",
      "20\n",
      "21\n",
      "22\n",
      "23\n",
      "24\n"
     ]
    }
   ],
   "execution_count": null
  }
 ],
 "metadata": {
  "kernelspec": {
   "display_name": "Python 3",
   "language": "python",
   "name": "python3"
  },
  "language_info": {
   "codemirror_mode": {
    "name": "ipython",
    "version": 2
   },
   "file_extension": ".py",
   "mimetype": "text/x-python",
   "name": "python",
   "nbconvert_exporter": "python",
   "pygments_lexer": "ipython2",
   "version": "2.7.6"
  }
 },
 "nbformat": 4,
 "nbformat_minor": 5
}
