{
 "cells": [
  {
   "cell_type": "markdown",
   "source": [
    "# Einführung in Python\n",
    "\n",
    "Python ist eine hochrangige, interpretierte und allgemeine Programmiersprache, die 1991 von Guido van Rossum entwickelt wurde. Sie legt besonderen Wert auf Code-Lesbarkeit und ermöglicht es Programmierern, Konzepte in weniger Code-Zeilen auszudrücken als in Sprachen wie C++ oder Java. Die Sprache bietet Konstrukte, die es ermöglichen, klare Programme zu schreiben, sowohl auf kleiner als auch auf grosser Skala.\n",
    "\n",
    "Der Hauptunterschied zwischen einer kompilierten Sprache und einer Skriptsprache liegt in der Ausführung der Programme. Bei kompilierten Sprachen wird der Code vor der Ausführung komplett in Maschinen-Code übersetzt. Bei Skriptsprachen hingegen wird der Code Zeile für Zeile während der Laufzeit interpretiert. Python ist eine interpretierte Sprache, was ihr eine gewisse Flexibilität verschafft, allerdings auf Kosten der Performance.\n",
    "\n",
    "Python wird in diversen Anwendungsfällen eingesetzt. Es wird häufig als (_Glue_-) Sprache verwendet, um existierende Komponenten zusammenzuführen. Es ist auch sehr gut für den Einsatz in Datenanalyse, künstlicher Intelligenz, maschinellem Lernen und Webentwicklung geeignet. In Bezug auf seine Systemintegration und Textverarbeitungsfähigkeiten ist Python besonders stark.\n",
    "\n",
    "Die Zukunft von Python sieht recht positiv aus. Es wird von einer aktiven Community unterstützt und seine Popularität hat in den letzten Jahren zunehmend zugenommen. Sicherlich hat jede der Sprachen C, C++, C# und Java ihre eigene Nische und wird in bestimmten Anwendungsfällen bevorzugt. Aber die Tatsache, dass Python eine einfach zu lernende und anzuwendende Sprache ist, macht sie zu einer attraktiven Wahl für viele Anwendungsfälle, besonders für Anfänger in der Programmierung. Python wird wahrscheinlich weiterhin ein wichtiger Spieler in der Welt der Programmiersprachen bleiben."
   ],
   "metadata": {
    "collapsed": false
   },
   "id": "d09b729ca6857d8b"
  },
  {
   "cell_type": "markdown",
   "source": [
    "## Was ist Python\n",
    "[Python](https://www.python.org/) ist eine moderne, objektorientierte Hochsprachenprogrammierung für allgemeine Zwecke.\n",
    "\n",
    "Allgemeine Eigenschaften von Python:\n",
    "* **Saubere und einfache Sprache**: Leicht zu lesender und intuitiver Code, einfach zu erlernende, minimalistische Syntax, gute Wartbarkeit, skalierbar mit der Größe der Projekte.\n",
    "* **Ausdrucksvolle Sprache**: Weniger Codezeilen, weniger Fehler, leichter zu pflegen.\n",
    "\n",
    "Technische Einzelheiten:\n",
    "* **Dynamisch typisiert**: Der Typ von Variablen, Funktionsargumenten oder Rückgabetypen muss nicht definiert werden.\n",
    "* **Automatische Speicherverwaltung**: Kein explizites Zuweisen und Freigeben von Speicher für Variablen und Datenarrays erforderlich. Keine Speicherleck-Fehler. \n",
    "* **Interpretiert**: Sie müssen den Code nicht kompilieren. Der Python-Interpreter liest und führt den Python-Code direkt aus.\n",
    "\n",
    "Vorteile:\n",
    "* Der Hauptvorteil ist die einfache Programmierung, die den Zeitaufwand für die Entwicklung, das Debugging und die Pflege des Codes minimiert.\n",
    "* Gut konzipierte Sprache, die viele gute Programmierpraktiken fördert:\n",
    "    * Modulare und objektorientierte Programmierung, gutes System für die Verpackung und Wiederverwendung von Code. Dies führt oft zu transparenterem, wartbarem und fehlerfreiem Code.\n",
    "    * Die Dokumentation ist eng in den Code integriert.\n",
    "* Eine umfangreiche Standardbibliothek und eine grosse Sammlung von Zusatzpaketen.\n",
    "\n",
    "Nachteile:\n",
    "* Da Python eine interpretierte und dynamisch typisierte Programmiersprache ist, kann die Ausführung von Python-Code im Vergleich zu kompilierten, statisch typisierten Programmiersprachen wie C und Fortran langsam sein. \n",
    "* Etwas dezentralisiert, mit verschiedenen Umgebungen, Paketen und Dokumentationen, die an verschiedenen Orten verteilt sind. Das kann den Einstieg erschweren."
   ],
   "metadata": {
    "collapsed": false
   },
   "id": "36fd4fdc4cfd6944"
  },
  {
   "cell_type": "markdown",
   "source": [
    "# Kommandos und Programme\n",
    "## Erste Schritte mit Python\n",
    "\n",
    "Wir beginnen den Kurs mit ein paar grundlegenden Python-Befehlen. Ein einfacher Befel in Python könnte das Drucken von Text auf dem Bildschirm sein."
   ],
   "metadata": {
    "collapsed": false
   },
   "id": "3c042b4ea21334a"
  },
  {
   "cell_type": "code",
   "source": [
    "print(\"Herzlich Willkommen zum Python-Kurs\")"
   ],
   "metadata": {
    "collapsed": false,
    "ExecuteTime": {
     "end_time": "2024-08-04T15:54:53.343206Z",
     "start_time": "2024-08-04T15:54:53.329834Z"
    }
   },
   "id": "54ac5528bdf8e61d",
   "outputs": [
    {
     "name": "stdout",
     "output_type": "stream",
     "text": [
      "Herzlich Willkommen zum Python-Kurs\n"
     ]
    }
   ],
   "execution_count": 20
  },
  {
   "cell_type": "markdown",
   "source": [
    "Ebenso können wir einfache mathematische Berechnungen durchführen."
   ],
   "metadata": {
    "collapsed": false
   },
   "id": "d96b7180d51e58a0"
  },
  {
   "cell_type": "code",
   "source": [
    "print(5 + 10)"
   ],
   "metadata": {
    "collapsed": true,
    "ExecuteTime": {
     "end_time": "2024-08-04T15:54:53.870401Z",
     "start_time": "2024-08-04T15:54:53.866689Z"
    }
   },
   "id": "initial_id",
   "outputs": [
    {
     "name": "stdout",
     "output_type": "stream",
     "text": [
      "15\n"
     ]
    }
   ],
   "execution_count": 21
  },
  {
   "cell_type": "markdown",
   "source": [
    "Oder eine Division:"
   ],
   "metadata": {
    "collapsed": false
   },
   "id": "f57760b074887192"
  },
  {
   "cell_type": "code",
   "source": [
    "print(10 / 2)"
   ],
   "metadata": {
    "collapsed": false,
    "ExecuteTime": {
     "end_time": "2024-08-04T15:54:53.910702Z",
     "start_time": "2024-08-04T15:54:53.908513Z"
    }
   },
   "id": "d5282d848bed0380",
   "outputs": [
    {
     "name": "stdout",
     "output_type": "stream",
     "text": [
      "5.0\n"
     ]
    }
   ],
   "execution_count": 22
  },
  {
   "cell_type": "markdown",
   "source": [
    "In diesen Beispielen wurde die Funktion `print()` aus der Standardbibliothek von Python verwendet. Hier spricht man auch von den sogenannten _built-in_ Funktionen, welche im Detail im [Handbuch](https://docs.python.org/3/library/functions.html) aufgeführt und beschrieben sind. \n",
    "\n",
    "Die Spezialzeichen, welche an dieser Stelle für die Addition (`+`) und Division (`/`) verwendet wurden werden Operatoren genannt. Eine komplette Auflistung der möglichen Operatoren sind [hier](https://docs.python.org/3/library/stdtypes.html#numeric-types-int-float-complex) zu finden. "
   ],
   "metadata": {
    "collapsed": false
   },
   "id": "1038bd24b8eb92ec"
  },
  {
   "cell_type": "markdown",
   "source": [
    "## Python Umgebungen\n",
    "Python-Skripte werden üblicherweise in eine mit einem Editor oder einer Interaktiven Entwiklungsumgebung (IDE) in einer Datei abgelegt.\n",
    "Hier nur einige Beispiele möglicher Umgebungen:\n",
    "\n",
    "- [PyCharm](https://www.jetbrains.com/pycharm/) \n",
    "- [Visual Studio Code](https://code.visualstudio.com/) \n",
    "- [Spyder](https://www.spyder-ide.org/) "
   ],
   "metadata": {
    "collapsed": false
   },
   "id": "3a9689f7a2c79d3c"
  },
  {
   "cell_type": "markdown",
   "source": [
    "### Python Interpreter\n",
    "Die Standardmethode zur Verwendung der Programmiersprache Python ist die Verwendung des Python-Interpreters zur Ausführung von Python-Code. Der Python-Interpreter ist ein Programm, das den Python-Code in Dateien liest und ausführt, die ihm als Argumente übergeben werden. An der Eingabeaufforderung wird der Befehl `python` verwendet, um den Python-Interpreter aufzurufen.\n",
    "\n",
    "Um zum Beispiel eine Datei [hello.py](scripts/hello.py), die Python-Code enthält, von der Eingabeaufforderung aus zu starten, verwenden wir:\n",
    "\n",
    "<br>\n",
    "\n",
    "    $ python hello.py\n",
    "\n",
    "Wir können den Interpreter auch einfach durch die Eingabe von `python` in der Befehlszeile starten und interaktiv python-Code in den Interpreter eingeben.\n",
    "\n",
    "<br>\n",
    "<img src=\"../images/python-screenshot.png\" width=\"840\">\n",
    "\n",
    "So wollen wir oft arbeiten, wenn wir wissenschaftliche Anwendungen entwickeln oder kleine Berechnungen durchführen. Aber der Standard-Python-Interpreter ist für diese Art von Arbeit aufgrund einer Reihe von Einschränkungen nicht sehr geeignet."
   ],
   "metadata": {
    "collapsed": false
   },
   "id": "1565cd43023faf2b"
  },
  {
   "cell_type": "markdown",
   "source": [
    "### IPython\n",
    "IPython ist eine interaktive Shell, die die Einschränkungen des Standard-Python-Interpreters behebt und ein Arbeitspferd für den wissenschaftlichen Einsatz von Python ist. Sie bietet eine interaktive Eingabeaufforderung für den Python-Interpreter mit einer stark verbesserten Benutzerfreundlichkeit.\n",
    "  \n",
    "<br>\n",
    "<img src=\"../images/ipython-screenshot.png\" width=\"840\">\n",
    "\n",
    "Einige der vielen nützlichen Funktionen von IPython sind:\n",
    "\n",
    "* Befehlshistorie, die mit den Aufwärts- und Abwärtspfeilen auf der Tastatur durchsucht werden kann.\n",
    "* Automatische Vervollständigung mit `TAB`.\n",
    "* Inline-Bearbeitung von Code.\n",
    "* Objektintrospektion und automatische Extraktion von Dokumentationsstrings aus Pythonobjekten wie Klassen und Funktionen.\n",
    "* Gute Interaktion mit der Shell des Betriebssystems.\n",
    "* Support for multiple parallel back-end processes, that can run on computing clusters or cloud services like Amazon EC2."
   ],
   "metadata": {
    "collapsed": false
   },
   "id": "368aaf1617582589"
  },
  {
   "cell_type": "markdown",
   "source": [
    "### Jupyter Notebook\n",
    "\n",
    "[Jupyter Notebook](https://jupyter.org/) ist eine HTML-basierte Notizbuchumgebung für Python, ähnlich wie Mathematica oder Maple. Es basiert auf der IPython-Shell, bietet aber eine zellenbasierte Umgebung mit großer Interaktivität, in der Berechnungen strukturiert organisiert und dokumentiert werden können.\n",
    "\n",
    "<br>\n",
    "<img src=\"../images/jupyter-notebook-screenshot.png\" width=\"840\">\n",
    "\n",
    "Obwohl ein Webbrowser als grafische Oberfläche verwendet wird, werden Jupyter-Notebooks in der Regel lokal auf demselben Computer ausgeführt, auf dem auch der Browser läuft. Um eine neue Jupyter-Notebook-Sitzung zu starten, führen Sie den folgenden Befehl aus:\n",
    "\n",
    "<br>\n",
    "\n",
    "    $ jupyter notebook\n",
    "    \n",
    "aus einem Verzeichnis, in dem die Notizbücher gespeichert werden sollen. Dadurch wird ein neues Browserfenster (oder eine neue Registerkarte in einem bestehenden Fenster) mit einer Indexseite geöffnet, auf der die vorhandenen Notizbücher angezeigt werden und von der aus neue Notizbücher erstellt werden können.\n",
    "\n",
    "Damit obiger Befehl funktioniert muss, falls nicht bereits vorhanden, das Paket [jupyter](https://pypi.org/project/jupyter/) vorgängig installiert werden.\n",
    " \n",
    "Alternativ kann ein bestehendes Notebook (z.B. das vorliegende Dokument) mit dem [nbviewer](https://nbviewer.org/github/talent-factory/pyt-introduction/blob/develop/01-Introduction-to-Python.ipynb) betrachtet werden."
   ],
   "metadata": {
    "collapsed": false
   },
   "id": "d87b8227c568bcb0"
  },
  {
   "cell_type": "markdown",
   "source": [
    "### Spyder\n",
    "\n",
    "[Spyder](https://www.spyder-ide.org/) ist eine MATLAB-ähnliche IDE für wissenschaftliches Rechnen mit Python. Es hat die vielen Vorteile einer traditionellen IDE-Umgebung, zum Beispiel, dass alles von der Code-Bearbeitung, der Ausführung und dem Debugging in einer einzigen Umgebung durchgeführt wird und die Arbeit an verschiedenen Berechnungen als Projekte in der IDE-Umgebung organisiert werden kann.\n",
    "\n",
    "<br>\n",
    "<img src=\"../images/spyder-screenshot.png\" width=\"840\">\n",
    "\n",
    "Einige Vorteile des Spyder:\n",
    "* Leistungsstarker Code-Editor mit Syntax-Highlighting, dynamischer Code-Introspektion und Integration mit dem Python-Debugger.\n",
    "* Variablen-Explorer, IPython-Eingabeaufforderung.\n",
    "* Integrierte Dokumentation und Hilfe."
   ],
   "metadata": {
    "collapsed": false
   },
   "id": "1f00db071af733d0"
  },
  {
   "cell_type": "markdown",
   "source": [
    "## Installation\n",
    "\n",
    "### Python und Modulversionen\n",
    "Da es mehrere verschiedene Versionen von Python gibt und jedes Python-Paket seinen eigenen Veröffentlichungszyklus und seine eigene Versionsnummer hat, ist es für die Reproduzierbarkeit eines Projektes wichtig, die Versionen all dieser verschiedenen Softwarepakete aufzuzeichnen. Wenn dies richtig gemacht wird, ist es einfach, die Umgebung zu reproduzieren, die zum Ausführen verwendet wurde, aber wenn nicht, kann es schwierig sein, herauszufinden, was verwendet wurde, um die Ergebnisse in einem Notizbuch zu erzeugen.\n",
    "\n",
    "Damit das folgende Skript funktioniert müssen vorgängig folgende Module installiert werden:\n",
    "\n",
    "<br>\n",
    "\n",
    "```\n",
    "pip install --upgrade numpy scipy matplotlib sympy jupyter version_information\n",
    "```"
   ],
   "metadata": {
    "collapsed": false
   },
   "id": "2de0f8af2cb47e2"
  },
  {
   "cell_type": "code",
   "source": [
    "# Ausgabe der Versionsnummern der benötigten Module\n",
    "%load_ext version_information\n",
    "\n",
    "%version_information numpy, scipy, matplotlib, sympy, jupyter, version_information"
   ],
   "metadata": {
    "collapsed": false,
    "ExecuteTime": {
     "end_time": "2024-08-04T15:54:54.076109Z",
     "start_time": "2024-08-04T15:54:54.003143Z"
    }
   },
   "id": "f4c93eb4ccd7fb8f",
   "outputs": [
    {
     "ename": "ModuleNotFoundError",
     "evalue": "No module named 'version_information'",
     "output_type": "error",
     "traceback": [
      "\u001B[0;31m---------------------------------------------------------------------------\u001B[0m",
      "\u001B[0;31mModuleNotFoundError\u001B[0m                       Traceback (most recent call last)",
      "Cell \u001B[0;32mIn[23], line 2\u001B[0m\n\u001B[1;32m      1\u001B[0m \u001B[38;5;66;03m# Ausgabe der Versionsnummern der benötigten Module\u001B[39;00m\n\u001B[0;32m----> 2\u001B[0m \u001B[43mget_ipython\u001B[49m\u001B[43m(\u001B[49m\u001B[43m)\u001B[49m\u001B[38;5;241;43m.\u001B[39;49m\u001B[43mrun_line_magic\u001B[49m\u001B[43m(\u001B[49m\u001B[38;5;124;43m'\u001B[39;49m\u001B[38;5;124;43mload_ext\u001B[39;49m\u001B[38;5;124;43m'\u001B[39;49m\u001B[43m,\u001B[49m\u001B[43m \u001B[49m\u001B[38;5;124;43m'\u001B[39;49m\u001B[38;5;124;43mversion_information\u001B[39;49m\u001B[38;5;124;43m'\u001B[39;49m\u001B[43m)\u001B[49m\n\u001B[1;32m      4\u001B[0m get_ipython()\u001B[38;5;241m.\u001B[39mrun_line_magic(\u001B[38;5;124m'\u001B[39m\u001B[38;5;124mversion_information\u001B[39m\u001B[38;5;124m'\u001B[39m, \u001B[38;5;124m'\u001B[39m\u001B[38;5;124mnumpy, scipy, matplotlib, sympy, jupyter, version_information\u001B[39m\u001B[38;5;124m'\u001B[39m)\n",
      "File \u001B[0;32m~/.virtualenvs/cs1-pyt/lib/python3.10/site-packages/IPython/core/interactiveshell.py:2369\u001B[0m, in \u001B[0;36mInteractiveShell.run_line_magic\u001B[0;34m(self, magic_name, line, _stack_depth)\u001B[0m\n\u001B[1;32m   2367\u001B[0m     kwargs[\u001B[38;5;124m'\u001B[39m\u001B[38;5;124mlocal_ns\u001B[39m\u001B[38;5;124m'\u001B[39m] \u001B[38;5;241m=\u001B[39m \u001B[38;5;28mself\u001B[39m\u001B[38;5;241m.\u001B[39mget_local_scope(stack_depth)\n\u001B[1;32m   2368\u001B[0m \u001B[38;5;28;01mwith\u001B[39;00m \u001B[38;5;28mself\u001B[39m\u001B[38;5;241m.\u001B[39mbuiltin_trap:\n\u001B[0;32m-> 2369\u001B[0m     result \u001B[38;5;241m=\u001B[39m \u001B[43mfn\u001B[49m\u001B[43m(\u001B[49m\u001B[38;5;241;43m*\u001B[39;49m\u001B[43margs\u001B[49m\u001B[43m,\u001B[49m\u001B[43m \u001B[49m\u001B[38;5;241;43m*\u001B[39;49m\u001B[38;5;241;43m*\u001B[39;49m\u001B[43mkwargs\u001B[49m\u001B[43m)\u001B[49m\n\u001B[1;32m   2371\u001B[0m \u001B[38;5;66;03m# The code below prevents the output from being displayed\u001B[39;00m\n\u001B[1;32m   2372\u001B[0m \u001B[38;5;66;03m# when using magics with decodator @output_can_be_silenced\u001B[39;00m\n\u001B[1;32m   2373\u001B[0m \u001B[38;5;66;03m# when the last Python token in the expression is a ';'.\u001B[39;00m\n\u001B[1;32m   2374\u001B[0m \u001B[38;5;28;01mif\u001B[39;00m \u001B[38;5;28mgetattr\u001B[39m(fn, magic\u001B[38;5;241m.\u001B[39mMAGIC_OUTPUT_CAN_BE_SILENCED, \u001B[38;5;28;01mFalse\u001B[39;00m):\n",
      "File \u001B[0;32m~/.virtualenvs/cs1-pyt/lib/python3.10/site-packages/IPython/core/magics/extension.py:33\u001B[0m, in \u001B[0;36mExtensionMagics.load_ext\u001B[0;34m(self, module_str)\u001B[0m\n\u001B[1;32m     31\u001B[0m \u001B[38;5;28;01mif\u001B[39;00m \u001B[38;5;129;01mnot\u001B[39;00m module_str:\n\u001B[1;32m     32\u001B[0m     \u001B[38;5;28;01mraise\u001B[39;00m UsageError(\u001B[38;5;124m'\u001B[39m\u001B[38;5;124mMissing module name.\u001B[39m\u001B[38;5;124m'\u001B[39m)\n\u001B[0;32m---> 33\u001B[0m res \u001B[38;5;241m=\u001B[39m \u001B[38;5;28;43mself\u001B[39;49m\u001B[38;5;241;43m.\u001B[39;49m\u001B[43mshell\u001B[49m\u001B[38;5;241;43m.\u001B[39;49m\u001B[43mextension_manager\u001B[49m\u001B[38;5;241;43m.\u001B[39;49m\u001B[43mload_extension\u001B[49m\u001B[43m(\u001B[49m\u001B[43mmodule_str\u001B[49m\u001B[43m)\u001B[49m\n\u001B[1;32m     35\u001B[0m \u001B[38;5;28;01mif\u001B[39;00m res \u001B[38;5;241m==\u001B[39m \u001B[38;5;124m'\u001B[39m\u001B[38;5;124malready loaded\u001B[39m\u001B[38;5;124m'\u001B[39m:\n\u001B[1;32m     36\u001B[0m     \u001B[38;5;28mprint\u001B[39m(\u001B[38;5;124m\"\u001B[39m\u001B[38;5;124mThe \u001B[39m\u001B[38;5;132;01m%s\u001B[39;00m\u001B[38;5;124m extension is already loaded. To reload it, use:\u001B[39m\u001B[38;5;124m\"\u001B[39m \u001B[38;5;241m%\u001B[39m module_str)\n",
      "File \u001B[0;32m~/.virtualenvs/cs1-pyt/lib/python3.10/site-packages/IPython/core/extensions.py:76\u001B[0m, in \u001B[0;36mExtensionManager.load_extension\u001B[0;34m(self, module_str)\u001B[0m\n\u001B[1;32m     69\u001B[0m \u001B[38;5;250m\u001B[39m\u001B[38;5;124;03m\"\"\"Load an IPython extension by its module name.\u001B[39;00m\n\u001B[1;32m     70\u001B[0m \n\u001B[1;32m     71\u001B[0m \u001B[38;5;124;03mReturns the string \"already loaded\" if the extension is already loaded,\u001B[39;00m\n\u001B[1;32m     72\u001B[0m \u001B[38;5;124;03m\"no load function\" if the module doesn't have a load_ipython_extension\u001B[39;00m\n\u001B[1;32m     73\u001B[0m \u001B[38;5;124;03mfunction, or None if it succeeded.\u001B[39;00m\n\u001B[1;32m     74\u001B[0m \u001B[38;5;124;03m\"\"\"\u001B[39;00m\n\u001B[1;32m     75\u001B[0m \u001B[38;5;28;01mtry\u001B[39;00m:\n\u001B[0;32m---> 76\u001B[0m     \u001B[38;5;28;01mreturn\u001B[39;00m \u001B[38;5;28;43mself\u001B[39;49m\u001B[38;5;241;43m.\u001B[39;49m\u001B[43m_load_extension\u001B[49m\u001B[43m(\u001B[49m\u001B[43mmodule_str\u001B[49m\u001B[43m)\u001B[49m\n\u001B[1;32m     77\u001B[0m \u001B[38;5;28;01mexcept\u001B[39;00m \u001B[38;5;167;01mModuleNotFoundError\u001B[39;00m:\n\u001B[1;32m     78\u001B[0m     \u001B[38;5;28;01mif\u001B[39;00m module_str \u001B[38;5;129;01min\u001B[39;00m BUILTINS_EXTS:\n",
      "File \u001B[0;32m~/.virtualenvs/cs1-pyt/lib/python3.10/site-packages/IPython/core/extensions.py:91\u001B[0m, in \u001B[0;36mExtensionManager._load_extension\u001B[0;34m(self, module_str)\u001B[0m\n\u001B[1;32m     89\u001B[0m \u001B[38;5;28;01mwith\u001B[39;00m \u001B[38;5;28mself\u001B[39m\u001B[38;5;241m.\u001B[39mshell\u001B[38;5;241m.\u001B[39mbuiltin_trap:\n\u001B[1;32m     90\u001B[0m     \u001B[38;5;28;01mif\u001B[39;00m module_str \u001B[38;5;129;01mnot\u001B[39;00m \u001B[38;5;129;01min\u001B[39;00m sys\u001B[38;5;241m.\u001B[39mmodules:\n\u001B[0;32m---> 91\u001B[0m         mod \u001B[38;5;241m=\u001B[39m \u001B[43mimport_module\u001B[49m\u001B[43m(\u001B[49m\u001B[43mmodule_str\u001B[49m\u001B[43m)\u001B[49m\n\u001B[1;32m     92\u001B[0m     mod \u001B[38;5;241m=\u001B[39m sys\u001B[38;5;241m.\u001B[39mmodules[module_str]\n\u001B[1;32m     93\u001B[0m     \u001B[38;5;28;01mif\u001B[39;00m \u001B[38;5;28mself\u001B[39m\u001B[38;5;241m.\u001B[39m_call_load_ipython_extension(mod):\n",
      "File \u001B[0;32m/Library/Frameworks/Python.framework/Versions/3.10/lib/python3.10/importlib/__init__.py:126\u001B[0m, in \u001B[0;36mimport_module\u001B[0;34m(name, package)\u001B[0m\n\u001B[1;32m    124\u001B[0m             \u001B[38;5;28;01mbreak\u001B[39;00m\n\u001B[1;32m    125\u001B[0m         level \u001B[38;5;241m+\u001B[39m\u001B[38;5;241m=\u001B[39m \u001B[38;5;241m1\u001B[39m\n\u001B[0;32m--> 126\u001B[0m \u001B[38;5;28;01mreturn\u001B[39;00m \u001B[43m_bootstrap\u001B[49m\u001B[38;5;241;43m.\u001B[39;49m\u001B[43m_gcd_import\u001B[49m\u001B[43m(\u001B[49m\u001B[43mname\u001B[49m\u001B[43m[\u001B[49m\u001B[43mlevel\u001B[49m\u001B[43m:\u001B[49m\u001B[43m]\u001B[49m\u001B[43m,\u001B[49m\u001B[43m \u001B[49m\u001B[43mpackage\u001B[49m\u001B[43m,\u001B[49m\u001B[43m \u001B[49m\u001B[43mlevel\u001B[49m\u001B[43m)\u001B[49m\n",
      "File \u001B[0;32m<frozen importlib._bootstrap>:1050\u001B[0m, in \u001B[0;36m_gcd_import\u001B[0;34m(name, package, level)\u001B[0m\n",
      "File \u001B[0;32m<frozen importlib._bootstrap>:1027\u001B[0m, in \u001B[0;36m_find_and_load\u001B[0;34m(name, import_)\u001B[0m\n",
      "File \u001B[0;32m<frozen importlib._bootstrap>:1004\u001B[0m, in \u001B[0;36m_find_and_load_unlocked\u001B[0;34m(name, import_)\u001B[0m\n",
      "\u001B[0;31mModuleNotFoundError\u001B[0m: No module named 'version_information'"
     ]
    }
   ],
   "execution_count": 23
  },
  {
   "cell_type": "markdown",
   "source": [
    "# Variablen und Datentypen"
   ],
   "metadata": {
    "collapsed": false
   },
   "id": "add9141f89ff1ef8"
  },
  {
   "cell_type": "markdown",
   "source": [
    "## Symbolische Namen\n",
    "Variablennamen in Python können die alphanumerischen Zeichen `a-z`, `A-Z`, `0-9` und einige Sonderzeichen wie `_` enthalten. Normale Variablennamen müssen mit einem Buchstaben beginnen.\n",
    "\n",
    "Konventionell beginnen Variablennamen mit einem Kleinbuchstaben und Klassennamen mit einem Grossbuchstaben. Dies ist im [Python Style Guide](https://peps.python.org/pep-0008/#naming-conventions) (PEP8) festgehalten.\n",
    "\n",
    "Darüber hinaus gibt es eine Reihe von [Python-Schlüsselwörtern](https://docs.python.org/3/reference/lexical_analysis.html#keywords), die nicht als Variablennamen verwendet werden können. \n"
   ],
   "metadata": {
    "collapsed": false
   },
   "id": "671f92b089b8e1c2"
  },
  {
   "cell_type": "markdown",
   "source": [
    "## Zuweisungen\n",
    "Der Zuweisungsoperator in Python ist `=`. Python ist eine dynamisch typisierte Sprache, so dass wir den Typ einer Variablen nicht angeben müssen, wenn wir eine Variable erstellen.\n",
    "\n",
    "Durch die Zuweisung eines Wertes an eine neue Variable wird die Variable erstellt:"
   ],
   "metadata": {
    "collapsed": false
   },
   "id": "9d6c855ce87c90ce"
  },
  {
   "cell_type": "code",
   "source": [
    "# Variablenzuweisungen\n",
    "x = 1.0\n",
    "my_variable = 12\n",
    "name = 'Peter Pan'"
   ],
   "metadata": {
    "collapsed": false,
    "ExecuteTime": {
     "end_time": "2024-08-04T15:54:54.119158Z",
     "start_time": "2024-08-04T15:54:54.117454Z"
    }
   },
   "id": "a351491e1e6b7346",
   "outputs": [],
   "execution_count": 24
  },
  {
   "cell_type": "markdown",
   "source": [
    "Obwohl nicht explizit angegeben, hat eine Variable einen Typ, der mit ihr verbunden ist. Der Typ wird von dem Wert abgeleitet, der ihr zugewiesen wurde."
   ],
   "metadata": {
    "collapsed": false
   },
   "id": "1f9f02dd8633cb2c"
  },
  {
   "cell_type": "code",
   "source": "print(type(name))",
   "metadata": {
    "collapsed": false,
    "ExecuteTime": {
     "end_time": "2024-08-04T15:54:54.185421Z",
     "start_time": "2024-08-04T15:54:54.183421Z"
    }
   },
   "id": "a140366867d99a01",
   "outputs": [
    {
     "name": "stdout",
     "output_type": "stream",
     "text": [
      "<class 'str'>\n"
     ]
    }
   ],
   "execution_count": 25
  },
  {
   "cell_type": "markdown",
   "source": [
    "Wenn wir einer Variablen einen neuen Wert zuweisen, kann sich ihr Typ ändern."
   ],
   "metadata": {
    "collapsed": false
   },
   "id": "589450a7176ae46"
  },
  {
   "cell_type": "code",
   "source": [
    "x = 1\n",
    "print(type(x))"
   ],
   "metadata": {
    "collapsed": false,
    "ExecuteTime": {
     "end_time": "2024-08-04T15:54:54.692680Z",
     "start_time": "2024-08-04T15:54:54.688899Z"
    }
   },
   "id": "f4d4149b0983917b",
   "outputs": [
    {
     "name": "stdout",
     "output_type": "stream",
     "text": [
      "<class 'int'>\n"
     ]
    }
   ],
   "execution_count": 26
  },
  {
   "cell_type": "markdown",
   "source": [
    "Wenn wir versuchen, eine Variable zu verwenden, die noch nicht definiert wurde, erhalten wir einen `NameError`:"
   ],
   "metadata": {
    "collapsed": false
   },
   "id": "dada6989727d67a7"
  },
  {
   "cell_type": "code",
   "source": [
    "print(type(y))"
   ],
   "metadata": {
    "collapsed": false,
    "ExecuteTime": {
     "end_time": "2024-08-04T15:54:54.785477Z",
     "start_time": "2024-08-04T15:54:54.781152Z"
    }
   },
   "id": "471429f59ecf4215",
   "outputs": [
    {
     "name": "stdout",
     "output_type": "stream",
     "text": [
      "<class 'int'>\n"
     ]
    }
   ],
   "execution_count": 27
  },
  {
   "cell_type": "markdown",
   "source": [
    "## Grundlegende Datentypen"
   ],
   "metadata": {
    "collapsed": false
   },
   "id": "d2bb70f709398344"
  },
  {
   "cell_type": "code",
   "source": [
    "# integers\n",
    "x = 1\n",
    "print(type(x))"
   ],
   "metadata": {
    "collapsed": false,
    "ExecuteTime": {
     "end_time": "2024-08-04T15:54:54.915439Z",
     "start_time": "2024-08-04T15:54:54.910826Z"
    }
   },
   "id": "7e789c3938634680",
   "outputs": [
    {
     "name": "stdout",
     "output_type": "stream",
     "text": [
      "<class 'int'>\n"
     ]
    }
   ],
   "execution_count": 28
  },
  {
   "cell_type": "code",
   "source": [
    "# float\n",
    "x = 1.0\n",
    "print(type(x))"
   ],
   "metadata": {
    "collapsed": false,
    "ExecuteTime": {
     "end_time": "2024-08-04T15:54:54.945794Z",
     "start_time": "2024-08-04T15:54:54.941584Z"
    }
   },
   "id": "ceeb694b4ff1e07c",
   "outputs": [
    {
     "name": "stdout",
     "output_type": "stream",
     "text": [
      "<class 'float'>\n"
     ]
    }
   ],
   "execution_count": 29
  },
  {
   "cell_type": "code",
   "source": [
    "# boolean\n",
    "b1 = True\n",
    "b2 = False\n",
    "\n",
    "print(type(b1))"
   ],
   "metadata": {
    "collapsed": false,
    "ExecuteTime": {
     "end_time": "2024-08-04T15:54:55.164676Z",
     "start_time": "2024-08-04T15:54:55.154262Z"
    }
   },
   "id": "d947dcbe9a6316d2",
   "outputs": [
    {
     "name": "stdout",
     "output_type": "stream",
     "text": [
      "<class 'bool'>\n"
     ]
    }
   ],
   "execution_count": 30
  },
  {
   "cell_type": "code",
   "source": [
    "# complex numbers: beachte die Verwendung von \"j\" zur Angabe des Imaginärteils\n",
    "x = 1.0 - 1.0j\n",
    "print(type(x))"
   ],
   "metadata": {
    "collapsed": false,
    "ExecuteTime": {
     "end_time": "2024-08-04T15:54:55.228445Z",
     "start_time": "2024-08-04T15:54:55.222744Z"
    }
   },
   "id": "b4f009182bc4f82e",
   "outputs": [
    {
     "name": "stdout",
     "output_type": "stream",
     "text": [
      "<class 'complex'>\n"
     ]
    }
   ],
   "execution_count": 31
  },
  {
   "cell_type": "markdown",
   "source": [
    "## Hilfsfunktionen\n",
    "Das Modul `types` enthält eine Reihe von Definitionen von Typnamen, die verwendet werden können, um zu prüfen, ob Variablen von bestimmten Typen sind:"
   ],
   "metadata": {
    "collapsed": false
   },
   "id": "f77b43f56ef67ad0"
  },
  {
   "cell_type": "code",
   "source": [
    "x = 1.0\n",
    "\n",
    "# prüfen, ob die Variable x ein Float ist\n",
    "print(type(x) is float)"
   ],
   "metadata": {
    "collapsed": false,
    "ExecuteTime": {
     "end_time": "2024-08-04T15:54:55.309458Z",
     "start_time": "2024-08-04T15:54:55.305873Z"
    }
   },
   "id": "13d777d7e412b665",
   "outputs": [
    {
     "name": "stdout",
     "output_type": "stream",
     "text": [
      "True\n"
     ]
    }
   ],
   "execution_count": 32
  },
  {
   "cell_type": "code",
   "source": [
    "x = 1.0\n",
    "\n",
    "# prüfen, ob die Variable x ein Int ist\n",
    "print(type(x) is int)"
   ],
   "metadata": {
    "collapsed": false,
    "ExecuteTime": {
     "end_time": "2024-08-04T15:54:55.380898Z",
     "start_time": "2024-08-04T15:54:55.376463Z"
    }
   },
   "id": "4cfd1ee5e1848c52",
   "outputs": [
    {
     "name": "stdout",
     "output_type": "stream",
     "text": [
      "False\n"
     ]
    }
   ],
   "execution_count": 33
  },
  {
   "cell_type": "markdown",
   "source": [
    "Wir können auch die Methode `isinstance()` zum Testen von Variablentypen verwenden:\n"
   ],
   "metadata": {
    "collapsed": false
   },
   "id": "72e807aac005895b"
  },
  {
   "cell_type": "code",
   "source": [
    "print(isinstance(x, float))"
   ],
   "metadata": {
    "collapsed": false,
    "ExecuteTime": {
     "end_time": "2024-08-04T15:54:55.464519Z",
     "start_time": "2024-08-04T15:54:55.459675Z"
    }
   },
   "id": "ae2d6fb7ee337aff",
   "outputs": [
    {
     "name": "stdout",
     "output_type": "stream",
     "text": [
      "True\n"
     ]
    }
   ],
   "execution_count": 34
  },
  {
   "cell_type": "markdown",
   "source": [
    "### Typumwandlung"
   ],
   "metadata": {
    "collapsed": false
   },
   "id": "322280c3f31ba1c6"
  },
  {
   "cell_type": "code",
   "source": [
    "x = 1.5\n",
    "\n",
    "print(x, type(x))"
   ],
   "metadata": {
    "collapsed": false,
    "ExecuteTime": {
     "end_time": "2024-08-04T15:54:55.584550Z",
     "start_time": "2024-08-04T15:54:55.582539Z"
    }
   },
   "id": "9316f94f789afe22",
   "outputs": [
    {
     "name": "stdout",
     "output_type": "stream",
     "text": [
      "1.5 <class 'float'>\n"
     ]
    }
   ],
   "execution_count": 35
  },
  {
   "cell_type": "code",
   "source": [
    "x = int(x)\n",
    "\n",
    "print(x, type(x))"
   ],
   "metadata": {
    "collapsed": false,
    "ExecuteTime": {
     "end_time": "2024-08-04T15:54:55.613370Z",
     "start_time": "2024-08-04T15:54:55.611125Z"
    }
   },
   "id": "66aec1aa0dc0a82a",
   "outputs": [
    {
     "name": "stdout",
     "output_type": "stream",
     "text": [
      "1 <class 'int'>\n"
     ]
    }
   ],
   "execution_count": 36
  },
  {
   "cell_type": "markdown",
   "source": [
    "## Operatoren und Vergleiche\n",
    "Die meisten Operatoren und Vergleiche in Python funktionieren so, wie man es erwarten würde:\n",
    "\n",
    "<br>\n",
    "\n",
    "* Arithmetische Operatoren `+`, `-`, `*`, `/`, `//` (Ganzzahlige Division), `**` Potenz"
   ],
   "metadata": {
    "collapsed": false
   },
   "id": "293767cd122091ec"
  },
  {
   "cell_type": "code",
   "source": [
    "1 + 2, 1 - 2, 1 * 2, 1 / 2"
   ],
   "metadata": {
    "collapsed": false,
    "ExecuteTime": {
     "end_time": "2024-08-04T15:54:55.698658Z",
     "start_time": "2024-08-04T15:54:55.694281Z"
    }
   },
   "id": "aec9f44380a005ac",
   "outputs": [
    {
     "data": {
      "text/plain": [
       "(3, -1, 2, 0.5)"
      ]
     },
     "execution_count": 37,
     "metadata": {},
     "output_type": "execute_result"
    }
   ],
   "execution_count": 37
  },
  {
   "cell_type": "code",
   "source": [
    "1.0 + 2.0, 1.0 - 2.0, 1.0 * 2.0, 1.0 / 2.0"
   ],
   "metadata": {
    "collapsed": false,
    "ExecuteTime": {
     "end_time": "2024-08-04T15:54:55.730853Z",
     "start_time": "2024-08-04T15:54:55.728366Z"
    }
   },
   "id": "ad043ebcbb050697",
   "outputs": [
    {
     "data": {
      "text/plain": [
       "(3.0, -1.0, 2.0, 0.5)"
      ]
     },
     "execution_count": 38,
     "metadata": {},
     "output_type": "execute_result"
    }
   ],
   "execution_count": 38
  },
  {
   "cell_type": "code",
   "source": [
    "# Ganzzahlige Division von Float Zahlen\n",
    "3.0 // 2.0"
   ],
   "metadata": {
    "collapsed": false,
    "ExecuteTime": {
     "end_time": "2024-08-04T15:54:55.802144Z",
     "start_time": "2024-08-04T15:54:55.799805Z"
    }
   },
   "id": "313681a6dadf3bf3",
   "outputs": [
    {
     "data": {
      "text/plain": [
       "1.0"
      ]
     },
     "execution_count": 39,
     "metadata": {},
     "output_type": "execute_result"
    }
   ],
   "execution_count": 39
  },
  {
   "cell_type": "markdown",
   "source": [
    "**Hinweis**: Der Operator `/` führt in Python 3.x immer eine Fliesskommadivision durch. Dies ist in Python 2.x nicht der Fall, wo das Ergebnis von `/` immer eine ganze Zahl ist, wenn die Operanden ganze Zahlen sind. Genauer gesagt, `1/2 = 0,5` (float) in Python 3.x und `1/2 = 0` (int) in Python 2.x (aber `1.0/2 = 0.5` in Python 2.x).\n",
    "\n",
    "<br>\n",
    "\n",
    "* Die booleschen Operatoren werden mit den Worten `and`, `not` und `or` buchstabiert. Weitere Informationen sind [hier](https://docs.python.org/3/library/stdtypes.html#boolean-operations-and-or-not) zu finden."
   ],
   "metadata": {
    "collapsed": false
   },
   "id": "7b5ea5847d28377"
  },
  {
   "cell_type": "code",
   "source": [
    "True and False"
   ],
   "metadata": {
    "collapsed": false,
    "ExecuteTime": {
     "end_time": "2024-08-04T15:54:55.837592Z",
     "start_time": "2024-08-04T15:54:55.835215Z"
    }
   },
   "id": "db2b39364b3ce9bc",
   "outputs": [
    {
     "data": {
      "text/plain": [
       "False"
      ]
     },
     "execution_count": 40,
     "metadata": {},
     "output_type": "execute_result"
    }
   ],
   "execution_count": 40
  },
  {
   "cell_type": "code",
   "source": [
    "not False"
   ],
   "metadata": {
    "collapsed": false,
    "ExecuteTime": {
     "end_time": "2024-08-04T15:54:55.904231Z",
     "start_time": "2024-08-04T15:54:55.901738Z"
    }
   },
   "id": "a034c7b24b3602d6",
   "outputs": [
    {
     "data": {
      "text/plain": [
       "True"
      ]
     },
     "execution_count": 41,
     "metadata": {},
     "output_type": "execute_result"
    }
   ],
   "execution_count": 41
  },
  {
   "cell_type": "code",
   "source": [
    "True or False"
   ],
   "metadata": {
    "collapsed": false,
    "ExecuteTime": {
     "end_time": "2024-08-04T15:54:55.925569Z",
     "start_time": "2024-08-04T15:54:55.923308Z"
    }
   },
   "id": "5d8b590cbd0d3e6",
   "outputs": [
    {
     "data": {
      "text/plain": [
       "True"
      ]
     },
     "execution_count": 42,
     "metadata": {},
     "output_type": "execute_result"
    }
   ],
   "execution_count": 42
  },
  {
   "cell_type": "markdown",
   "source": [
    "* Vergleichsoperatoren `>`, `<`, `>=` (grösser oder gleich), `<=` (kleiner oder gleich), `==` Gleichheit, `is` identisch."
   ],
   "metadata": {
    "collapsed": false
   },
   "id": "be12d257cdd01012"
  },
  {
   "cell_type": "code",
   "source": [
    "2 > 1, 2 < 1"
   ],
   "metadata": {
    "collapsed": false,
    "ExecuteTime": {
     "end_time": "2024-08-04T15:54:55.964123Z",
     "start_time": "2024-08-04T15:54:55.961464Z"
    }
   },
   "id": "61660c3af31d0789",
   "outputs": [
    {
     "data": {
      "text/plain": [
       "(True, False)"
      ]
     },
     "execution_count": 43,
     "metadata": {},
     "output_type": "execute_result"
    }
   ],
   "execution_count": 43
  },
  {
   "cell_type": "code",
   "source": [
    "2 > 2, 2 < 2"
   ],
   "metadata": {
    "collapsed": false,
    "ExecuteTime": {
     "end_time": "2024-08-04T15:54:56.010612Z",
     "start_time": "2024-08-04T15:54:56.008332Z"
    }
   },
   "id": "1070c468f6dcf124",
   "outputs": [
    {
     "data": {
      "text/plain": [
       "(False, False)"
      ]
     },
     "execution_count": 44,
     "metadata": {},
     "output_type": "execute_result"
    }
   ],
   "execution_count": 44
  },
  {
   "cell_type": "code",
   "source": [
    "2 >= 2, 2 <= 2"
   ],
   "metadata": {
    "collapsed": false,
    "ExecuteTime": {
     "end_time": "2024-08-04T15:54:56.083030Z",
     "start_time": "2024-08-04T15:54:56.075135Z"
    }
   },
   "id": "4a7c802634504ae3",
   "outputs": [
    {
     "data": {
      "text/plain": [
       "(True, True)"
      ]
     },
     "execution_count": 45,
     "metadata": {},
     "output_type": "execute_result"
    }
   ],
   "execution_count": 45
  },
  {
   "cell_type": "markdown",
   "source": [
    "## Zusammengesetzte Typen\n",
    "### Zeichenketten\n",
    "\n",
    "Strings sind der Variablentyp, der für die Speicherung von Textnachrichten verwendet wird. "
   ],
   "metadata": {
    "collapsed": false
   },
   "id": "f4a3a3c84ce073d"
  },
  {
   "cell_type": "code",
   "source": [
    "s = \"Hallo Peter\"\n",
    "print(type(s))"
   ],
   "metadata": {
    "collapsed": false,
    "ExecuteTime": {
     "end_time": "2024-08-04T15:54:56.152278Z",
     "start_time": "2024-08-04T15:54:56.150003Z"
    }
   },
   "id": "f9ee6cb181c21910",
   "outputs": [
    {
     "name": "stdout",
     "output_type": "stream",
     "text": [
      "<class 'str'>\n"
     ]
    }
   ],
   "execution_count": 46
  },
  {
   "cell_type": "code",
   "source": [
    "# Länge der Zeichenkette: die Anzahl der Zeichen\n",
    "print(len(s))"
   ],
   "metadata": {
    "collapsed": false,
    "ExecuteTime": {
     "end_time": "2024-08-04T15:54:56.190078Z",
     "start_time": "2024-08-04T15:54:56.188262Z"
    }
   },
   "id": "4e02bd47ab941943",
   "outputs": [
    {
     "name": "stdout",
     "output_type": "stream",
     "text": [
      "11\n"
     ]
    }
   ],
   "execution_count": 47
  },
  {
   "cell_type": "code",
   "source": [
    "# Eine Teilzeichenkette in einer Zeichenkette durch etwas anderes ersetzen\n",
    "s = s.replace(\"Peter\", \"Daniel\")\n",
    "print(s)"
   ],
   "metadata": {
    "collapsed": false,
    "ExecuteTime": {
     "end_time": "2024-08-04T15:54:56.246695Z",
     "start_time": "2024-08-04T15:54:56.244113Z"
    }
   },
   "id": "5afaddd89bd98dd3",
   "outputs": [
    {
     "name": "stdout",
     "output_type": "stream",
     "text": [
      "Hallo Daniel\n"
     ]
    }
   ],
   "execution_count": 48
  },
  {
   "cell_type": "markdown",
   "source": [
    "Wir können ein Zeichen in einer Zeichenkette mit `[]` indizieren:"
   ],
   "metadata": {
    "collapsed": false
   },
   "id": "bfc34ef9be3c76f9"
  },
  {
   "cell_type": "code",
   "source": [
    "print(s[0])"
   ],
   "metadata": {
    "collapsed": false,
    "ExecuteTime": {
     "end_time": "2024-08-04T15:54:56.280373Z",
     "start_time": "2024-08-04T15:54:56.278471Z"
    }
   },
   "id": "fa3888c5705d8b65",
   "outputs": [
    {
     "name": "stdout",
     "output_type": "stream",
     "text": [
      "H\n"
     ]
    }
   ],
   "execution_count": 49
  },
  {
   "cell_type": "markdown",
   "source": [
    "Wir können einen Teil einer Zeichenkette mit der Syntax `[start:stop]` extrahieren, wobei die Zeichen zwischen Index `start` und `stop` -1 berücksichtigt werden (das Zeichen bei Index `stop` wird nicht berücksichtigt):"
   ],
   "metadata": {
    "collapsed": false
   },
   "id": "834d4e09eabbcc25"
  },
  {
   "cell_type": "code",
   "source": [
    "print(s[0:5])\n",
    "print(s[4:5])"
   ],
   "metadata": {
    "collapsed": false,
    "ExecuteTime": {
     "end_time": "2024-08-04T15:54:56.339087Z",
     "start_time": "2024-08-04T15:54:56.336566Z"
    }
   },
   "id": "42e4f2c7a78c9b4",
   "outputs": [
    {
     "name": "stdout",
     "output_type": "stream",
     "text": [
      "Hallo\n",
      "o\n"
     ]
    }
   ],
   "execution_count": 50
  },
  {
   "cell_type": "markdown",
   "source": [
    "Wenn wir eines (oder beide) von `start` oder `stop` aus `[start:stop]` weglassen, ist die Vorgabe der Anfang bzw. das Ende der Zeichenkette:"
   ],
   "metadata": {
    "collapsed": false
   },
   "id": "32d9b1e72b7ea80a"
  },
  {
   "cell_type": "code",
   "source": [
    "print(s[:5])\n",
    "print(s[6:])\n",
    "print(s[:])"
   ],
   "metadata": {
    "collapsed": false,
    "ExecuteTime": {
     "end_time": "2024-08-04T15:54:56.382998Z",
     "start_time": "2024-08-04T15:54:56.379764Z"
    }
   },
   "id": "356d007b4765844",
   "outputs": [
    {
     "name": "stdout",
     "output_type": "stream",
     "text": [
      "Hallo\n",
      "Daniel\n",
      "Hallo Daniel\n"
     ]
    }
   ],
   "execution_count": 51
  },
  {
   "cell_type": "markdown",
   "source": [
    "Wir können die Schrittgrösse auch mit der Syntax `[start:stop:schritt]` definieren (der Standardwert für `schritt` ist 1, wie wir oben gesehen haben):"
   ],
   "metadata": {
    "collapsed": false
   },
   "id": "e811545a15f30484"
  },
  {
   "cell_type": "code",
   "source": [
    "print(s[::1])\n",
    "print(s[::2])"
   ],
   "metadata": {
    "collapsed": false,
    "ExecuteTime": {
     "end_time": "2024-08-04T15:54:56.451785Z",
     "start_time": "2024-08-04T15:54:56.449209Z"
    }
   },
   "id": "24ffbdd2e6e6c94d",
   "outputs": [
    {
     "name": "stdout",
     "output_type": "stream",
     "text": [
      "Hallo Daniel\n",
      "HloDne\n"
     ]
    }
   ],
   "execution_count": 52
  },
  {
   "cell_type": "markdown",
   "source": [
    "Diese Technik wird _Slicing_ genannt. Lesen Sie [hier](https://docs.python.org/3/library/functions.html?highlight=slice#slice) mehr über die Syntax.\n",
    "\n",
    "Python verfügt über einen sehr umfangreichen Satz von [Funktionen](https://docs.python.org/3/library/string.html) für die Textverarbeitung. "
   ],
   "metadata": {
    "collapsed": false
   },
   "id": "54e2496e5942d999"
  },
  {
   "cell_type": "markdown",
   "source": [
    "**Beispiele für die Formatierung von Zeichenketten**"
   ],
   "metadata": {
    "collapsed": false
   },
   "id": "16dbf4f5836f2ca5"
  },
  {
   "cell_type": "code",
   "source": [
    "print(\"str1\", \"str2\", \"str3\")  # Die print-Anweisung verkettet Zeichenketten mit einem Leerzeichen"
   ],
   "metadata": {
    "collapsed": false,
    "ExecuteTime": {
     "end_time": "2024-08-04T15:54:56.492759Z",
     "start_time": "2024-08-04T15:54:56.489066Z"
    }
   },
   "id": "e05c547fb83aa6ed",
   "outputs": [
    {
     "name": "stdout",
     "output_type": "stream",
     "text": [
      "str1 str2 str3\n"
     ]
    }
   ],
   "execution_count": 53
  },
  {
   "cell_type": "code",
   "source": [
    "print(\"str1\" + \"str2\" + \"str3\") # mit + hinzugefügte Zeichenfolgen werden ohne Leerzeichen verkettet"
   ],
   "metadata": {
    "collapsed": false,
    "ExecuteTime": {
     "end_time": "2024-08-04T15:54:56.552270Z",
     "start_time": "2024-08-04T15:54:56.550337Z"
    }
   },
   "id": "d64dcb03d1ac2217",
   "outputs": [
    {
     "name": "stdout",
     "output_type": "stream",
     "text": [
      "str1str2str3\n"
     ]
    }
   ],
   "execution_count": 54
  },
  {
   "cell_type": "code",
   "source": [
    "print(\"value = %f\" % 1.0)       # wir können eine String-Formatierung im C-Stil verwenden"
   ],
   "metadata": {
    "collapsed": false,
    "ExecuteTime": {
     "end_time": "2024-08-04T15:54:56.574259Z",
     "start_time": "2024-08-04T15:54:56.572354Z"
    }
   },
   "id": "3ca8f6dae1a44f73",
   "outputs": [
    {
     "name": "stdout",
     "output_type": "stream",
     "text": [
      "value = 1.000000\n"
     ]
    }
   ],
   "execution_count": 55
  },
  {
   "cell_type": "code",
   "source": [
    "# Diese Formatierung erzeugt eine Zeichenkette\n",
    "s = \"value1 = %.2f. value2 = %d\" % (3.1415, 1.5)\n",
    "\n",
    "print(s)"
   ],
   "metadata": {
    "collapsed": false,
    "ExecuteTime": {
     "end_time": "2024-08-04T15:54:56.625551Z",
     "start_time": "2024-08-04T15:54:56.623399Z"
    }
   },
   "id": "512e70373955cc50",
   "outputs": [
    {
     "name": "stdout",
     "output_type": "stream",
     "text": [
      "value1 = 3.14. value2 = 1\n"
     ]
    }
   ],
   "execution_count": 56
  },
  {
   "cell_type": "code",
   "source": [
    "# Alternative, intuitivere Methode zur Formatierung einer Zeichenkette  \n",
    "s = 'value1 = {0}, value2 = {1}'.format(3.1415, 1.5)\n",
    "\n",
    "print(s)"
   ],
   "metadata": {
    "collapsed": false,
    "ExecuteTime": {
     "end_time": "2024-08-04T15:54:56.671649Z",
     "start_time": "2024-08-04T15:54:56.669582Z"
    }
   },
   "id": "7f5693873eeb0a3c",
   "outputs": [
    {
     "name": "stdout",
     "output_type": "stream",
     "text": [
      "value1 = 3.1415, value2 = 1.5\n"
     ]
    }
   ],
   "execution_count": 57
  },
  {
   "cell_type": "markdown",
   "source": [
    "Die Formatierung einer Zeichenkette ist ein sehr umfangreiches Thema, welches in diesem kurzen Abschnitt nichtvollständig abgehandelt werden kann. Aus diesem Grund hier einige Referenzen zu weitergehenden Informationen:\n",
    "\n",
    "- [Python Dokumentation](https://docs.python.org/3/library/string.html#custom-string-formatting) - Benutzerdefinierte String-Formatierung\n",
    "- [RealPython](https://realpython.com/python-string-formatting/) - Python String Formatierung Best Practices\n",
    "- [W3Schools](https://www.w3schools.com/python/ref_string_format.asp) - Python String `format()` Methode  "
   ],
   "metadata": {
    "collapsed": false
   },
   "id": "694baad515f356e0"
  },
  {
   "cell_type": "markdown",
   "source": [
    "### Listen\n",
    "Listen sind den Zeichenketten sehr ähnlich, mit dem Unterschied, dass jedes Element von beliebigem Typ sein kann."
   ],
   "metadata": {
    "collapsed": false
   },
   "id": "b9f67a27689d6531"
  },
  {
   "cell_type": "code",
   "source": [
    "l = [1,2,3,4]\n",
    "\n",
    "print(type(l))\n",
    "print(l)"
   ],
   "metadata": {
    "collapsed": false,
    "ExecuteTime": {
     "end_time": "2024-08-04T15:54:56.707774Z",
     "start_time": "2024-08-04T15:54:56.705690Z"
    }
   },
   "id": "6463f570723707a0",
   "outputs": [
    {
     "name": "stdout",
     "output_type": "stream",
     "text": [
      "<class 'list'>\n",
      "[1, 2, 3, 4]\n"
     ]
    }
   ],
   "execution_count": 58
  },
  {
   "cell_type": "markdown",
   "source": [
    "Für die Bearbeitung von Listen können wir dieselben _Slicing_-Techniken verwenden, die wir auch für Zeichenketten anwenden können:"
   ],
   "metadata": {
    "collapsed": false
   },
   "id": "eb9cc62cf70cba21"
  },
  {
   "cell_type": "code",
   "source": [
    "print(l)\n",
    "\n",
    "print(l[1:3])\n",
    "\n",
    "print(l[::2])"
   ],
   "metadata": {
    "collapsed": false,
    "ExecuteTime": {
     "end_time": "2024-08-04T15:54:56.755687Z",
     "start_time": "2024-08-04T15:54:56.753693Z"
    }
   },
   "id": "4f23526ea2df3411",
   "outputs": [
    {
     "name": "stdout",
     "output_type": "stream",
     "text": [
      "[1, 2, 3, 4]\n",
      "[2, 3]\n",
      "[1, 3]\n"
     ]
    }
   ],
   "execution_count": 59
  },
  {
   "cell_type": "markdown",
   "source": [
    "Die Elemente in einer Liste müssen nicht alle vom gleichen Typ sein:"
   ],
   "metadata": {
    "collapsed": false
   },
   "id": "2bcd0868cd5d232b"
  },
  {
   "cell_type": "code",
   "source": [
    "l = [1, 'a', 1.0, 1-1j]\n",
    "\n",
    "print(l)"
   ],
   "metadata": {
    "collapsed": false,
    "ExecuteTime": {
     "end_time": "2024-08-04T15:54:56.787904Z",
     "start_time": "2024-08-04T15:54:56.785807Z"
    }
   },
   "id": "b759074135ab5970",
   "outputs": [
    {
     "name": "stdout",
     "output_type": "stream",
     "text": [
      "[1, 'a', 1.0, (1-1j)]\n"
     ]
    }
   ],
   "execution_count": 60
  },
  {
   "cell_type": "markdown",
   "source": [
    "Python-Listen können inhomogen und willkürlich verschachtelt sein:"
   ],
   "metadata": {
    "collapsed": false
   },
   "id": "890004ad60649a5e"
  },
  {
   "cell_type": "code",
   "source": [
    "my_list = [1, [2.0, [3.4, ['Daniel', [5]]]]]\n",
    "\n",
    "print(my_list)"
   ],
   "metadata": {
    "collapsed": false,
    "ExecuteTime": {
     "end_time": "2024-08-04T15:54:56.845084Z",
     "start_time": "2024-08-04T15:54:56.842875Z"
    }
   },
   "id": "7d5cd3b9a9939680",
   "outputs": [
    {
     "name": "stdout",
     "output_type": "stream",
     "text": [
      "[1, [2.0, [3.4, ['Daniel', [5]]]]]\n"
     ]
    }
   ],
   "execution_count": 61
  },
  {
   "cell_type": "markdown",
   "source": [
    "Listen spielen in Python eine sehr wichtige Rolle. Sie werden zum Beispiel in Schleifen und anderen Flusskontrollstrukturen verwendet. Es gibt eine Reihe praktischer Funktionen zur Erzeugung von Listen verschiedener Typen, zum Beispiel die Funktion `range()`):\n"
   ],
   "metadata": {
    "collapsed": false
   },
   "id": "1ef7162e739eef0f"
  },
  {
   "cell_type": "code",
   "source": [
    "start = 10\n",
    "stop = 30\n",
    "step = 2\n",
    "\n",
    "range(start, stop, step)"
   ],
   "metadata": {
    "collapsed": false,
    "ExecuteTime": {
     "end_time": "2024-08-04T15:54:56.870604Z",
     "start_time": "2024-08-04T15:54:56.867902Z"
    }
   },
   "id": "42eca5931de52420",
   "outputs": [
    {
     "data": {
      "text/plain": [
       "range(10, 30, 2)"
      ]
     },
     "execution_count": 62,
     "metadata": {},
     "output_type": "execute_result"
    }
   ],
   "execution_count": 62
  },
  {
   "cell_type": "code",
   "source": [
    "# In Python 3 erzeugt range() einen Iterator, der mit 'list(...)' in eine Liste umgewandelt werden kann.\n",
    "print(list(range(start, stop, step)))"
   ],
   "metadata": {
    "collapsed": false,
    "ExecuteTime": {
     "end_time": "2024-08-04T15:54:56.891760Z",
     "start_time": "2024-08-04T15:54:56.889058Z"
    }
   },
   "id": "3957ebc5fe1e2ba8",
   "outputs": [
    {
     "name": "stdout",
     "output_type": "stream",
     "text": [
      "[10, 12, 14, 16, 18, 20, 22, 24, 26, 28]\n"
     ]
    }
   ],
   "execution_count": 63
  },
  {
   "cell_type": "code",
   "source": [
    "print(list(range(-10, 11)))"
   ],
   "metadata": {
    "collapsed": false,
    "ExecuteTime": {
     "end_time": "2024-08-04T15:54:56.946710Z",
     "start_time": "2024-08-04T15:54:56.944446Z"
    }
   },
   "id": "6e51d4e95ccc0c1",
   "outputs": [
    {
     "name": "stdout",
     "output_type": "stream",
     "text": [
      "[-10, -9, -8, -7, -6, -5, -4, -3, -2, -1, 0, 1, 2, 3, 4, 5, 6, 7, 8, 9, 10]\n"
     ]
    }
   ],
   "execution_count": 64
  },
  {
   "cell_type": "markdown",
   "source": [
    "**Funktionen des Datentype `List`**\n",
    "\n",
    "Eine Liste kann zusätzlich mit den folgenden Funktionen bearbeitet werden:"
   ],
   "metadata": {
    "collapsed": false
   },
   "id": "296ee704844fd9e6"
  },
  {
   "cell_type": "markdown",
   "source": [
    "Mit `append()` kannst  du deine Python Liste verlängern. Du schreibst einfach den Namen von deiner Liste und dahinter .append(). In die Klammern schreibst du das neue Listenelement, das du anhängen willst (Zeile 2)."
   ],
   "metadata": {
    "collapsed": false
   },
   "id": "a67660cdcbd2adc5"
  },
  {
   "cell_type": "code",
   "source": [
    "zahlen = [3, 4, \"fünf\"]\n",
    "\n",
    "zahlen.append(1)\n",
    "print(zahlen)"
   ],
   "metadata": {
    "collapsed": false,
    "ExecuteTime": {
     "end_time": "2024-08-04T15:54:56.999412Z",
     "start_time": "2024-08-04T15:54:56.997585Z"
    }
   },
   "id": "616387501b89b8c3",
   "outputs": [
    {
     "name": "stdout",
     "output_type": "stream",
     "text": [
      "[3, 4, 'fünf', 1]\n"
     ]
    }
   ],
   "execution_count": 65
  },
  {
   "cell_type": "markdown",
   "source": [
    "Falls du mehrere Elemente hinzufügen möchtest, kannst du `extend()` benutzen. Es funktioniert wie `append()`, nur dass es gleich eine Liste von neuen Werten an die alte Liste anhängt."
   ],
   "metadata": {
    "collapsed": false
   },
   "id": "d7488f7c6029987d"
  },
  {
   "cell_type": "code",
   "source": [
    "zahlen = [3, 4, \"fünf\"]\n",
    "\n",
    "zahlen.extend([1, 8, 9])\n",
    "print(zahlen)"
   ],
   "metadata": {
    "collapsed": false,
    "ExecuteTime": {
     "end_time": "2024-08-04T15:54:57.019696Z",
     "start_time": "2024-08-04T15:54:57.017821Z"
    }
   },
   "id": "aa1cdbf0143d149e",
   "outputs": [
    {
     "name": "stdout",
     "output_type": "stream",
     "text": [
      "[3, 4, 'fünf', 1, 8, 9]\n"
     ]
    }
   ],
   "execution_count": 66
  },
  {
   "cell_type": "markdown",
   "source": [
    "Wenn du in der Mitte deiner Liste ein neues Element einfügen willst, brauchst du `insert()`. Du schreibst `.insert()` hinter den Namen deiner Liste und notierst in den Klammern welches neue Element du einfügen willst und welchen Index es haben soll. Das neue Element wird hinzugefügt und deine Liste länger."
   ],
   "metadata": {
    "collapsed": false
   },
   "id": "822cefa219eb97de"
  },
  {
   "cell_type": "code",
   "source": [
    "obst = [\"Apfel\", \"Banane\", \"Erdbeere\"]\n",
    "\n",
    "obst.insert(1, \"Pfirsich\")\n",
    "print(obst)"
   ],
   "metadata": {
    "collapsed": false,
    "ExecuteTime": {
     "end_time": "2024-08-04T15:54:57.083176Z",
     "start_time": "2024-08-04T15:54:57.080741Z"
    }
   },
   "id": "e18341703de898cd",
   "outputs": [
    {
     "name": "stdout",
     "output_type": "stream",
     "text": [
      "['Apfel', 'Pfirsich', 'Banane', 'Erdbeere']\n"
     ]
    }
   ],
   "execution_count": 67
  },
  {
   "cell_type": "markdown",
   "source": [
    "Falls du allerdings ein Element aus deiner Liste entfernen willst, brauchst du die Funktion `remove()`. Wie bei den anderen Funktionen schreibst du hinter deinen Listennamen `.remove()`. In die Klammern kommt das Element, das du aus der Liste entfernen möchtest."
   ],
   "metadata": {
    "collapsed": false
   },
   "id": "73caa8d9bacf797c"
  },
  {
   "cell_type": "code",
   "source": [
    "farben = [\"grün\", \"blau\", \"rot\", \"blau\"]\n",
    "\n",
    "farben.remove(\"blau\") # Es wird nur das erste Element entfernt\n",
    "print(farben)"
   ],
   "metadata": {
    "collapsed": false,
    "ExecuteTime": {
     "end_time": "2024-08-04T15:54:57.107169Z",
     "start_time": "2024-08-04T15:54:57.101611Z"
    }
   },
   "id": "9a676c24b68220f6",
   "outputs": [
    {
     "name": "stdout",
     "output_type": "stream",
     "text": [
      "['grün', 'rot', 'blau']\n"
     ]
    }
   ],
   "execution_count": 68
  },
  {
   "cell_type": "markdown",
   "source": [
    "Es gibt noch einen zweiten Weg ein Element aus deiner Liste zu entfernen: den Befehl `del`. Du schreibst hinter das Schlüsselwort `del` einfach den Namen deiner Liste und in eckigen Klammern den Index, den du entfernen willst."
   ],
   "metadata": {
    "collapsed": false
   },
   "id": "a0373a4585a5e660"
  },
  {
   "cell_type": "code",
   "source": [
    "farben = [\"grün\", \"blau\", \"rot\", \"blau\"]\n",
    "\n",
    "del farben[2]\n",
    "print(farben)\n",
    "\n",
    "del farben # Vorsicht: So wird die ganze Liste gelöscht\n",
    "print(farben)"
   ],
   "metadata": {
    "collapsed": false,
    "ExecuteTime": {
     "end_time": "2024-08-04T15:54:57.178621Z",
     "start_time": "2024-08-04T15:54:57.167825Z"
    }
   },
   "id": "4ae271ababc43d10",
   "outputs": [
    {
     "name": "stdout",
     "output_type": "stream",
     "text": [
      "['grün', 'blau', 'blau']\n"
     ]
    },
    {
     "ename": "NameError",
     "evalue": "name 'farben' is not defined",
     "output_type": "error",
     "traceback": [
      "\u001B[0;31m---------------------------------------------------------------------------\u001B[0m",
      "\u001B[0;31mNameError\u001B[0m                                 Traceback (most recent call last)",
      "Cell \u001B[0;32mIn[69], line 7\u001B[0m\n\u001B[1;32m      4\u001B[0m \u001B[38;5;28mprint\u001B[39m(farben)\n\u001B[1;32m      6\u001B[0m \u001B[38;5;28;01mdel\u001B[39;00m farben \u001B[38;5;66;03m# Vorsicht: So wird die ganze Liste gelöscht\u001B[39;00m\n\u001B[0;32m----> 7\u001B[0m \u001B[38;5;28mprint\u001B[39m(\u001B[43mfarben\u001B[49m)\n",
      "\u001B[0;31mNameError\u001B[0m: name 'farben' is not defined"
     ]
    }
   ],
   "execution_count": 69
  },
  {
   "cell_type": "markdown",
   "source": [
    "Falls du nur den Wert, aber nicht den Index eines Elements kennst, findest du mit der Funktion `index()` seinen Index heraus. Dafür schreibst du hinter den Namen deiner Liste `.index` (Zeile 3). Danach kommt das Element, das du suchst, in runden Klammern. So findest du aber nur den Index des ersten passenden Elements mit dem gesuchten Wert. Hier hat das letzte Element zum Beispiel auch den Wert „blau“, aber es wurde nur der Index 1 gefunden."
   ],
   "metadata": {
    "collapsed": false
   },
   "id": "7bd8b95f7a58ad1"
  },
  {
   "cell_type": "code",
   "source": [
    "farben = [\"grün\", \"blau\", \"rot\", \"blau\"]\n",
    "\n",
    "i = farben.index(\"blau\")\n",
    "print(f\"Index = {i}\")"
   ],
   "metadata": {
    "collapsed": false,
    "ExecuteTime": {
     "end_time": "2024-08-04T15:54:57.251900Z",
     "start_time": "2024-08-04T15:54:57.248883Z"
    }
   },
   "id": "c1d588ffbc0df2ac",
   "outputs": [
    {
     "name": "stdout",
     "output_type": "stream",
     "text": [
      "Index = 1\n"
     ]
    }
   ],
   "execution_count": 70
  },
  {
   "cell_type": "markdown",
   "source": [
    "Du willst deine Liste fein säuberlich geordnet haben? Kein Problem! Dafür gibt es die Funktion sort(). Wenn du die runden Klammern leer lässt (Zeile 2), werden die Zahlen in deiner Liste aufsteigend sortiert. Schreibst du reverse = True in die Klammern, sortiert Python die Zahlen absteigend (Zeile 4)."
   ],
   "metadata": {
    "collapsed": false
   },
   "id": "ce3acec3fe66a723"
  },
  {
   "cell_type": "code",
   "source": [
    "liste = [2, 1, 4, 3]\n",
    "liste.sort()\n",
    "print(liste)\n",
    "liste.sort(reverse = True)\n",
    "print(liste)"
   ],
   "metadata": {
    "collapsed": false,
    "ExecuteTime": {
     "end_time": "2024-08-04T15:54:57.317673Z",
     "start_time": "2024-08-04T15:54:57.314605Z"
    }
   },
   "id": "53b92d211bb4eb0",
   "outputs": [
    {
     "name": "stdout",
     "output_type": "stream",
     "text": [
      "[1, 2, 3, 4]\n",
      "[4, 3, 2, 1]\n"
     ]
    }
   ],
   "execution_count": 71
  },
  {
   "cell_type": "markdown",
   "source": [
    "### Tupel\n",
    "Tupel sind wie Listen, mit dem Unterschied, dass sie nach ihrer Erstellung nicht mehr verändert werden können, d.h. sie sind *unveränderlich*. \n",
    "\n",
    "In Python werden Tupel mit der Syntax `(..., ..., ...)`, oder auch `..., ...` erstellt:"
   ],
   "metadata": {
    "collapsed": false
   },
   "id": "60be20f2a0ad27da"
  },
  {
   "cell_type": "code",
   "source": [
    "point = (10, 20)\n",
    "\n",
    "print(point, type(point))"
   ],
   "metadata": {
    "collapsed": false,
    "ExecuteTime": {
     "end_time": "2024-08-04T15:54:57.352028Z",
     "start_time": "2024-08-04T15:54:57.349187Z"
    }
   },
   "id": "961b45eb2540315e",
   "outputs": [
    {
     "name": "stdout",
     "output_type": "stream",
     "text": [
      "(10, 20) <class 'tuple'>\n"
     ]
    }
   ],
   "execution_count": 72
  },
  {
   "cell_type": "code",
   "source": [
    "point = 10, 20\n",
    "\n",
    "print(point, type(point))"
   ],
   "metadata": {
    "collapsed": false,
    "ExecuteTime": {
     "end_time": "2024-08-04T15:54:57.425628Z",
     "start_time": "2024-08-04T15:54:57.422896Z"
    }
   },
   "id": "175aaf653b614fcf",
   "outputs": [
    {
     "name": "stdout",
     "output_type": "stream",
     "text": [
      "(10, 20) <class 'tuple'>\n"
     ]
    }
   ],
   "execution_count": 73
  },
  {
   "cell_type": "markdown",
   "source": [
    "Wir können ein Tupel entpacken, indem wir es einer durch Komma getrennten Liste von Variablen zuordnen:"
   ],
   "metadata": {
    "collapsed": false
   },
   "id": "f6003e07dbcaf464"
  },
  {
   "cell_type": "code",
   "source": [
    "x, y = point\n",
    "\n",
    "print(\"x =\", x)\n",
    "print(\"y =\", y)"
   ],
   "metadata": {
    "collapsed": false,
    "ExecuteTime": {
     "end_time": "2024-08-04T15:54:57.441743Z",
     "start_time": "2024-08-04T15:54:57.438676Z"
    }
   },
   "id": "663feb4d31cc74e2",
   "outputs": [
    {
     "name": "stdout",
     "output_type": "stream",
     "text": [
      "x = 10\n",
      "y = 20\n"
     ]
    }
   ],
   "execution_count": 74
  },
  {
   "cell_type": "code",
   "source": [
    "point[0] = 20"
   ],
   "metadata": {
    "collapsed": false,
    "ExecuteTime": {
     "end_time": "2024-08-04T15:54:57.480378Z",
     "start_time": "2024-08-04T15:54:57.470441Z"
    }
   },
   "id": "17d8779011159242",
   "outputs": [
    {
     "ename": "TypeError",
     "evalue": "'tuple' object does not support item assignment",
     "output_type": "error",
     "traceback": [
      "\u001B[0;31m---------------------------------------------------------------------------\u001B[0m",
      "\u001B[0;31mTypeError\u001B[0m                                 Traceback (most recent call last)",
      "Cell \u001B[0;32mIn[75], line 1\u001B[0m\n\u001B[0;32m----> 1\u001B[0m \u001B[43mpoint\u001B[49m\u001B[43m[\u001B[49m\u001B[38;5;241;43m0\u001B[39;49m\u001B[43m]\u001B[49m \u001B[38;5;241m=\u001B[39m \u001B[38;5;241m20\u001B[39m\n",
      "\u001B[0;31mTypeError\u001B[0m: 'tuple' object does not support item assignment"
     ]
    }
   ],
   "execution_count": 75
  },
  {
   "cell_type": "markdown",
   "source": [
    "Wenn wir versuchen, einem Element in einem Tupel einen neuen Wert zuzuweisen, erhalten wir einen Fehler:"
   ],
   "metadata": {
    "collapsed": false
   },
   "id": "3d8d1809205c4350"
  },
  {
   "cell_type": "markdown",
   "source": [
    "### Wörterbücher (_Dictionaries_)\n",
    "Dictionaries sind ebenfalls wie Listen, nur dass jedes Element ein Schlüssel-Wert-Paar ist. Die Syntax für Wörterbücher ist"
   ],
   "metadata": {
    "collapsed": false
   },
   "id": "bb7c9afe56b015b0"
  },
  {
   "cell_type": "code",
   "source": [
    "params = {\n",
    "    \"parameter1\" : 1.0,\n",
    "    \"parameter2\" : 2.0,\n",
    "    3 : 3.0,\n",
    "}\n",
    "\n",
    "print(type(params))\n",
    "print(params)"
   ],
   "metadata": {
    "collapsed": false,
    "ExecuteTime": {
     "end_time": "2024-08-04T15:54:57.530049Z",
     "start_time": "2024-08-04T15:54:57.526409Z"
    }
   },
   "id": "293971d94788c76e",
   "outputs": [
    {
     "name": "stdout",
     "output_type": "stream",
     "text": [
      "<class 'dict'>\n",
      "{'parameter1': 1.0, 'parameter2': 2.0, 3: 3.0}\n"
     ]
    }
   ],
   "execution_count": 76
  },
  {
   "cell_type": "code",
   "source": [
    "print(\"parameter1 = \" + str(params[\"parameter1\"]))\n",
    "print(\"parameter2 = \" + str(params[\"parameter2\"]))\n",
    "print(\"parameter3 = \" + str(params[\"parameter3\"]))"
   ],
   "metadata": {
    "collapsed": false,
    "ExecuteTime": {
     "end_time": "2024-08-04T15:54:57.589987Z",
     "start_time": "2024-08-04T15:54:57.578048Z"
    }
   },
   "id": "421c5441ab351221",
   "outputs": [
    {
     "name": "stdout",
     "output_type": "stream",
     "text": [
      "parameter1 = 1.0\n",
      "parameter2 = 2.0\n"
     ]
    },
    {
     "ename": "KeyError",
     "evalue": "'parameter3'",
     "output_type": "error",
     "traceback": [
      "\u001B[0;31m---------------------------------------------------------------------------\u001B[0m",
      "\u001B[0;31mKeyError\u001B[0m                                  Traceback (most recent call last)",
      "Cell \u001B[0;32mIn[77], line 3\u001B[0m\n\u001B[1;32m      1\u001B[0m \u001B[38;5;28mprint\u001B[39m(\u001B[38;5;124m\"\u001B[39m\u001B[38;5;124mparameter1 = \u001B[39m\u001B[38;5;124m\"\u001B[39m \u001B[38;5;241m+\u001B[39m \u001B[38;5;28mstr\u001B[39m(params[\u001B[38;5;124m\"\u001B[39m\u001B[38;5;124mparameter1\u001B[39m\u001B[38;5;124m\"\u001B[39m]))\n\u001B[1;32m      2\u001B[0m \u001B[38;5;28mprint\u001B[39m(\u001B[38;5;124m\"\u001B[39m\u001B[38;5;124mparameter2 = \u001B[39m\u001B[38;5;124m\"\u001B[39m \u001B[38;5;241m+\u001B[39m \u001B[38;5;28mstr\u001B[39m(params[\u001B[38;5;124m\"\u001B[39m\u001B[38;5;124mparameter2\u001B[39m\u001B[38;5;124m\"\u001B[39m]))\n\u001B[0;32m----> 3\u001B[0m \u001B[38;5;28mprint\u001B[39m(\u001B[38;5;124m\"\u001B[39m\u001B[38;5;124mparameter3 = \u001B[39m\u001B[38;5;124m\"\u001B[39m \u001B[38;5;241m+\u001B[39m \u001B[38;5;28mstr\u001B[39m(\u001B[43mparams\u001B[49m\u001B[43m[\u001B[49m\u001B[38;5;124;43m\"\u001B[39;49m\u001B[38;5;124;43mparameter3\u001B[39;49m\u001B[38;5;124;43m\"\u001B[39;49m\u001B[43m]\u001B[49m))\n",
      "\u001B[0;31mKeyError\u001B[0m: 'parameter3'"
     ]
    }
   ],
   "execution_count": 77
  },
  {
   "cell_type": "code",
   "source": [
    "params[\"parameter1\"] = \"A\"\n",
    "params[\"parameter2\"] = \"B\"\n",
    "\n",
    "# add a new entry\n",
    "params[\"parameter4\"] = \"D\"\n",
    "\n",
    "print(\"parameter1 = \" + str(params[\"parameter1\"]))\n",
    "print(\"parameter2 = \" + str(params[\"parameter2\"]))\n",
    "print(\"parameter3 = \" + str(params[\"parameter3\"]))\n",
    "print(\"parameter4 = \" + str(params[\"parameter4\"]))"
   ],
   "metadata": {
    "collapsed": false,
    "ExecuteTime": {
     "end_time": "2024-08-04T15:54:57.655386Z",
     "start_time": "2024-08-04T15:54:57.643286Z"
    }
   },
   "id": "69cccde9e237ed93",
   "outputs": [
    {
     "name": "stdout",
     "output_type": "stream",
     "text": [
      "parameter1 = A\n",
      "parameter2 = B\n"
     ]
    },
    {
     "ename": "KeyError",
     "evalue": "'parameter3'",
     "output_type": "error",
     "traceback": [
      "\u001B[0;31m---------------------------------------------------------------------------\u001B[0m",
      "\u001B[0;31mKeyError\u001B[0m                                  Traceback (most recent call last)",
      "Cell \u001B[0;32mIn[78], line 9\u001B[0m\n\u001B[1;32m      7\u001B[0m \u001B[38;5;28mprint\u001B[39m(\u001B[38;5;124m\"\u001B[39m\u001B[38;5;124mparameter1 = \u001B[39m\u001B[38;5;124m\"\u001B[39m \u001B[38;5;241m+\u001B[39m \u001B[38;5;28mstr\u001B[39m(params[\u001B[38;5;124m\"\u001B[39m\u001B[38;5;124mparameter1\u001B[39m\u001B[38;5;124m\"\u001B[39m]))\n\u001B[1;32m      8\u001B[0m \u001B[38;5;28mprint\u001B[39m(\u001B[38;5;124m\"\u001B[39m\u001B[38;5;124mparameter2 = \u001B[39m\u001B[38;5;124m\"\u001B[39m \u001B[38;5;241m+\u001B[39m \u001B[38;5;28mstr\u001B[39m(params[\u001B[38;5;124m\"\u001B[39m\u001B[38;5;124mparameter2\u001B[39m\u001B[38;5;124m\"\u001B[39m]))\n\u001B[0;32m----> 9\u001B[0m \u001B[38;5;28mprint\u001B[39m(\u001B[38;5;124m\"\u001B[39m\u001B[38;5;124mparameter3 = \u001B[39m\u001B[38;5;124m\"\u001B[39m \u001B[38;5;241m+\u001B[39m \u001B[38;5;28mstr\u001B[39m(\u001B[43mparams\u001B[49m\u001B[43m[\u001B[49m\u001B[38;5;124;43m\"\u001B[39;49m\u001B[38;5;124;43mparameter3\u001B[39;49m\u001B[38;5;124;43m\"\u001B[39;49m\u001B[43m]\u001B[49m))\n\u001B[1;32m     10\u001B[0m \u001B[38;5;28mprint\u001B[39m(\u001B[38;5;124m\"\u001B[39m\u001B[38;5;124mparameter4 = \u001B[39m\u001B[38;5;124m\"\u001B[39m \u001B[38;5;241m+\u001B[39m \u001B[38;5;28mstr\u001B[39m(params[\u001B[38;5;124m\"\u001B[39m\u001B[38;5;124mparameter4\u001B[39m\u001B[38;5;124m\"\u001B[39m]))\n",
      "\u001B[0;31mKeyError\u001B[0m: 'parameter3'"
     ]
    }
   ],
   "execution_count": 78
  },
  {
   "cell_type": "markdown",
   "source": [
    "## Kontrollfluss"
   ],
   "metadata": {
    "collapsed": false
   },
   "id": "e1c4df0fff205cfb"
  },
  {
   "cell_type": "markdown",
   "source": [
    "# Referenzen | Wichtige Links\n",
    "\n",
    "- [Python.org](https://www.python.org/) - _Downloads_, Dokumentation, Handbücher, Einfühung $\\ldots$\n",
    "- [PyPi.org](https://pypi.org/) - Python Package Index\n",
    "\n",
    "### Nützliche Bibliotheken\n",
    "- [NumPy.org](https://numpy.org/) - Numerical Python\n",
    "- [SciPy.org](https://scipy.org/) - Scientific Python\n",
    "- [SymPy.org](https://www.sympy.org/) - Symbolische Mathematik\n",
    "\n",
    "### Online Tutorials\n",
    "- [Python Tutorial](https://docs.python.org/3/tutorial/) - Die offizielle Python Einführung\n",
    "- [Think Python](https://www.greenteapress.com/thinkpython) - A free book on Python.\n",
    "- [Python 3 Tutorial](https://www.python-kurs.eu/python_kurs.php) - Deutsche _Online_ Einführung in Python 3\n",
    "- [Tutorialspoint](https://www.tutorialspoint.com/python/index.htm)\n",
    "- [W3Schools](https://www.w3schools.com/python/default.asp)\n",
    "\n",
    "### YouTube Tutorials\n",
    "\n",
    "- [PyCharm](https://www.youtube.com/watch?v=iZNu8bpu-Ys) - IDE für professionelle Python Entwicklung"
   ],
   "metadata": {
    "collapsed": false
   },
   "id": "1f9a135e1e9c16ee"
  }
 ],
 "metadata": {
  "kernelspec": {
   "display_name": "Python 3",
   "language": "python",
   "name": "python3"
  },
  "language_info": {
   "codemirror_mode": {
    "name": "ipython",
    "version": 2
   },
   "file_extension": ".py",
   "mimetype": "text/x-python",
   "name": "python",
   "nbconvert_exporter": "python",
   "pygments_lexer": "ipython2",
   "version": "2.7.6"
  }
 },
 "nbformat": 4,
 "nbformat_minor": 5
}
