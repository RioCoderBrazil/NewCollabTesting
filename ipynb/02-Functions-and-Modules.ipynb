{
 "nbformat": 4,
 "nbformat_minor": 0,
 "metadata": {
  "colab": {
   "provenance": [],
   "toc_visible": true
  },
  "kernelspec": {
   "name": "python3",
   "language": "python",
   "display_name": "Python 3 (ipykernel)"
  }
 },
 "cells": [
  {
   "cell_type": "markdown",
   "metadata": {
    "id": "Xw13oS3z4juO"
   },
   "source": [
    "# Funktionen\n",
    "\n",
    "---"
   ]
  },
  {
   "cell_type": "markdown",
   "metadata": {
    "id": "v-rIJn0_LjwA"
   },
   "source": [
    "In diesem Kapitel zeigen wir, wie man in Python eigene Funktionen schreibt. Funktionen hatten wir bereits in den vorigen Kapiteln benutzt. So benutzten wir die Funktion `len`, um die Anzahl der Zeichen eines Strings oder die Anzahl der Elemente einer Liste zu ermitteln.\n",
    "\n",
    "Eine Funktion wird aufgerufen und liefert einen Wert – oder genauer gesagt: ein Objekt – zurück. Diesen Wert kann man auch wieder in einem Ausdruck weiterverwenden, wie wir es im nächsten Beispiel tun. Wir multiplizieren den Rückgabewert mit der Zahl 3:"
   ]
  },
  {
   "cell_type": "code",
   "metadata": {
    "id": "P2owzEJiLufq",
    "colab": {
     "base_uri": "https://localhost:8080/"
    },
    "executionInfo": {
     "status": "ok",
     "timestamp": 1694623170052,
     "user_tz": -120,
     "elapsed": 10,
     "user": {
      "displayName": "Daniel Senften",
      "userId": "05364229159230685820"
     }
    },
    "outputId": "14292fcb-72cb-4986-90af-fe63213bd51c",
    "ExecuteTime": {
     "end_time": "2024-08-08T06:26:43.909845Z",
     "start_time": "2024-08-08T06:26:43.898239Z"
    }
   },
   "source": [
    "name = \"Monty Python\"\n",
    "\n",
    "print(len(name) * 3)\n",
    "print(type(name))\n",
    "print(type(len))"
   ],
   "outputs": [
    {
     "name": "stdout",
     "output_type": "stream",
     "text": [
      "Daniel Senften\n",
      "\n",
      "36\n",
      "<class 'str'>\n",
      "<class 'builtin_function_or_method'>\n"
     ]
    }
   ],
   "execution_count": 54
  },
  {
   "cell_type": "markdown",
   "metadata": {
    "id": "jwE752CZ4rHp"
   },
   "source": [
    "## Syntax in Python"
   ]
  },
  {
   "cell_type": "markdown",
   "metadata": {
    "id": "naBLeCYOL8D7"
   },
   "source": "Eine Funktionsdefinition wird mit dem Schlüsselwort `def` eingeleitet, gefolgt von einem frei wählbaren Funktionsnamen. Eingeschlossen in ein Klammerpaar folgt dann die Parameterliste. Sie kann auch leer sein. Die Parameternamen der Parameterliste werden durch Kommata getrennt."
  },
  {
   "cell_type": "markdown",
   "metadata": {
    "id": "NCuVqgRi41A8"
   },
   "source": [
    "```\n",
    "def funktions-name(Parameterliste):\n",
    "    Anweisung(en)\n",
    "```"
   ]
  },
  {
   "cell_type": "markdown",
   "metadata": {
    "id": "V538toIJ5SxB"
   },
   "source": [
    "Die Parameterliste besteht aus einem oder mehr Bezeichnern, die durch Kommata getrennt sind. Die Parameter der Definition werden beim Aufruf der Funtion als Argumente bezeichnet. Meistens werden die beiden Begriffe jedoch fälschlicherweise wie Synonyme verwendet.\n",
    "Parameter können obligatorisch und optional sein. Die optionalen Parameter (0 oder mehr) folgen den obligatorischen."
   ]
  },
  {
   "cell_type": "markdown",
   "metadata": {
    "id": "AtfbrZ_C5ePr"
   },
   "source": [
    "Der Funktionskörper (*function body*), also die Anweisungen, die ausgeführt werden, wenn die Funktion aufgerufen wird, wird in Python durch eine homogene Einrückung markiert. Also ebenso wie alle anderen Blöcke in Python. Die Funktionsdefinition ist beendet, wenn eine Anweisung erfolgt, die wieder auf der selben Einrückungsstufe steht, wie der Kopf der Funktion."
   ]
  },
  {
   "cell_type": "markdown",
   "metadata": {
    "id": "8W9q7aHFMCRy"
   },
   "source": [
    "Schauen wir uns ein einfaches Beispiel an:"
   ]
  },
  {
   "cell_type": "code",
   "metadata": {
    "id": "U2qdGDPLMD7y",
    "colab": {
     "base_uri": "https://localhost:8080/"
    },
    "executionInfo": {
     "status": "ok",
     "timestamp": 1712679167883,
     "user_tz": -120,
     "elapsed": 5,
     "user": {
      "displayName": "Daniel Senften",
      "userId": "05364229159230685820"
     }
    },
    "outputId": "e9bd0ee9-7e8a-4426-b533-6f01f090f251",
    "ExecuteTime": {
     "end_time": "2024-08-08T06:57:25.858897Z",
     "start_time": "2024-08-08T06:57:25.850269Z"
    }
   },
   "source": [
    "def generate_greeting(name: str):\n",
    "    if name == \"Monty Python\":\n",
    "        return\n",
    "    return f'Hello {name}'  # return 'Hello ' + name\n",
    "\n",
    "\n",
    "greeting = generate_greeting('Hans')\n",
    "print(greeting)\n",
    "\n",
    "print(f'Resultat: {generate_greeting('Monty Python')}')"
   ],
   "outputs": [
    {
     "name": "stdout",
     "output_type": "stream",
     "text": [
      "Hello Hans\n",
      "Resultat: None\n"
     ]
    }
   ],
   "execution_count": 65
  },
  {
   "cell_type": "markdown",
   "metadata": {
    "id": "R_kImnBy5vIw"
   },
   "source": [
    "Der Funktionskörper kann ein oder mehrere return-Anweisungen enthalten. Diese können sich an beliebiger Stelle innerhalb des Funktionskörpers befinden. Eine return-Anweisung beendet den Funktionsaufruf und das Ergebnis des Ausdrucks, der hinter der return-Anweisung steht, wird an die aufrufende Stelle zurückgeliefert. Falls kein Ausdruck dem return folgt, wird der spezielle Wert None zurückgeliefert. Wird das Ende eines Funktionskörpers erreicht, ohne auf eine return-Anweisung gestossen zu sein, endet der Funktionsaufruf und es wird ebenfalls der Wert `None` zurückgegeben."
   ]
  },
  {
   "cell_type": "markdown",
   "metadata": {
    "id": "-4FJBCTQMWQf"
   },
   "source": [
    "Ein weiteres Beispiel:"
   ]
  },
  {
   "cell_type": "code",
   "metadata": {
    "id": "FLGBUucsMW-f",
    "colab": {
     "base_uri": "https://localhost:8080/"
    },
    "executionInfo": {
     "status": "ok",
     "timestamp": 1712681201990,
     "user_tz": -120,
     "elapsed": 6,
     "user": {
      "displayName": "Daniel Senften",
      "userId": "05364229159230685820"
     }
    },
    "outputId": "8c0954b5-b69f-4b6d-9def-e01991af1f39",
    "ExecuteTime": {
     "end_time": "2024-08-08T07:07:17.307634Z",
     "start_time": "2024-08-08T07:07:17.285613Z"
    }
   },
   "source": [
    "def fahrenheit(celsius):\n",
    "    \"\"\"returs the temperature in degrees Fahrenheit\"\"\"\n",
    "    return (celsius * 9 / 5) + 32\n",
    "\n",
    "for temp in (7, 22.6, 25.8, 27.3, 100):\n",
    "    print('%6.2f°C → %6.2f°F' % (temp, fahrenheit(temp)))"
   ],
   "outputs": [
    {
     "name": "stdout",
     "output_type": "stream",
     "text": [
      "  7.00°C →  44.60°F\n",
      " 22.60°C →  72.68°F\n",
      " 25.80°C →  78.44°F\n",
      " 27.30°C →  81.14°F\n",
      "100.20°C → 212.36°F\n"
     ]
    }
   ],
   "execution_count": 66
  },
  {
   "cell_type": "markdown",
   "metadata": {
    "id": "hH9SsF366fj1"
   },
   "source": [
    "## Beispiel einer Funktion mit optionalen Parametern"
   ]
  },
  {
   "cell_type": "markdown",
   "metadata": {
    "id": "MQDV9WLe6kOY"
   },
   "source": [
    "Funktionen können auch optionale Parameter haben. Man nennt sie auch Default-Parameter. Dies sind Parameter, die beim Aufruf nicht angegeben werden müssen. In diesem Fall werden dann Default-Werte für diese Parameter eingesetzt.\n",
    "\n",
    "Wir zeigen dies an einem Beispiel. Das folgende kleine Skript, das nicht sehr nützlich ist, begrüßt eine Person mit Namen. Falls beim Aufruf allerdings kein Name übergeben wird, druckt sie nur `\"Hello everybody!\"`:"
   ]
  },
  {
   "cell_type": "code",
   "metadata": {
    "id": "Uvj9KO7T6we1",
    "executionInfo": {
     "status": "ok",
     "timestamp": 1712681833082,
     "user_tz": -120,
     "elapsed": 348,
     "user": {
      "displayName": "Daniel Senften",
      "userId": "05364229159230685820"
     }
    },
    "ExecuteTime": {
     "end_time": "2024-08-08T07:10:42.988565Z",
     "start_time": "2024-08-08T07:10:42.980853Z"
    }
   },
   "source": [
    "def hello(name='everybody'):\n",
    "    \"\"\" Greets a person \"\"\"\n",
    "    print(f\"Hello {name}!\")\n"
   ],
   "outputs": [],
   "execution_count": 67
  },
  {
   "cell_type": "code",
   "metadata": {
    "id": "qZ2nac887a3p",
    "colab": {
     "base_uri": "https://localhost:8080/"
    },
    "executionInfo": {
     "status": "ok",
     "timestamp": 1712681842384,
     "user_tz": -120,
     "elapsed": 499,
     "user": {
      "displayName": "Daniel Senften",
      "userId": "05364229159230685820"
     }
    },
    "outputId": "b1c7b72b-9078-4442-f8ab-49c595903f6e",
    "ExecuteTime": {
     "end_time": "2024-08-08T07:11:25.328117Z",
     "start_time": "2024-08-08T07:11:25.319426Z"
    }
   },
   "source": "hello(\"Daniel\")",
   "outputs": [
    {
     "name": "stdout",
     "output_type": "stream",
     "text": [
      "Hello Daniel!\n"
     ]
    }
   ],
   "execution_count": 70
  },
  {
   "cell_type": "code",
   "metadata": {
    "id": "Qqm31SbR7gLu",
    "colab": {
     "base_uri": "https://localhost:8080/"
    },
    "executionInfo": {
     "status": "ok",
     "timestamp": 1712681868953,
     "user_tz": -120,
     "elapsed": 451,
     "user": {
      "displayName": "Daniel Senften",
      "userId": "05364229159230685820"
     }
    },
    "outputId": "bbd08819-f934-4c50-e07d-278e01e1ec6b",
    "ExecuteTime": {
     "end_time": "2024-08-08T07:11:00.833975Z",
     "start_time": "2024-08-08T07:11:00.813033Z"
    }
   },
   "source": [
    "hello()"
   ],
   "outputs": [
    {
     "name": "stdout",
     "output_type": "stream",
     "text": [
      "Hello everybody!\n"
     ]
    }
   ],
   "execution_count": 69
  },
  {
   "cell_type": "markdown",
   "metadata": {
    "id": "PjLi3mx-NOmd"
   },
   "source": [
    "## Docstring - Dokumentieren einer Funktion"
   ]
  },
  {
   "cell_type": "markdown",
   "metadata": {
    "id": "zcBZUhNNNTtc"
   },
   "source": [
    "Wie der Name nahelegt, handelt es sich beim Docstring um einen String, der zu Dokumentationszwecken dient. Er steht in einer Funktion direkt nach dem Funktionskopf, also nach der `def`-Zeile. Der Wert des Docstrings ist in dem Attribut .`__doc__` gespeichert und vom Programm aus abrufbar."
   ]
  },
  {
   "cell_type": "code",
   "metadata": {
    "id": "tmlVOsvaNrDm",
    "colab": {
     "base_uri": "https://localhost:8080/"
    },
    "executionInfo": {
     "status": "ok",
     "timestamp": 1712682107312,
     "user_tz": -120,
     "elapsed": 479,
     "user": {
      "displayName": "Daniel Senften",
      "userId": "05364229159230685820"
     }
    },
    "outputId": "539add61-d000-45c4-c65c-29e0c4d01eb3",
    "ExecuteTime": {
     "end_time": "2024-08-08T07:23:46.341064Z",
     "start_time": "2024-08-08T07:23:46.331411Z"
    }
   },
   "source": [
    "def fahrenheit(celsius: float):\n",
    "    \"\"\"\n",
    "    Returns the temperature in degrees Fahrenheit\n",
    "\n",
    "    :param celsius: degree in celsius\n",
    "    :return: degree in fahrenheit\n",
    "    \"\"\"\n",
    "    return (celsius * 9 / 5) + 32\n",
    "\n",
    "print(fahrenheit(10))"
   ],
   "outputs": [
    {
     "name": "stdout",
     "output_type": "stream",
     "text": [
      "50.0\n"
     ]
    }
   ],
   "execution_count": 72
  },
  {
   "cell_type": "code",
   "metadata": {
    "id": "Pos9qekjN1at",
    "colab": {
     "base_uri": "https://localhost:8080/",
     "height": 52
    },
    "executionInfo": {
     "status": "ok",
     "timestamp": 1712682110778,
     "user_tz": -120,
     "elapsed": 475,
     "user": {
      "displayName": "Daniel Senften",
      "userId": "05364229159230685820"
     }
    },
    "outputId": "05c02fe1-828b-44bf-f15b-9b5c9f391a96",
    "ExecuteTime": {
     "end_time": "2024-08-08T07:24:46.895402Z",
     "start_time": "2024-08-08T07:24:46.885151Z"
    }
   },
   "source": [
    "fahrenheit.__doc__"
   ],
   "outputs": [
    {
     "data": {
      "text/plain": [
       "'\\n    Returns the temperature in degrees Fahrenheit\\n\\n    :param celsius: degree in celsius\\n    :return: degree in fahrenheit\\n    '"
      ]
     },
     "execution_count": 73,
     "metadata": {},
     "output_type": "execute_result"
    }
   ],
   "execution_count": 73
  },
  {
   "cell_type": "markdown",
   "metadata": {
    "id": "QcJWwsRrOT--"
   },
   "source": [
    "Die besondere Bedeutung des Docstrings sieht man, wenn man die help-Funktion benutzt. Wenn wir in der Shell den Befehl\n",
    "`help(fahrenheit)` eingeben, erhalten wir folgende Ausgabe:"
   ]
  },
  {
   "cell_type": "code",
   "metadata": {
    "id": "4dpKP880N8Di",
    "colab": {
     "base_uri": "https://localhost:8080/"
    },
    "executionInfo": {
     "status": "ok",
     "timestamp": 1712682158355,
     "user_tz": -120,
     "elapsed": 364,
     "user": {
      "displayName": "Daniel Senften",
      "userId": "05364229159230685820"
     }
    },
    "outputId": "24b958e6-5e1b-4e42-af9f-9ae966e464bf",
    "ExecuteTime": {
     "end_time": "2024-08-08T07:26:23.411266Z",
     "start_time": "2024-08-08T07:26:23.409001Z"
    }
   },
   "source": "help(fahrenheit)",
   "outputs": [
    {
     "name": "stdout",
     "output_type": "stream",
     "text": [
      "Help on function fahrenheit in module __main__:\n",
      "\n",
      "fahrenheit(celsius: float)\n",
      "    Returns the temperature in degrees Fahrenheit\n",
      "\n",
      "    :param celsius: degree in celsius\n",
      "    :return: degree in fahrenheit\n",
      "\n"
     ]
    }
   ],
   "execution_count": 76
  },
  {
   "cell_type": "markdown",
   "metadata": {
    "id": "ptsKLCQ2Ojtr"
   },
   "source": [
    "## Standardwerte für Funktionen"
   ]
  },
  {
   "cell_type": "markdown",
   "metadata": {
    "id": "CxsQFB-mOsr9"
   },
   "source": [
    "Man hat auch die Möglichkeit, die Parameter einer Funktion mit Standardwerten – meist\n",
    "auch als Default-Werte bezeichnet – zu versehen. Diese Parameter sind dann optional beim\n",
    "Aufruf der Funktion, d.h. man kann für einen solchen Parameter ein Argument zur Verfügung stellen, muss das aber nicht."
   ]
  },
  {
   "cell_type": "code",
   "metadata": {
    "id": "tDG1Iz4QO0Tq",
    "ExecuteTime": {
     "end_time": "2024-08-07T20:20:40.585806Z",
     "start_time": "2024-08-07T20:20:40.579296Z"
    }
   },
   "source": [
    "def hallo(name=\"Namenloser\"):\n",
    "    print(\"Hallo \" + name + \"!\")"
   ],
   "outputs": [],
   "execution_count": 11
  },
  {
   "cell_type": "code",
   "metadata": {
    "id": "djtCMSqNO4ts",
    "colab": {
     "base_uri": "https://localhost:8080/"
    },
    "executionInfo": {
     "status": "ok",
     "timestamp": 1694626203183,
     "user_tz": -120,
     "elapsed": 266,
     "user": {
      "displayName": "Daniel Senften",
      "userId": "05364229159230685820"
     }
    },
    "outputId": "3be02b36-a880-4966-99de-be5576740010",
    "ExecuteTime": {
     "end_time": "2024-08-07T20:20:40.795073Z",
     "start_time": "2024-08-07T20:20:40.786919Z"
    }
   },
   "source": [
    "hallo(\"Peter\")"
   ],
   "outputs": [
    {
     "name": "stdout",
     "output_type": "stream",
     "text": [
      "Hallo Peter!\n"
     ]
    }
   ],
   "execution_count": 12
  },
  {
   "cell_type": "code",
   "metadata": {
    "id": "1dIIMMr0O6xV",
    "colab": {
     "base_uri": "https://localhost:8080/"
    },
    "executionInfo": {
     "status": "ok",
     "timestamp": 1694626200319,
     "user_tz": -120,
     "elapsed": 269,
     "user": {
      "displayName": "Daniel Senften",
      "userId": "05364229159230685820"
     }
    },
    "outputId": "0108e3e1-c314-4819-cb68-87355b995baf",
    "ExecuteTime": {
     "end_time": "2024-08-07T20:20:41.024346Z",
     "start_time": "2024-08-07T20:20:41.018427Z"
    }
   },
   "source": [
    "hallo()"
   ],
   "outputs": [
    {
     "name": "stdout",
     "output_type": "stream",
     "text": [
      "Hallo Namenloser!\n"
     ]
    }
   ],
   "execution_count": 13
  },
  {
   "cell_type": "markdown",
   "metadata": {
    "id": "CJ2ZQue9PB41"
   },
   "source": [
    "Im nächsten Beispiel definieren wir die Funktion „umfang”, die den Umfang eines Rechtecks berechnet:"
   ]
  },
  {
   "cell_type": "code",
   "metadata": {
    "id": "Jiwd4PIVPGRk",
    "executionInfo": {
     "status": "ok",
     "timestamp": 1712683473149,
     "user_tz": -120,
     "elapsed": 353,
     "user": {
      "displayName": "Daniel Senften",
      "userId": "05364229159230685820"
     }
    },
    "ExecuteTime": {
     "end_time": "2024-08-08T07:29:46.731102Z",
     "start_time": "2024-08-08T07:29:46.727587Z"
    }
   },
   "source": [
    "def umfang(laenge=2, breite=1):\n",
    "    return 2 * (laenge + breite)"
   ],
   "outputs": [],
   "execution_count": 78
  },
  {
   "cell_type": "code",
   "metadata": {
    "id": "_8Vr8EjmPOGg",
    "colab": {
     "base_uri": "https://localhost:8080/"
    },
    "executionInfo": {
     "status": "ok",
     "timestamp": 1712683512461,
     "user_tz": -120,
     "elapsed": 338,
     "user": {
      "displayName": "Daniel Senften",
      "userId": "05364229159230685820"
     }
    },
    "outputId": "308d2f68-c082-47c4-ed2d-03a43360b711",
    "ExecuteTime": {
     "end_time": "2024-08-08T07:29:49.177906Z",
     "start_time": "2024-08-08T07:29:49.173218Z"
    }
   },
   "source": "umfang(breite=5, laenge=7)",
   "outputs": [
    {
     "data": {
      "text/plain": [
       "14"
      ]
     },
     "execution_count": 79,
     "metadata": {},
     "output_type": "execute_result"
    }
   ],
   "execution_count": 79
  },
  {
   "cell_type": "code",
   "metadata": {
    "id": "o5R_-VsTPOyQ",
    "colab": {
     "base_uri": "https://localhost:8080/"
    },
    "executionInfo": {
     "status": "ok",
     "timestamp": 1712683556645,
     "user_tz": -120,
     "elapsed": 362,
     "user": {
      "displayName": "Daniel Senften",
      "userId": "05364229159230685820"
     }
    },
    "outputId": "49922e19-c51b-43bd-cc54-b7bafbc62340",
    "ExecuteTime": {
     "end_time": "2024-08-07T20:20:41.597210Z",
     "start_time": "2024-08-07T20:20:41.589049Z"
    }
   },
   "source": [
    "umfang(5) # für die Breite wird der Standardwert `1` benutzt"
   ],
   "outputs": [
    {
     "data": {
      "text/plain": [
       "12"
      ]
     },
     "execution_count": 16,
     "metadata": {},
     "output_type": "execute_result"
    }
   ],
   "execution_count": 16
  },
  {
   "cell_type": "code",
   "metadata": {
    "id": "5PYqiS7yPYSJ",
    "colab": {
     "base_uri": "https://localhost:8080/"
    },
    "executionInfo": {
     "status": "ok",
     "timestamp": 1694626302051,
     "user_tz": -120,
     "elapsed": 321,
     "user": {
      "displayName": "Daniel Senften",
      "userId": "05364229159230685820"
     }
    },
    "outputId": "37595fae-2471-4369-de13-78afe3f3a8f9",
    "ExecuteTime": {
     "end_time": "2024-08-07T20:20:41.711435Z",
     "start_time": "2024-08-07T20:20:41.696824Z"
    }
   },
   "source": [
    "umfang(laenge=56)  # es werden beide Standardwerte benutzt"
   ],
   "outputs": [
    {
     "data": {
      "text/plain": [
       "114"
      ]
     },
     "execution_count": 17,
     "metadata": {},
     "output_type": "execute_result"
    }
   ],
   "execution_count": 17
  },
  {
   "cell_type": "markdown",
   "metadata": {
    "id": "cgdKx5lhPqj8"
   },
   "source": [
    "Wie sieht es aber aus, wenn wir nur einen Wert für die Breite angeben wollen? Bisher wurden die Argumente der Reihenfolge nach an die Parameter übergeben. Übergibt man nur ein Argument, bedeutet das automatisch, dass dies ein Wert für den ersten Parameter darstellt, also in unserem Fall für `laenge`."
   ]
  },
  {
   "cell_type": "markdown",
   "metadata": {
    "id": "2PYESmhvPi8L"
   },
   "source": [
    "## Schlüsselwortparameter"
   ]
  },
  {
   "cell_type": "markdown",
   "metadata": {
    "id": "4CzKtJImPy-A"
   },
   "source": [
    "Für das zuletzt beschriebene Problem liefern die Schlüsselwortparameter eine Lösung. Schlüsselwortparameter werden benutzt, um beim Aufruf einer Funktion einen Ausdruck einem bestimmten Parameter zuzuordnen. Die Funktionsdefinition selbst ändert sich nicht, d.h. ein Schlüsselwortparameter entspricht einem Parameter."
   ]
  },
  {
   "cell_type": "code",
   "metadata": {
    "id": "6bvNfzCrP18k",
    "colab": {
     "base_uri": "https://localhost:8080/"
    },
    "executionInfo": {
     "status": "ok",
     "timestamp": 1688404522090,
     "user_tz": -120,
     "elapsed": 347,
     "user": {
      "displayName": "Daniel Senften",
      "userId": "05364229159230685820"
     }
    },
    "outputId": "1b43cf8e-c193-408b-9c6d-1fa9509158d3",
    "ExecuteTime": {
     "end_time": "2024-08-07T20:20:41.924646Z",
     "start_time": "2024-08-07T20:20:41.917141Z"
    }
   },
   "source": [
    "umfang(breite=1.5)"
   ],
   "outputs": [
    {
     "data": {
      "text/plain": [
       "7.0"
      ]
     },
     "execution_count": 18,
     "metadata": {},
     "output_type": "execute_result"
    }
   ],
   "execution_count": 18
  },
  {
   "cell_type": "markdown",
   "metadata": {
    "id": "8lJzCSjcQAAd"
   },
   "source": [
    "## Mehrere Rückgabewerte"
   ]
  },
  {
   "cell_type": "markdown",
   "metadata": {
    "id": "ZoaKwdWtQG5A"
   },
   "source": [
    "Eine Funktion kann genau ein Objekt zurückliefern, welches beispielsweise ein numerischer Wert wie eine ganze Zahl (Integer) oder eine Fliesskommazahl (float) sein kann, aber auch ein komplexes Objekt wie etwa eine Liste oder ein Dictionary."
   ]
  },
  {
   "cell_type": "markdown",
   "metadata": {
    "id": "7Gk-yaNPQR4B"
   },
   "source": [
    "Im folgenden Beispiel berechnet die Funktion `fib_intervall` die [Fibonacci](https://de.wikipedia.org/wiki/Fibonacci-Folge)-Begrenzung für eine beliebige positive Zahl, d.h. sie liefert ein 2-Tupel zurück. Das erste Element ist die größte Fibonacci-Zahl, die kleiner oder gleich x ist, und die zweite Komponente ist die kleinste Fibonacci-Zahl grösser oder gleich $x$."
   ]
  },
  {
   "cell_type": "code",
   "metadata": {
    "id": "2EsZe6oXRFZK",
    "executionInfo": {
     "status": "ok",
     "timestamp": 1712683984837,
     "user_tz": -120,
     "elapsed": 409,
     "user": {
      "displayName": "Daniel Senften",
      "userId": "05364229159230685820"
     }
    },
    "ExecuteTime": {
     "end_time": "2024-08-07T20:20:42.014431Z",
     "start_time": "2024-08-07T20:20:41.998942Z"
    }
   },
   "source": [
    "def fib_interval(x):\n",
    "  \"\"\"\n",
    "  liefert ein Tupel mit der grössten Fibonacci-Zahl, kleiner oder\n",
    "  gleich x, und der kleinsten Fibonacci-Zahl, grösser oder gleich x, zurück\n",
    "  \"\"\"\n",
    "\n",
    "  if x < 0:\n",
    "    return -1\n",
    "\n",
    "  old, new = 0, 1\n",
    "\n",
    "  while True:\n",
    "    if new < x:\n",
    "      old, new = new, old + new\n",
    "    else:\n",
    "      return old, new"
   ],
   "outputs": [],
   "execution_count": 19
  },
  {
   "cell_type": "code",
   "metadata": {
    "id": "wXqZoTASRmo6",
    "colab": {
     "base_uri": "https://localhost:8080/"
    },
    "executionInfo": {
     "status": "ok",
     "timestamp": 1712683986945,
     "user_tz": -120,
     "elapsed": 382,
     "user": {
      "displayName": "Daniel Senften",
      "userId": "05364229159230685820"
     }
    },
    "outputId": "eb8e3909-4223-453d-af84-b1fe8b8c9246",
    "ExecuteTime": {
     "end_time": "2024-08-07T20:20:42.332700Z",
     "start_time": "2024-08-07T20:20:42.327298Z"
    }
   },
   "source": [
    "for i in range(0, 10):\n",
    "  print(i, fib_interval(i))"
   ],
   "outputs": [
    {
     "name": "stdout",
     "output_type": "stream",
     "text": [
      "0 (0, 1)\n",
      "1 (0, 1)\n",
      "2 (1, 2)\n",
      "3 (2, 3)\n",
      "4 (3, 5)\n",
      "5 (3, 5)\n",
      "6 (5, 8)\n",
      "7 (5, 8)\n",
      "8 (5, 8)\n",
      "9 (8, 13)\n"
     ]
    }
   ],
   "execution_count": 20
  },
  {
   "cell_type": "markdown",
   "metadata": {
    "id": "l1Hol_qtU8uL"
   },
   "source": [
    "## Variable Anzahl von Parametern"
   ]
  },
  {
   "cell_type": "markdown",
   "metadata": {
    "id": "rn2ZfUmxVCmW"
   },
   "source": [
    "Man hat sehr häufig Fälle, in denen die Anzahl der beim Aufruf nötigen Parameter nicht bekannt ist. Im Folgenden zeigen wir, wie man Funktionen definiert, die mit einer beliebigen Anzahl von Argumenten aufgerufen werden können."
   ]
  },
  {
   "cell_type": "code",
   "metadata": {
    "id": "BI2hC6enVfge",
    "executionInfo": {
     "status": "ok",
     "timestamp": 1712684273786,
     "user_tz": -120,
     "elapsed": 465,
     "user": {
      "displayName": "Daniel Senften",
      "userId": "05364229159230685820"
     }
    },
    "ExecuteTime": {
     "end_time": "2024-08-07T20:20:42.563880Z",
     "start_time": "2024-08-07T20:20:42.542349Z"
    }
   },
   "source": [
    "def variable_arguments(*argument):\n",
    "  print(argument)"
   ],
   "outputs": [],
   "execution_count": 21
  },
  {
   "cell_type": "code",
   "metadata": {
    "id": "gKj91jneVp5y",
    "colab": {
     "base_uri": "https://localhost:8080/"
    },
    "executionInfo": {
     "status": "ok",
     "timestamp": 1712684292333,
     "user_tz": -120,
     "elapsed": 343,
     "user": {
      "displayName": "Daniel Senften",
      "userId": "05364229159230685820"
     }
    },
    "outputId": "355ed53a-f8ed-4ccf-ee78-02a2537be619",
    "ExecuteTime": {
     "end_time": "2024-08-07T20:20:42.822659Z",
     "start_time": "2024-08-07T20:20:42.807212Z"
    }
   },
   "source": [
    "variable_arguments()"
   ],
   "outputs": [
    {
     "name": "stdout",
     "output_type": "stream",
     "text": [
      "()\n"
     ]
    }
   ],
   "execution_count": 22
  },
  {
   "cell_type": "code",
   "metadata": {
    "id": "5hmBPQ4bVrl5",
    "colab": {
     "base_uri": "https://localhost:8080/"
    },
    "executionInfo": {
     "status": "ok",
     "timestamp": 1712684339165,
     "user_tz": -120,
     "elapsed": 421,
     "user": {
      "displayName": "Daniel Senften",
      "userId": "05364229159230685820"
     }
    },
    "outputId": "23e8730b-e58a-4356-e81d-c3bab3f3ad11",
    "ExecuteTime": {
     "end_time": "2024-08-07T20:20:43.146387Z",
     "start_time": "2024-08-07T20:20:43.117128Z"
    }
   },
   "source": [
    "variable_arguments(34, 'Do you like Python?', 'Yes, I do!', [1, 2], 3.14159)"
   ],
   "outputs": [
    {
     "name": "stdout",
     "output_type": "stream",
     "text": [
      "(34, 'Do you like Python?', 'Yes, I do!', [1, 2], 3.14159)\n"
     ]
    }
   ],
   "execution_count": 23
  },
  {
   "cell_type": "markdown",
   "metadata": {
    "id": "CpG60yWFV_Vx"
   },
   "source": [
    "Wir erkennen, dass die beim Aufruf an `variable_arguments` übergebenen Argumente in einem Tupel gesammelt werden. Auf dieses Tupel kann als „normale” Variable im Rumpf der Funktion zugegriffen werden. Ruft man die Funktion ohne jegliche Argumente auf, so ist $x$ ein leeres Tupel."
   ]
  },
  {
   "cell_type": "code",
   "metadata": {
    "id": "qt9W0DrPWO-h",
    "executionInfo": {
     "status": "ok",
     "timestamp": 1712684388577,
     "user_tz": -120,
     "elapsed": 327,
     "user": {
      "displayName": "Daniel Senften",
      "userId": "05364229159230685820"
     }
    },
    "ExecuteTime": {
     "end_time": "2024-08-07T20:20:43.368839Z",
     "start_time": "2024-08-07T20:20:43.345360Z"
    }
   },
   "source": [
    "def locations(city, *other_cities):\n",
    "  print(city, other_cities)"
   ],
   "outputs": [],
   "execution_count": 24
  },
  {
   "cell_type": "code",
   "metadata": {
    "id": "QFS8JFnOWbHJ",
    "colab": {
     "base_uri": "https://localhost:8080/"
    },
    "executionInfo": {
     "status": "ok",
     "timestamp": 1712684408569,
     "user_tz": -120,
     "elapsed": 377,
     "user": {
      "displayName": "Daniel Senften",
      "userId": "05364229159230685820"
     }
    },
    "outputId": "26ba0e1c-6cfd-4de4-e463-5d1687b79aa4",
    "ExecuteTime": {
     "end_time": "2024-08-07T20:20:43.717813Z",
     "start_time": "2024-08-07T20:20:43.679027Z"
    }
   },
   "source": [
    "locations('Berlin')"
   ],
   "outputs": [
    {
     "name": "stdout",
     "output_type": "stream",
     "text": [
      "Berlin ()\n"
     ]
    }
   ],
   "execution_count": 25
  },
  {
   "cell_type": "code",
   "metadata": {
    "id": "4mr_8bAzWf8J",
    "colab": {
     "base_uri": "https://localhost:8080/"
    },
    "executionInfo": {
     "status": "ok",
     "timestamp": 1712684438656,
     "user_tz": -120,
     "elapsed": 509,
     "user": {
      "displayName": "Daniel Senften",
      "userId": "05364229159230685820"
     }
    },
    "outputId": "5c191684-5202-40d8-818a-512ffbd7d9d3",
    "ExecuteTime": {
     "end_time": "2024-08-07T20:20:44.276214Z",
     "start_time": "2024-08-07T20:20:44.259309Z"
    }
   },
   "source": [
    "locations('Berlin', 'Freiburg', 'Stuttgart', 'Düsseldorf', 'Bern', \"Basel\")"
   ],
   "outputs": [
    {
     "name": "stdout",
     "output_type": "stream",
     "text": [
      "Berlin ('Freiburg', 'Stuttgart', 'Düsseldorf', 'Bern', 'Basel')\n"
     ]
    }
   ],
   "execution_count": 26
  },
  {
   "cell_type": "markdown",
   "metadata": {
    "id": "9G-UDE9UWwfn"
   },
   "source": [
    "Wir wollen dies an einem sinnvolleren Beispiel veranschaulichen. Wir schreiben dazu eine Funktion, die das arithmetische Mittel aus einer variablen Anzahl von Werten berechnet:"
   ]
  },
  {
   "cell_type": "code",
   "metadata": {
    "id": "vRbT8C98Wyj-",
    "executionInfo": {
     "status": "ok",
     "timestamp": 1712684477186,
     "user_tz": -120,
     "elapsed": 515,
     "user": {
      "displayName": "Daniel Senften",
      "userId": "05364229159230685820"
     }
    },
    "ExecuteTime": {
     "end_time": "2024-08-07T20:20:44.610253Z",
     "start_time": "2024-08-07T20:20:44.569577Z"
    }
   },
   "source": [
    "def mean(first, *others):\n",
    "  return(first + sum(others)) / (1 + len(others))"
   ],
   "outputs": [],
   "execution_count": 27
  },
  {
   "cell_type": "code",
   "metadata": {
    "id": "tHBCWZMgXFIg",
    "colab": {
     "base_uri": "https://localhost:8080/"
    },
    "executionInfo": {
     "status": "ok",
     "timestamp": 1712684600331,
     "user_tz": -120,
     "elapsed": 414,
     "user": {
      "displayName": "Daniel Senften",
      "userId": "05364229159230685820"
     }
    },
    "outputId": "d8860a91-f993-4beb-d965-1887132ba95d",
    "ExecuteTime": {
     "end_time": "2024-08-07T20:20:44.998498Z",
     "start_time": "2024-08-07T20:20:44.985531Z"
    }
   },
   "source": [
    "mean(1)"
   ],
   "outputs": [
    {
     "data": {
      "text/plain": [
       "1.0"
      ]
     },
     "execution_count": 28,
     "metadata": {},
     "output_type": "execute_result"
    }
   ],
   "execution_count": 28
  },
  {
   "cell_type": "code",
   "metadata": {
    "id": "Gz1B_C4JXGxG",
    "colab": {
     "base_uri": "https://localhost:8080/"
    },
    "executionInfo": {
     "status": "ok",
     "timestamp": 1712684607258,
     "user_tz": -120,
     "elapsed": 323,
     "user": {
      "displayName": "Daniel Senften",
      "userId": "05364229159230685820"
     }
    },
    "outputId": "b3cc5373-ac6b-4248-b795-f11d89c4d4eb",
    "ExecuteTime": {
     "end_time": "2024-08-07T20:20:45.131340Z",
     "start_time": "2024-08-07T20:20:45.112667Z"
    }
   },
   "source": [
    "mean(4, 5, 6, 7, 8, 3.14159)"
   ],
   "outputs": [
    {
     "data": {
      "text/plain": [
       "5.523598333333333"
      ]
     },
     "execution_count": 29,
     "metadata": {},
     "output_type": "execute_result"
    }
   ],
   "execution_count": 29
  },
  {
   "cell_type": "code",
   "metadata": {
    "id": "5I3Z2H4eXJiF",
    "colab": {
     "base_uri": "https://localhost:8080/"
    },
    "executionInfo": {
     "status": "ok",
     "timestamp": 1712684612230,
     "user_tz": -120,
     "elapsed": 388,
     "user": {
      "displayName": "Daniel Senften",
      "userId": "05364229159230685820"
     }
    },
    "outputId": "7d341111-f059-4ccb-9f5f-d25502779d07",
    "ExecuteTime": {
     "end_time": "2024-08-07T20:20:45.627993Z",
     "start_time": "2024-08-07T20:20:45.618109Z"
    }
   },
   "source": [
    "mean(35, 89, 103, 1, 17, 44, 12, 9, 4711, 3.14159)"
   ],
   "outputs": [
    {
     "data": {
      "text/plain": [
       "502.41415900000004"
      ]
     },
     "execution_count": 30,
     "metadata": {},
     "output_type": "execute_result"
    }
   ],
   "execution_count": 30
  },
  {
   "cell_type": "markdown",
   "metadata": {
    "id": "0vIzN1v_XW9V"
   },
   "source": [
    "Wie sieht es aber nun aus, wenn wir das arithmetische Mittel einer Liste oder eines Tupel berechnen wollen? Ruft man die Funktion mit einer Liste oder einem Tupel als Argument statt mit einer variablen Anzahl von Zahlen auf, wird ein Fehler generiert:"
   ]
  },
  {
   "cell_type": "code",
   "metadata": {
    "id": "lvBEoNkjXlPi",
    "colab": {
     "base_uri": "https://localhost:8080/",
     "height": 245
    },
    "executionInfo": {
     "status": "error",
     "timestamp": 1712684738923,
     "user_tz": -120,
     "elapsed": 347,
     "user": {
      "displayName": "Daniel Senften",
      "userId": "05364229159230685820"
     }
    },
    "outputId": "d163f904-5eb4-48d4-fc70-60fb71cdc749",
    "ExecuteTime": {
     "end_time": "2024-08-07T20:20:46.852863Z",
     "start_time": "2024-08-07T20:20:45.970952Z"
    }
   },
   "source": [
    "lst = [35, 89, 103, 1, 17, 44, 12, 9, 4711, 3.14159]\n",
    "\n",
    "mean(lst)"
   ],
   "outputs": [
    {
     "ename": "TypeError",
     "evalue": "can only concatenate list (not \"int\") to list",
     "output_type": "error",
     "traceback": [
      "\u001B[0;31m---------------------------------------------------------------------------\u001B[0m",
      "\u001B[0;31mTypeError\u001B[0m                                 Traceback (most recent call last)",
      "Cell \u001B[0;32mIn[31], line 3\u001B[0m\n\u001B[1;32m      1\u001B[0m lst \u001B[38;5;241m=\u001B[39m [\u001B[38;5;241m35\u001B[39m, \u001B[38;5;241m89\u001B[39m, \u001B[38;5;241m103\u001B[39m, \u001B[38;5;241m1\u001B[39m, \u001B[38;5;241m17\u001B[39m, \u001B[38;5;241m44\u001B[39m, \u001B[38;5;241m12\u001B[39m, \u001B[38;5;241m9\u001B[39m, \u001B[38;5;241m4711\u001B[39m, \u001B[38;5;241m3.14159\u001B[39m]\n\u001B[0;32m----> 3\u001B[0m \u001B[43mmean\u001B[49m\u001B[43m(\u001B[49m\u001B[43mlst\u001B[49m\u001B[43m)\u001B[49m\n",
      "Cell \u001B[0;32mIn[27], line 2\u001B[0m, in \u001B[0;36mmean\u001B[0;34m(first, *others)\u001B[0m\n\u001B[1;32m      1\u001B[0m \u001B[38;5;28;01mdef\u001B[39;00m \u001B[38;5;21mmean\u001B[39m(first, \u001B[38;5;241m*\u001B[39mothers):\n\u001B[0;32m----> 2\u001B[0m   \u001B[38;5;28;01mreturn\u001B[39;00m(\u001B[43mfirst\u001B[49m\u001B[43m \u001B[49m\u001B[38;5;241;43m+\u001B[39;49m\u001B[43m \u001B[49m\u001B[38;5;28;43msum\u001B[39;49m\u001B[43m(\u001B[49m\u001B[43mothers\u001B[49m\u001B[43m)\u001B[49m) \u001B[38;5;241m/\u001B[39m (\u001B[38;5;241m1\u001B[39m \u001B[38;5;241m+\u001B[39m \u001B[38;5;28mlen\u001B[39m(others))\n",
      "\u001B[0;31mTypeError\u001B[0m: can only concatenate list (not \"int\") to list"
     ]
    }
   ],
   "execution_count": 31
  },
  {
   "cell_type": "markdown",
   "metadata": {
    "id": "LKs5I3mpXv1X"
   },
   "source": [
    "Die Lösung besteht in der Benutzung eines weiteren Sternchens:"
   ]
  },
  {
   "cell_type": "code",
   "metadata": {
    "id": "yV9O6RzkXzeR",
    "colab": {
     "base_uri": "https://localhost:8080/"
    },
    "executionInfo": {
     "status": "ok",
     "timestamp": 1712684746795,
     "user_tz": -120,
     "elapsed": 333,
     "user": {
      "displayName": "Daniel Senften",
      "userId": "05364229159230685820"
     }
    },
    "outputId": "3485e44b-3e6b-465a-8414-fe6e1280ff76",
    "ExecuteTime": {
     "end_time": "2024-08-07T20:20:46.868035Z",
     "start_time": "2024-08-07T20:20:46.860702Z"
    }
   },
   "source": [
    "mean(*lst)"
   ],
   "outputs": [],
   "execution_count": null
  },
  {
   "cell_type": "markdown",
   "metadata": {
    "id": "eYYhFt9VX78N"
   },
   "source": [
    "## * in Funktionen"
   ]
  },
  {
   "cell_type": "markdown",
   "metadata": {
    "id": "o1oU44NLYiEg"
   },
   "source": [
    "Häufig wird jedoch sowohl in der Definition als auch beim Aufruf einer Funktion ein Sternchen verwendet. Beim Aufruf werden dann Tupel oder Listen entpackt, und bei der Definition werden beliebig viele Argumente in ein Tupel gepackt:"
   ]
  },
  {
   "cell_type": "code",
   "metadata": {
    "id": "YGYACoteYlbn",
    "executionInfo": {
     "status": "ok",
     "timestamp": 1712684816676,
     "user_tz": -120,
     "elapsed": 349,
     "user": {
      "displayName": "Daniel Senften",
      "userId": "05364229159230685820"
     }
    }
   },
   "source": [
    "def function(*args):\n",
    "  return args"
   ],
   "outputs": [],
   "execution_count": null
  },
  {
   "cell_type": "code",
   "metadata": {
    "id": "1ZTVq-16YqSm",
    "colab": {
     "base_uri": "https://localhost:8080/"
    },
    "executionInfo": {
     "status": "ok",
     "timestamp": 1712684852399,
     "user_tz": -120,
     "elapsed": 469,
     "user": {
      "displayName": "Daniel Senften",
      "userId": "05364229159230685820"
     }
    },
    "outputId": "723e330d-809f-4c74-b098-5b65c860b806",
    "ExecuteTime": {
     "end_time": "2024-08-07T20:20:46.956402Z",
     "start_time": "2024-08-07T20:20:46.923276Z"
    }
   },
   "source": [
    "function(3, 4, 5, 6) # In der Funktion f werden die Werte ins Tupel"
   ],
   "outputs": [
    {
     "ename": "NameError",
     "evalue": "name 'function' is not defined",
     "output_type": "error",
     "traceback": [
      "\u001B[0;31m---------------------------------------------------------------------------\u001B[0m",
      "\u001B[0;31mNameError\u001B[0m                                 Traceback (most recent call last)",
      "Cell \u001B[0;32mIn[32], line 1\u001B[0m\n\u001B[0;32m----> 1\u001B[0m \u001B[43mfunction\u001B[49m(\u001B[38;5;241m3\u001B[39m, \u001B[38;5;241m4\u001B[39m, \u001B[38;5;241m5\u001B[39m, \u001B[38;5;241m6\u001B[39m) \u001B[38;5;66;03m# In der Funktion f werden die Werte ins Tupel\u001B[39;00m\n",
      "\u001B[0;31mNameError\u001B[0m: name 'function' is not defined"
     ]
    }
   ],
   "execution_count": 32
  },
  {
   "cell_type": "code",
   "metadata": {
    "id": "MZlIIw45Y3xX",
    "colab": {
     "base_uri": "https://localhost:8080/"
    },
    "executionInfo": {
     "status": "ok",
     "timestamp": 1712684865461,
     "user_tz": -120,
     "elapsed": 434,
     "user": {
      "displayName": "Daniel Senften",
      "userId": "05364229159230685820"
     }
    },
    "outputId": "840326e3-2a3a-4c63-f6db-3f4b9b08eac9",
    "ExecuteTime": {
     "end_time": "2024-08-07T20:20:47.125914Z",
     "start_time": "2024-08-07T20:20:47.101084Z"
    }
   },
   "source": [
    "lst = [4, 6, 12]\n",
    "\n",
    "function(*lst)       # Liste lst wird entpackt, und dann werden die Werte in args gepackt"
   ],
   "outputs": [
    {
     "ename": "NameError",
     "evalue": "name 'function' is not defined",
     "output_type": "error",
     "traceback": [
      "\u001B[0;31m---------------------------------------------------------------------------\u001B[0m",
      "\u001B[0;31mNameError\u001B[0m                                 Traceback (most recent call last)",
      "Cell \u001B[0;32mIn[33], line 3\u001B[0m\n\u001B[1;32m      1\u001B[0m lst \u001B[38;5;241m=\u001B[39m [\u001B[38;5;241m4\u001B[39m, \u001B[38;5;241m6\u001B[39m, \u001B[38;5;241m12\u001B[39m]\n\u001B[0;32m----> 3\u001B[0m \u001B[43mfunction\u001B[49m(\u001B[38;5;241m*\u001B[39mlst)       \u001B[38;5;66;03m# Liste lst wird entpackt, und dann werden die Werte in args gepackt\u001B[39;00m\n",
      "\u001B[0;31mNameError\u001B[0m: name 'function' is not defined"
     ]
    }
   ],
   "execution_count": 33
  },
  {
   "cell_type": "markdown",
   "metadata": {
    "id": "l11Ee2b3ZQy9"
   },
   "source": [
    "## Beliebige Schlüsselwortparameter"
   ]
  },
  {
   "cell_type": "markdown",
   "metadata": {
    "id": "oov2UtX-ZW2r"
   },
   "source": [
    "Es gibt auch einen Mechanismus für eine beliebige Anzahl von Schlüsselwortparametern. Um dies zu ermöglichen, wurde als Notation ein doppeltes Sternchen `**` eingeführt:\n"
   ]
  },
  {
   "cell_type": "code",
   "metadata": {
    "id": "d1-WzslbZeNF",
    "executionInfo": {
     "status": "ok",
     "timestamp": 1712684975430,
     "user_tz": -120,
     "elapsed": 343,
     "user": {
      "displayName": "Daniel Senften",
      "userId": "05364229159230685820"
     }
    },
    "ExecuteTime": {
     "end_time": "2024-08-07T20:20:47.530268Z",
     "start_time": "2024-08-07T20:20:47.512317Z"
    }
   },
   "source": [
    "def foo(*args, **kwargs):\n",
    "  print(f'args:   {args}')\n",
    "  print(f'kwargs: {kwargs}')"
   ],
   "outputs": [],
   "execution_count": 34
  },
  {
   "cell_type": "markdown",
   "source": [],
   "metadata": {
    "collapsed": false,
    "id": "v50ZO0eKh5F1"
   }
  },
  {
   "cell_type": "code",
   "metadata": {
    "id": "4YqDSk-XZrPR",
    "colab": {
     "base_uri": "https://localhost:8080/"
    },
    "executionInfo": {
     "status": "ok",
     "timestamp": 1712685088355,
     "user_tz": -120,
     "elapsed": 615,
     "user": {
      "displayName": "Daniel Senften",
      "userId": "05364229159230685820"
     }
    },
    "outputId": "46fff4f1-5ea7-4ba1-e5b4-57ea0c1f143b",
    "ExecuteTime": {
     "end_time": "2024-08-07T20:20:47.670664Z",
     "start_time": "2024-08-07T20:20:47.665588Z"
    }
   },
   "source": [
    "my_list = 42, [89, 12]\n",
    "foo('Daniel', *my_list, 3.14159, x=17, name='Hello', z=[3, 8, 9], args=47, first_name='Daniel')"
   ],
   "outputs": [
    {
     "name": "stdout",
     "output_type": "stream",
     "text": [
      "args:   ('Daniel', 42, [89, 12], 3.14159)\n",
      "kwargs: {'x': 17, 'name': 'Hello', 'z': [3, 8, 9], 'args': 47, 'first_name': 'Daniel'}\n"
     ]
    }
   ],
   "execution_count": 35
  },
  {
   "metadata": {},
   "cell_type": "markdown",
   "source": [
    "# Module\n",
    "\n",
    "---"
   ]
  },
  {
   "metadata": {},
   "cell_type": "markdown",
   "source": [
    "In Python unterscheiden wir zwei Arten von Modulen:\n",
    "\n",
    "*   Bibliotheken (Libraries)\n",
    "    * Umfangreiche [Standardbibliothek](https://docs.python.org/3/py-modindex.html)\n",
    "    * Eigene Module\n",
    "    * Module von Drittanbietern (z.B. [PyPi](https://pypi.org/))\n",
    "*   Lokale Module (nur für ein Programm verfügbar)\n",
    "\n",
    "Ein Modul, manchmal auch als Bibliothek bezeichnet, egal ob aus der Standardbibliothek oder ein eigenes, wird mit der `import`-Anweisung eingebunden.\n",
    "\n",
    "Mit der folgenden Anweisung wird beispielsweise das `math`-Modul aus der Standardbibliothek importiert:"
   ]
  },
  {
   "metadata": {
    "ExecuteTime": {
     "end_time": "2024-08-07T20:20:47.960607Z",
     "start_time": "2024-08-07T20:20:47.951150Z"
    }
   },
   "cell_type": "code",
   "source": [
    "import math\n",
    "\n",
    "math.pi"
   ],
   "outputs": [
    {
     "data": {
      "text/plain": [
       "3.141592653589793"
      ]
     },
     "execution_count": 36,
     "metadata": {},
     "output_type": "execute_result"
    }
   ],
   "execution_count": 36
  },
  {
   "metadata": {},
   "cell_type": "markdown",
   "source": "Es stellt, wie der Name vermuten lässt, mathematische Funktionen und Konstanten zur Verfügung, so zum Beispiel die Konstante $\\pi$ (`math.pi`), die Sinus-Funktion (`math.sin()`) und viele mehr."
  },
  {
   "metadata": {
    "ExecuteTime": {
     "end_time": "2024-08-07T20:20:48.162771Z",
     "start_time": "2024-08-07T20:20:48.151578Z"
    }
   },
   "cell_type": "code",
   "source": "math.cos(math.pi/2)",
   "outputs": [
    {
     "data": {
      "text/plain": [
       "6.123233995736766e-17"
      ]
     },
     "execution_count": 37,
     "metadata": {},
     "output_type": "execute_result"
    }
   ],
   "execution_count": 37
  },
  {
   "metadata": {
    "ExecuteTime": {
     "end_time": "2024-08-07T20:20:48.284501Z",
     "start_time": "2024-08-07T20:20:48.273877Z"
    }
   },
   "cell_type": "code",
   "source": "math.sin(math.pi/2)",
   "outputs": [
    {
     "data": {
      "text/plain": [
       "1.0"
      ]
     },
     "execution_count": 38,
     "metadata": {},
     "output_type": "execute_result"
    }
   ],
   "execution_count": 38
  },
  {
   "metadata": {},
   "cell_type": "markdown",
   "source": [
    "## Namensräume von Modulen\n",
    "Wird eine Bibliothek wie z. B."
   ]
  },
  {
   "metadata": {},
   "cell_type": "code",
   "outputs": [],
   "execution_count": null,
   "source": "import math"
  },
  {
   "metadata": {},
   "cell_type": "markdown",
   "source": "importiert, dann stehen die Namen der Bibliothek in einem eigenen Namensraum zur Verfügung. Auf die `sin()`-Funktion des `math`-Moduls kann man zunächst nur über den vollen Namen (_fully qualified_) zugreifen, d.h."
  },
  {
   "metadata": {
    "ExecuteTime": {
     "end_time": "2024-08-07T20:23:46.935969Z",
     "start_time": "2024-08-07T20:23:46.523468Z"
    }
   },
   "cell_type": "code",
   "source": "math.sin(math.pi)",
   "outputs": [
    {
     "data": {
      "text/plain": [
       "1.2246467991473532e-16"
      ]
     },
     "execution_count": 39,
     "metadata": {},
     "output_type": "execute_result"
    }
   ],
   "execution_count": 39
  },
  {
   "metadata": {},
   "cell_type": "markdown",
   "source": "`sin()` ohne Präfix `math` ist nicht bekannt und führt zu einer entsprechenden Fehlermeldung:"
  },
  {
   "metadata": {},
   "cell_type": "code",
   "outputs": [],
   "execution_count": null,
   "source": "sin(pi)"
  },
  {
   "metadata": {},
   "cell_type": "markdown",
   "source": "Möchte man gerne bequem auf Funktionen wie z. B. die Sinus-Funktion zugreifen können, also ohne das Präfix `math, so kann man die entsprechenden Funktionen direkt importieren:"
  },
  {
   "metadata": {
    "ExecuteTime": {
     "end_time": "2024-08-07T20:26:19.103152Z",
     "start_time": "2024-08-07T20:26:19.064997Z"
    }
   },
   "cell_type": "code",
   "source": [
    "from math import sin, pi\n",
    "\n",
    "print(sin(pi))"
   ],
   "outputs": [
    {
     "name": "stdout",
     "output_type": "stream",
     "text": [
      "1.2246467991473532e-16\n"
     ]
    }
   ],
   "execution_count": 40
  },
  {
   "metadata": {},
   "cell_type": "markdown",
   "source": [
    "## Namensräume umbenennen\n",
    "Beim Import einer Bibliothek kann man auch einen neuen Namen für den Namensraum wählen. Im Folgenden importieren wir math als m. Dies führt bei der Benutzung des math-Moduls zu einer deutlichen Schreiberleichterung, ohne dass die Vorteile eines Namensraums aufgegeben werden:"
   ]
  },
  {
   "metadata": {
    "ExecuteTime": {
     "end_time": "2024-08-07T20:27:12.214423Z",
     "start_time": "2024-08-07T20:27:12.181043Z"
    }
   },
   "cell_type": "code",
   "source": [
    "import math as m\n",
    "\n",
    "m.pi"
   ],
   "outputs": [
    {
     "data": {
      "text/plain": [
       "3.141592653589793"
      ]
     },
     "execution_count": 41,
     "metadata": {},
     "output_type": "execute_result"
    }
   ],
   "execution_count": 41
  },
  {
   "metadata": {},
   "cell_type": "markdown",
   "source": [
    "## Modularten\n",
    "Es gibt verschiedene Modularten:\n",
    "* In Python geschriebene Modulendung: `.py` oder `.pyc`\n",
    "* Dynamisch geladene C-Module Endung: `.dll`, `.pyd`, `.so`, `.sl`, $\\ldots$\n",
    "* C-Module, die mit dem Interpreter gelinkt sind\n",
    "\n",
    "Um eine Liste dieser Module zu erhalten:"
   ]
  },
  {
   "metadata": {
    "ExecuteTime": {
     "end_time": "2024-08-07T20:29:27.937779Z",
     "start_time": "2024-08-07T20:29:27.740837Z"
    }
   },
   "cell_type": "code",
   "source": [
    "import sys\n",
    "\n",
    "print(sys.builtin_module_names)"
   ],
   "outputs": [
    {
     "name": "stdout",
     "output_type": "stream",
     "text": [
      "('_abc', '_ast', '_codecs', '_collections', '_functools', '_imp', '_io', '_locale', '_operator', '_signal', '_sre', '_stat', '_string', '_symtable', '_thread', '_tokenize', '_tracemalloc', '_typing', '_warnings', '_weakref', 'atexit', 'builtins', 'errno', 'faulthandler', 'gc', 'itertools', 'marshal', 'posix', 'pwd', 'sys', 'time')\n"
     ]
    }
   ],
   "execution_count": 42
  },
  {
   "metadata": {},
   "cell_type": "markdown",
   "source": [
    "## Suchpfad für Module\n",
    "Wenn man ein Modul importiert, z.B. abc, sucht der Interpreter nach `abc.py` in der folgenden Reihenfolge:\n",
    "\n",
    "* im aktuellen Verzeichnis\n",
    "* PYTHONPATH\n",
    "* Falls PYTHONPATH nicht gesetzt ist, wird installationsabhängig im Default-Pfad gesucht, unter Unix z.B. in `/usr/lib/python3.6`\n",
    "\n",
    "`sys.path` enthält die Verzeichnisse, in denen Module gesucht werden:"
   ]
  },
  {
   "metadata": {
    "ExecuteTime": {
     "end_time": "2024-08-07T20:32:01.677353Z",
     "start_time": "2024-08-07T20:32:00.749270Z"
    }
   },
   "cell_type": "code",
   "source": [
    "import sys\n",
    "\n",
    "for directory in sys.path:\n",
    "    print(directory)"
   ],
   "outputs": [
    {
     "name": "stdout",
     "output_type": "stream",
     "text": [
      "/Users/daniel/Applications/PyCharm Professional Edition.app/Contents/plugins/python/helpers-pro/jupyter_debug\n",
      "/Users/daniel/Applications/PyCharm Professional Edition.app/Contents/plugins/python/helpers/pydev\n",
      "/Users/daniel/GitRepository/cs1-pyt\n",
      "/Users/daniel/.pyenv/versions/3.12.0/lib/python312.zip\n",
      "/Users/daniel/.pyenv/versions/3.12.0/lib/python3.12\n",
      "/Users/daniel/.pyenv/versions/3.12.0/lib/python3.12/lib-dynload\n",
      "\n",
      "/Users/daniel/GitRepository/cs1-pyt/.venv/lib/python3.12/site-packages\n",
      "/Users/daniel/GitRepository/cs1-pyt/.venv/lib/python3.12/site-packages/setuptools/_vendor\n"
     ]
    }
   ],
   "execution_count": 43
  },
  {
   "metadata": {},
   "cell_type": "markdown",
   "source": [
    "## Eigene Module\n",
    "Eigene Module zu schreiben, ist in Python extrem einfach. Viele tun es, ohne es zu wissen. Jedes Python-Programm ist automatisch auch ein Modul.\n",
    "\n",
    "Die beiden folgenden Funktionen `fib()`, die den $𝑛$-ten Fibonacci-Wert zurückliefert, und die Funktion `fiblist()` werden in einer Datei fibonacci.py gespeichert:"
   ]
  },
  {
   "metadata": {},
   "cell_type": "markdown",
   "source": [
    "```\n",
    "def fib(n):\n",
    "    a, b = 0, 1\n",
    "    for i in range(n):\n",
    "        a, b = b, a + b\n",
    "    return a\n",
    "\n",
    "\n",
    "def fiblist(n):\n",
    "    fibonacci_list = [0, 1]\n",
    "    for i in range(1, n):\n",
    "        fibonacci_list += [fibonacci_list[-1] + fibonacci_list[-2]]\n",
    "    return fibonacci_list\n",
    "```"
   ]
  },
  {
   "metadata": {
    "ExecuteTime": {
     "end_time": "2024-08-07T20:51:38.054028Z",
     "start_time": "2024-08-07T20:51:38.048994Z"
    }
   },
   "cell_type": "code",
   "source": [
    "import fibonacci\n",
    "\n",
    "print(f'fib(10):     {fibonacci.fib(10)}')\n",
    "print(f'fiblist(10): {fibonacci.fiblist(10)}')"
   ],
   "outputs": [
    {
     "name": "stdout",
     "output_type": "stream",
     "text": [
      "fib(10):     55\n",
      "fiblist(10): [0, 1, 1, 2, 3, 5, 8, 13, 21, 34, 55]\n"
     ]
    }
   ],
   "execution_count": 49
  },
  {
   "metadata": {},
   "cell_type": "markdown",
   "source": [
    "# Packete\n",
    "\n",
    "---"
   ]
  },
  {
   "metadata": {},
   "cell_type": "markdown",
   "source": [
    "Beim Verfassen sprachlicher Dokumente steht natürlich der Inhalt selbst im Vordergrund, aber man wird diesen Inhalt wohl kaum an seine Leserinnen und Leser bringen können, wenn er nicht organisiert ist. Man gliedert in Bücher, Kapitel, Unterkapitel, Abschnitte und so weiter.\n",
    "\n",
    "Ähnliches gilt natürlich auch für Python-Programme. Werden sie nicht ordentlich gegliedert, d.h. modularisiert, wird es schwer, sie zu verstehen und zu warten. Im vorigen Kapitel hatten wir Module kennengelernt, die sich hervorragend eignen, Programme zu strukturieren bzw. zu modularisieren. Was aber, wenn die Zahl unserer Module wächst? Wenn wir die Übersicht über unsere Module verlieren könnten? Für diesen Fall hat Python das Paketkonzept bereitgestellt. Wir können mehrere oder beliebig viele Module zu einem Paket „schnüren”. Der dazu erforderliche Mechanismus ist in Python wiederum denkbar einfach gelöst.\n",
    "\n",
    "![Alternative Text](../images/17.2_pakages.png)"
   ]
  },
  {
   "metadata": {},
   "cell_type": "markdown",
   "source": [
    "## Einfaches Paket erzeugen\n",
    "Um ein Paket in Python zu erstellen, sind nur zwei Dinge zu tun: Man erzeugt einen Unterordner in einem Verzeichnis, in dem Python Module erwartet bzw. sucht. In diesem neu erzeugten Ordner muss man nun eine Datei mit dem Namen `__init__.py` anlegen. Die Datei kann leer sein oder Initialisierungscode enthalten, der beim Einbinden des Pakets einmalig ausgeführt wird. Pakete können außer Modulen auch Pakete enthalten.\n",
    "\n",
    "Im Folgenden zeigen wir nun anhand eines einfachen Beispiels, wie man ein Paket erzeugt. Unser Paket soll `my_package` heissen. Dazu erzeugen wir einen Ordner mit dem Namen simple_package. In diesem Ordner legen wir eine leere Datei mit dem Namen `__init__.py` an.\n",
    "\n",
    "Ausserdem legen wir noch zwei einfache Module in diesem Verzeichnis an: ein Modul namens `a.py` mit folgendem Inhalt:\n",
    "```\n",
    "def f1():\n",
    "    print(\"Hello, f1 from module 'a' calling\")\n",
    "```\n",
    "\n",
    "sowie ein weiteres Modulmit dem Namen `b.py`:\n",
    "```\n",
    "def foo():\n",
    "    print(\"Hello, foo from module 'b' calling\")\n",
    "```"
   ]
  },
  {
   "metadata": {},
   "cell_type": "markdown",
   "source": "Nun sind wir in der Lage, unser Paket zu benutzen:"
  },
  {
   "metadata": {
    "ExecuteTime": {
     "end_time": "2024-08-07T21:05:17.493143Z",
     "start_time": "2024-08-07T21:05:17.414405Z"
    }
   },
   "cell_type": "code",
   "source": [
    "from my_package import a, b\n",
    "\n",
    "a.f1()\n",
    "b.foo()"
   ],
   "outputs": [
    {
     "name": "stdout",
     "output_type": "stream",
     "text": [
      "Hello, f1 from module 'a' calling\n",
      "Hello, foo from module 'b' calling\n"
     ]
    }
   ],
   "execution_count": 50
  },
  {
   "metadata": {},
   "cell_type": "markdown",
   "source": [
    "# Module der Universität von Princeton\n",
    "\n",
    "---\n",
    "Im Buch [Introduction to Programming in Python](https://introcs.cs.princeton.edu/python/home/), welches ich of in Beispielen verwende, werden viele nützliche Module vorgestellt, welche in diesem Kurs als Quellcode integriert sind.\n",
    "\n",
    "Hier ein erstes Beispiel, wie ein Modul dieser Bibliothek im eigenen Code integriert und verwendet werden könnte:"
   ]
  },
  {
   "metadata": {
    "ExecuteTime": {
     "end_time": "2024-08-08T05:44:51.903033Z",
     "start_time": "2024-08-08T05:44:51.866277Z"
    }
   },
   "cell_type": "code",
   "source": [
    "from stdlib import stdio\n",
    "\n",
    "stdio.write('Hello World!')"
   ],
   "outputs": [
    {
     "name": "stdout",
     "output_type": "stream",
     "text": [
      "Hello World!"
     ]
    }
   ],
   "execution_count": 51
  },
  {
   "metadata": {},
   "cell_type": "markdown",
   "source": [
    "# Referenzen\n",
    "\n",
    "---"
   ]
  },
  {
   "metadata": {},
   "cell_type": "markdown",
   "source": [
    "*   [Python Dokumentation](https://docs.python.org/3/tutorial/modules.html)\n",
    "*   [Python Tutorial](https://www.python-lernen.de/module-in-python.htm)"
   ]
  }
 ]
}
