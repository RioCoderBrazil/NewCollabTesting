{
 "nbformat": 4,
 "nbformat_minor": 0,
 "metadata": {
  "colab": {
   "provenance": [],
   "toc_visible": true
  },
  "kernelspec": {
   "name": "python3",
   "language": "python",
   "display_name": "Python 3 (ipykernel)"
  }
 },
 "cells": [
  {
   "cell_type": "markdown",
   "metadata": {
    "id": "Xw13oS3z4juO"
   },
   "source": [
    "# Funktionen"
   ]
  },
  {
   "cell_type": "markdown",
   "metadata": {
    "id": "v-rIJn0_LjwA"
   },
   "source": [
    "In diesem Kapitel zeigen wir, wie man in Python eigene Funktionen schreibt. Funktionen hatten wir bereits in den vorigen Kapiteln benutzt. So benutzten wir die Funktion `len`, um die Anzahl der Zeichen eines Strings oder die Anzahl der Elemente einer Liste zu ermitteln.\n",
    "\n",
    "Eine Funktion wird aufgerufen und liefert einen Wert – oder genauer gesagt: ein Objekt – zurück. Diesen Wert kann man auch wieder in einem Ausdruck weiterverwenden, wie wir es im nächsten Beispiel tun. Wir multiplizieren den Rückgabewert mit der Zahl 3:"
   ]
  },
  {
   "cell_type": "code",
   "metadata": {
    "id": "P2owzEJiLufq",
    "colab": {
     "base_uri": "https://localhost:8080/"
    },
    "executionInfo": {
     "status": "ok",
     "timestamp": 1694623170052,
     "user_tz": -120,
     "elapsed": 10,
     "user": {
      "displayName": "Daniel Senften",
      "userId": "05364229159230685820"
     }
    },
    "outputId": "14292fcb-72cb-4986-90af-fe63213bd51c",
    "ExecuteTime": {
     "end_time": "2024-01-31T18:19:06.681533Z",
     "start_time": "2024-01-31T18:19:06.675809Z"
    }
   },
   "source": [
    "name = \"Monty Python\"\n",
    "\n",
    "print(len(name) * 3)\n",
    "print(type(name))\n",
    "print(type(len))"
   ],
   "execution_count": null,
   "outputs": [
    {
     "name": "stdout",
     "output_type": "stream",
     "text": [
      "36\n",
      "<class 'str'>\n",
      "<class 'builtin_function_or_method'>\n"
     ]
    }
   ]
  },
  {
   "cell_type": "markdown",
   "metadata": {
    "id": "jwE752CZ4rHp"
   },
   "source": [
    "## Syntax in Python"
   ]
  },
  {
   "cell_type": "markdown",
   "metadata": {
    "id": "naBLeCYOL8D7"
   },
   "source": [
    "Eine Funktionsdefinition wird mit dem Schlüsselwort `def` eingeleitet, gefolgt von einem frei wählbaren Funktionsnamen. Eingeschlossen in ein Klammerpaar folgt dann die Para- meterliste. Sie kann auch leer sein. Die Parameternamen der Parameterliste werden durch Kommata getrennt."
   ]
  },
  {
   "cell_type": "markdown",
   "metadata": {
    "id": "NCuVqgRi41A8"
   },
   "source": [
    "```\n",
    "def funktions-name(Parameterliste):\n",
    "    Anweisung(en)\n",
    "```"
   ]
  },
  {
   "cell_type": "markdown",
   "metadata": {
    "id": "V538toIJ5SxB"
   },
   "source": [
    "Die Parameterliste besteht aus einem oder mehr Bezeichnern, die durch Kommata getrennt sind. Die Parameter der Definition werden beim Aufruf der Funtion als Argumente bezeichnet. Meistens werden die beiden Begriffe jedoch fälschlicherweise wie Synonyme verwendet.\n",
    "Parameter können obligatorisch und optional sein. Die optionalen Parameter (0 oder mehr) folgen den obligatorischen."
   ]
  },
  {
   "cell_type": "markdown",
   "metadata": {
    "id": "AtfbrZ_C5ePr"
   },
   "source": [
    "Der Funktionskörper (*function body*), also die Anweisungen, die ausgeführt werden, wenn die Funktion aufgerufen wird, wird in Python durch eine homogene Einrückung markiert. Also ebenso wie alle anderen Blöcke in Python. Die Funktionsdefinition ist beendet, wenn eine Anweisung erfolgt, die wieder auf der selben Einrückungsstufe steht, wie der Kopf der Funktion."
   ]
  },
  {
   "cell_type": "markdown",
   "metadata": {
    "id": "8W9q7aHFMCRy"
   },
   "source": [
    "Schauen wir uns ein einfaches Beispiel an:"
   ]
  },
  {
   "cell_type": "code",
   "metadata": {
    "id": "U2qdGDPLMD7y",
    "colab": {
     "base_uri": "https://localhost:8080/"
    },
    "executionInfo": {
     "status": "ok",
     "timestamp": 1712679167883,
     "user_tz": -120,
     "elapsed": 5,
     "user": {
      "displayName": "Daniel Senften",
      "userId": "05364229159230685820"
     }
    },
    "outputId": "e9bd0ee9-7e8a-4426-b533-6f01f090f251"
   },
   "source": [
    "def say_hello(name):\n",
    "    return f'Hello {name}'\n",
    "\n",
    "greeting = say_hello('Hans')\n",
    "print(say_hello('Hans'))"
   ],
   "execution_count": 1,
   "outputs": [
    {
     "output_type": "stream",
     "name": "stdout",
     "text": [
      "Hello Hans\n"
     ]
    }
   ]
  },
  {
   "cell_type": "markdown",
   "metadata": {
    "id": "R_kImnBy5vIw"
   },
   "source": [
    "Der Funktionskörper kann ein oder mehrere return-Anweisungen enthalten. Diese können sich an beliebiger Stelle innerhalb des Funktionskörpers befinden. Eine return-Anweisung beendet den Funktionsaufruf und das Ergebnis des Ausdrucks, der hinter der return-Anweisung steht, wird an die aufrufende Stelle zurückgeliefert. Falls kein Ausdruck dem return folgt, wird der spezielle Wert None zurückgeliefert. Wird das Ende eines Funktionskörpers erreicht, ohne auf eine return-Anweisung gestossen zu sein, endet der Funktionsaufruf und es wird ebenfalls der Wert `None` zurückgegeben."
   ]
  },
  {
   "cell_type": "markdown",
   "metadata": {
    "id": "-4FJBCTQMWQf"
   },
   "source": [
    "Ein weiteres Beispiel:"
   ]
  },
  {
   "cell_type": "code",
   "metadata": {
    "id": "FLGBUucsMW-f",
    "colab": {
     "base_uri": "https://localhost:8080/"
    },
    "executionInfo": {
     "status": "ok",
     "timestamp": 1712681201990,
     "user_tz": -120,
     "elapsed": 6,
     "user": {
      "displayName": "Daniel Senften",
      "userId": "05364229159230685820"
     }
    },
    "outputId": "8c0954b5-b69f-4b6d-9def-e01991af1f39",
    "ExecuteTime": {
     "end_time": "2024-01-31T18:28:32.542059Z",
     "start_time": "2024-01-31T18:28:32.515725Z"
    }
   },
   "source": [
    "def fahrenheit(celsius):\n",
    "    \"\"\"returs the temperature in degrees Fahrenheit\"\"\"\n",
    "    return (celsius * 9 / 5) + 32\n",
    "\n",
    "for temp in (7, 22.6, 25.8, 27.3, 100):\n",
    "    print('%6.2f°C → %6.2f°F' % (temp, fahrenheit(temp)))"
   ],
   "execution_count": 3,
   "outputs": [
    {
     "output_type": "stream",
     "name": "stdout",
     "text": [
      "  7.00°C →  44.60°F\n",
      " 22.60°C →  72.68°F\n",
      " 25.80°C →  78.44°F\n",
      " 27.30°C →  81.14°F\n",
      "100.00°C → 212.00°F\n"
     ]
    }
   ]
  },
  {
   "cell_type": "markdown",
   "metadata": {
    "id": "hH9SsF366fj1"
   },
   "source": [
    "## Beispiel einer Funktion mit optionalen Parametern"
   ]
  },
  {
   "cell_type": "markdown",
   "metadata": {
    "id": "MQDV9WLe6kOY"
   },
   "source": [
    "Funktionen können auch optionale Parameter haben. Man nennt sie auch Default-Parameter. Dies sind Parameter, die beim Aufruf nicht angegeben werden müssen. In diesem Fall werden dann Default-Werte für diese Parameter eingesetzt.\n",
    "\n",
    "Wir zeigen dies an einem Beispiel. Das folgende kleine Skript, das nicht sehr nützlich ist, begrüßt eine Person mit Namen. Falls beim Aufruf allerdings kein Name übergeben wird, druckt sie nur `\"Hello everybody!\"`:"
   ]
  },
  {
   "cell_type": "code",
   "metadata": {
    "id": "Uvj9KO7T6we1",
    "executionInfo": {
     "status": "ok",
     "timestamp": 1712681833082,
     "user_tz": -120,
     "elapsed": 348,
     "user": {
      "displayName": "Daniel Senften",
      "userId": "05364229159230685820"
     }
    },
    "ExecuteTime": {
     "end_time": "2024-01-31T18:55:10.931375Z",
     "start_time": "2024-01-31T18:55:10.796589Z"
    }
   },
   "source": [
    "def hello(name='everybody'):\n",
    "    \"\"\" Greets a person \"\"\"\n",
    "    print(f\"Hello {name}!\")\n"
   ],
   "execution_count": 4,
   "outputs": []
  },
  {
   "cell_type": "code",
   "metadata": {
    "id": "qZ2nac887a3p",
    "colab": {
     "base_uri": "https://localhost:8080/"
    },
    "executionInfo": {
     "status": "ok",
     "timestamp": 1712681842384,
     "user_tz": -120,
     "elapsed": 499,
     "user": {
      "displayName": "Daniel Senften",
      "userId": "05364229159230685820"
     }
    },
    "outputId": "b1c7b72b-9078-4442-f8ab-49c595903f6e",
    "ExecuteTime": {
     "end_time": "2024-01-31T18:55:56.628312Z",
     "start_time": "2024-01-31T18:55:56.618365Z"
    }
   },
   "source": [
    "hello(\"Daniel\")"
   ],
   "execution_count": 5,
   "outputs": [
    {
     "output_type": "stream",
     "name": "stdout",
     "text": [
      "Hello Daniel!\n"
     ]
    }
   ]
  },
  {
   "cell_type": "code",
   "metadata": {
    "id": "Qqm31SbR7gLu",
    "colab": {
     "base_uri": "https://localhost:8080/"
    },
    "executionInfo": {
     "status": "ok",
     "timestamp": 1712681868953,
     "user_tz": -120,
     "elapsed": 451,
     "user": {
      "displayName": "Daniel Senften",
      "userId": "05364229159230685820"
     }
    },
    "outputId": "bbd08819-f934-4c50-e07d-278e01e1ec6b",
    "ExecuteTime": {
     "end_time": "2024-01-31T18:55:35.239674Z",
     "start_time": "2024-01-31T18:55:35.216211Z"
    }
   },
   "source": [
    "hello()"
   ],
   "execution_count": 6,
   "outputs": [
    {
     "output_type": "stream",
     "name": "stdout",
     "text": [
      "Hello everybody!\n"
     ]
    }
   ]
  },
  {
   "cell_type": "markdown",
   "metadata": {
    "id": "PjLi3mx-NOmd"
   },
   "source": [
    "## Docstring - Dokumentieren einer Funktion"
   ]
  },
  {
   "cell_type": "markdown",
   "metadata": {
    "id": "zcBZUhNNNTtc"
   },
   "source": [
    "Wie der Name nahelegt, handelt es sich beim Docstring um einen String, der zu Dokumentationszwecken dient. Er steht in einer Funktion direkt nach dem Funktionskopf, also nach der `def`-Zeile. Der Wert des Docstrings ist in dem Attribut .`__doc__` gespeichert und vom Programm aus abrufbar."
   ]
  },
  {
   "cell_type": "code",
   "metadata": {
    "id": "tmlVOsvaNrDm",
    "colab": {
     "base_uri": "https://localhost:8080/"
    },
    "executionInfo": {
     "status": "ok",
     "timestamp": 1712682107312,
     "user_tz": -120,
     "elapsed": 479,
     "user": {
      "displayName": "Daniel Senften",
      "userId": "05364229159230685820"
     }
    },
    "outputId": "539add61-d000-45c4-c65c-29e0c4d01eb3",
    "ExecuteTime": {
     "end_time": "2024-01-31T19:02:02.282659Z",
     "start_time": "2024-01-31T19:02:02.277224Z"
    }
   },
   "source": [
    "def fahrenheit(celsius):\n",
    "    \"\"\"\n",
    "    Returns the temperature in degrees Fahrenheit\n",
    "\n",
    "    :param celsius: degree in celsius\n",
    "    :return: degree in fahrenheit\n",
    "    \"\"\"\n",
    "    return (celsius * 9 / 5) + 32\n",
    "\n",
    "print(fahrenheit(10))"
   ],
   "execution_count": 8,
   "outputs": [
    {
     "output_type": "stream",
     "name": "stdout",
     "text": [
      "50.0\n"
     ]
    }
   ]
  },
  {
   "cell_type": "code",
   "metadata": {
    "id": "Pos9qekjN1at",
    "colab": {
     "base_uri": "https://localhost:8080/",
     "height": 52
    },
    "executionInfo": {
     "status": "ok",
     "timestamp": 1712682110778,
     "user_tz": -120,
     "elapsed": 475,
     "user": {
      "displayName": "Daniel Senften",
      "userId": "05364229159230685820"
     }
    },
    "outputId": "05c02fe1-828b-44bf-f15b-9b5c9f391a96",
    "ExecuteTime": {
     "end_time": "2024-01-31T19:02:26.501186Z",
     "start_time": "2024-01-31T19:02:26.485213Z"
    }
   },
   "source": [
    "fahrenheit.__doc__"
   ],
   "execution_count": 9,
   "outputs": [
    {
     "output_type": "execute_result",
     "data": {
      "text/plain": [
       "'\\n    Returns the temperature in degrees Fahrenheit\\n    \\n    :param celsius: degree in celsius\\n    :return: degree in fahrenheit\\n    '"
      ],
      "application/vnd.google.colaboratory.intrinsic+json": {
       "type": "string"
      }
     },
     "metadata": {},
     "execution_count": 9
    }
   ]
  },
  {
   "cell_type": "markdown",
   "metadata": {
    "id": "QcJWwsRrOT--"
   },
   "source": [
    "Die besondere Bedeutung des Docstrings sieht man, wenn man die help-Funktion benutzt. Wenn wir in der Shell den Befehl\n",
    "`help(fahrenheit)` eingeben, erhalten wir folgende Ausgabe:"
   ]
  },
  {
   "cell_type": "code",
   "metadata": {
    "id": "4dpKP880N8Di",
    "colab": {
     "base_uri": "https://localhost:8080/"
    },
    "executionInfo": {
     "status": "ok",
     "timestamp": 1712682158355,
     "user_tz": -120,
     "elapsed": 364,
     "user": {
      "displayName": "Daniel Senften",
      "userId": "05364229159230685820"
     }
    },
    "outputId": "24b958e6-5e1b-4e42-af9f-9ae966e464bf",
    "ExecuteTime": {
     "end_time": "2024-01-31T19:03:05.875170Z",
     "start_time": "2024-01-31T19:03:05.866951Z"
    }
   },
   "source": [
    "help(fahrenheit)"
   ],
   "execution_count": 10,
   "outputs": [
    {
     "output_type": "stream",
     "name": "stdout",
     "text": [
      "Help on function fahrenheit in module __main__:\n",
      "\n",
      "fahrenheit(celsius)\n",
      "    Returns the temperature in degrees Fahrenheit\n",
      "    \n",
      "    :param celsius: degree in celsius\n",
      "    :return: degree in fahrenheit\n",
      "\n"
     ]
    }
   ]
  },
  {
   "cell_type": "markdown",
   "metadata": {
    "id": "ptsKLCQ2Ojtr"
   },
   "source": [
    "## Standardwerte für Funktionen"
   ]
  },
  {
   "cell_type": "markdown",
   "metadata": {
    "id": "CxsQFB-mOsr9"
   },
   "source": [
    "Man hat auch die Möglichkeit, die Parameter einer Funktion mit Standardwerten – meist\n",
    "auch als Default-Werte bezeichnet – zu versehen. Diese Parameter sind dann optional beim\n",
    "Aufruf der Funktion, d.h. man kann für einen solchen Parameter ein Argument zur Verfügung stellen, muss das aber nicht."
   ]
  },
  {
   "cell_type": "code",
   "metadata": {
    "id": "tDG1Iz4QO0Tq"
   },
   "source": [
    "def hallo(name=\"Namenloser\"):\n",
    "    print(\"Hallo \" + name + \"!\")"
   ],
   "execution_count": null,
   "outputs": []
  },
  {
   "cell_type": "code",
   "metadata": {
    "id": "djtCMSqNO4ts",
    "colab": {
     "base_uri": "https://localhost:8080/"
    },
    "executionInfo": {
     "status": "ok",
     "timestamp": 1694626203183,
     "user_tz": -120,
     "elapsed": 266,
     "user": {
      "displayName": "Daniel Senften",
      "userId": "05364229159230685820"
     }
    },
    "outputId": "3be02b36-a880-4966-99de-be5576740010"
   },
   "source": [
    "hallo(\"Peter\")"
   ],
   "execution_count": null,
   "outputs": [
    {
     "output_type": "stream",
     "name": "stdout",
     "text": [
      "Hallo Peter!\n"
     ]
    }
   ]
  },
  {
   "cell_type": "code",
   "metadata": {
    "id": "1dIIMMr0O6xV",
    "colab": {
     "base_uri": "https://localhost:8080/"
    },
    "executionInfo": {
     "status": "ok",
     "timestamp": 1694626200319,
     "user_tz": -120,
     "elapsed": 269,
     "user": {
      "displayName": "Daniel Senften",
      "userId": "05364229159230685820"
     }
    },
    "outputId": "0108e3e1-c314-4819-cb68-87355b995baf"
   },
   "source": [
    "hallo()"
   ],
   "execution_count": null,
   "outputs": [
    {
     "output_type": "stream",
     "name": "stdout",
     "text": [
      "Hallo Namenloser!\n"
     ]
    }
   ]
  },
  {
   "cell_type": "markdown",
   "metadata": {
    "id": "CJ2ZQue9PB41"
   },
   "source": [
    "Im nächsten Beispiel definieren wir die Funktion „umfang”, die den Umfang eines Rechtecks berechnet:"
   ]
  },
  {
   "cell_type": "code",
   "metadata": {
    "id": "Jiwd4PIVPGRk",
    "executionInfo": {
     "status": "ok",
     "timestamp": 1712683473149,
     "user_tz": -120,
     "elapsed": 353,
     "user": {
      "displayName": "Daniel Senften",
      "userId": "05364229159230685820"
     }
    },
    "ExecuteTime": {
     "end_time": "2024-01-31T19:07:13.271046Z",
     "start_time": "2024-01-31T19:07:13.261822Z"
    }
   },
   "source": [
    "def umfang(laenge=2, breite=1):\n",
    "    return 2 * (laenge + breite)"
   ],
   "execution_count": 11,
   "outputs": []
  },
  {
   "cell_type": "code",
   "metadata": {
    "id": "_8Vr8EjmPOGg",
    "colab": {
     "base_uri": "https://localhost:8080/"
    },
    "executionInfo": {
     "status": "ok",
     "timestamp": 1712683512461,
     "user_tz": -120,
     "elapsed": 338,
     "user": {
      "displayName": "Daniel Senften",
      "userId": "05364229159230685820"
     }
    },
    "outputId": "308d2f68-c082-47c4-ed2d-03a43360b711",
    "ExecuteTime": {
     "end_time": "2024-01-31T19:07:16.127638Z",
     "start_time": "2024-01-31T19:07:16.094668Z"
    }
   },
   "source": [
    "umfang(breite=5, laenge=7)"
   ],
   "execution_count": 12,
   "outputs": [
    {
     "output_type": "execute_result",
     "data": {
      "text/plain": [
       "24"
      ]
     },
     "metadata": {},
     "execution_count": 12
    }
   ]
  },
  {
   "cell_type": "code",
   "metadata": {
    "id": "o5R_-VsTPOyQ",
    "colab": {
     "base_uri": "https://localhost:8080/"
    },
    "executionInfo": {
     "status": "ok",
     "timestamp": 1712683556645,
     "user_tz": -120,
     "elapsed": 362,
     "user": {
      "displayName": "Daniel Senften",
      "userId": "05364229159230685820"
     }
    },
    "outputId": "49922e19-c51b-43bd-cc54-b7bafbc62340",
    "ExecuteTime": {
     "end_time": "2024-01-31T19:07:41.135264Z",
     "start_time": "2024-01-31T19:07:41.010293Z"
    }
   },
   "source": [
    "umfang(5) # für die Breite wird der Standardwert `1` benutzt"
   ],
   "execution_count": 13,
   "outputs": [
    {
     "output_type": "execute_result",
     "data": {
      "text/plain": [
       "12"
      ]
     },
     "metadata": {},
     "execution_count": 13
    }
   ]
  },
  {
   "cell_type": "code",
   "metadata": {
    "id": "5PYqiS7yPYSJ",
    "colab": {
     "base_uri": "https://localhost:8080/"
    },
    "executionInfo": {
     "status": "ok",
     "timestamp": 1694626302051,
     "user_tz": -120,
     "elapsed": 321,
     "user": {
      "displayName": "Daniel Senften",
      "userId": "05364229159230685820"
     }
    },
    "outputId": "37595fae-2471-4369-de13-78afe3f3a8f9",
    "ExecuteTime": {
     "end_time": "2024-01-31T19:08:19.965475Z",
     "start_time": "2024-01-31T19:08:19.944162Z"
    }
   },
   "source": [
    "umfang(laenge=56)  # es werden beide Standardwerte benutzt"
   ],
   "execution_count": null,
   "outputs": [
    {
     "data": {
      "text/plain": "114"
     },
     "execution_count": 15,
     "metadata": {},
     "output_type": "execute_result"
    }
   ]
  },
  {
   "cell_type": "markdown",
   "metadata": {
    "id": "cgdKx5lhPqj8"
   },
   "source": [
    "Wie sieht es aber aus, wenn wir nur einen Wert für die Breite angeben wollen? Bisher wurden die Argumente der Reihenfolge nach an die Parameter übergeben. Übergibt man nur ein Argument, bedeutet das automatisch, dass dies ein Wert für den ersten Parameter darstellt, also in unserem Fall für `laenge`."
   ]
  },
  {
   "cell_type": "markdown",
   "metadata": {
    "id": "2PYESmhvPi8L"
   },
   "source": [
    "## Schlüsselwortparameter"
   ]
  },
  {
   "cell_type": "markdown",
   "metadata": {
    "id": "4CzKtJImPy-A"
   },
   "source": [
    "Für das zuletzt beschriebene Problem liefern die Schlüsselwortparameter eine Lösung. Schlüsselwortparameter werden benutzt, um beim Aufruf einer Funktion einen Ausdruck einem bestimmten Parameter zuzuordnen. Die Funktionsdefinition selbst ändert sich nicht, d.h. ein Schlüsselwortparameter entspricht einem Parameter."
   ]
  },
  {
   "cell_type": "code",
   "metadata": {
    "id": "6bvNfzCrP18k",
    "colab": {
     "base_uri": "https://localhost:8080/"
    },
    "executionInfo": {
     "status": "ok",
     "timestamp": 1688404522090,
     "user_tz": -120,
     "elapsed": 347,
     "user": {
      "displayName": "Daniel Senften",
      "userId": "05364229159230685820"
     }
    },
    "outputId": "1b43cf8e-c193-408b-9c6d-1fa9509158d3"
   },
   "source": [
    "umfang(breite=1.5)"
   ],
   "execution_count": null,
   "outputs": [
    {
     "output_type": "execute_result",
     "data": {
      "text/plain": [
       "7.0"
      ]
     },
     "metadata": {},
     "execution_count": 29
    }
   ]
  },
  {
   "cell_type": "markdown",
   "metadata": {
    "id": "8lJzCSjcQAAd"
   },
   "source": [
    "## Mehrere Rückgabewerte"
   ]
  },
  {
   "cell_type": "markdown",
   "metadata": {
    "id": "ZoaKwdWtQG5A"
   },
   "source": [
    "Eine Funktion kann genau ein Objekt zurückliefern, welches beispielsweise ein numerischer Wert wie eine ganze Zahl (Integer) oder eine Fliesskommazahl (float) sein kann, aber auch ein komplexes Objekt wie etwa eine Liste oder ein Dictionary."
   ]
  },
  {
   "cell_type": "markdown",
   "metadata": {
    "id": "7Gk-yaNPQR4B"
   },
   "source": [
    "Im folgenden Beispiel berechnet die Funktion `fib_intervall` die [Fibonacci](https://de.wikipedia.org/wiki/Fibonacci-Folge)-Begrenzung für eine beliebige positive Zahl, d.h. sie liefert ein 2-Tupel zurück. Das erste Element ist die größte Fibonacci-Zahl, die kleiner oder gleich x ist, und die zweite Komponente ist die kleinste Fibonacci-Zahl grösser oder gleich $x$."
   ]
  },
  {
   "cell_type": "code",
   "metadata": {
    "id": "2EsZe6oXRFZK",
    "executionInfo": {
     "status": "ok",
     "timestamp": 1712683984837,
     "user_tz": -120,
     "elapsed": 409,
     "user": {
      "displayName": "Daniel Senften",
      "userId": "05364229159230685820"
     }
    },
    "ExecuteTime": {
     "end_time": "2024-01-31T19:14:35.492430Z",
     "start_time": "2024-01-31T19:14:35.478009Z"
    }
   },
   "source": [
    "def fib_interval(x):\n",
    "  \"\"\"\n",
    "  liefert ein Tupel mit der grössten Fibonacci-Zahl, kleiner oder\n",
    "  gleich x, und der kleinsten Fibonacci-Zahl, grösser oder gleich x, zurück\n",
    "  \"\"\"\n",
    "\n",
    "  if x < 0:\n",
    "    return -1\n",
    "\n",
    "  old, new = 0, 1\n",
    "\n",
    "  while True:\n",
    "    if new < x:\n",
    "      old, new = new, old + new\n",
    "    else:\n",
    "      return old, new"
   ],
   "execution_count": 14,
   "outputs": []
  },
  {
   "cell_type": "code",
   "metadata": {
    "id": "wXqZoTASRmo6",
    "colab": {
     "base_uri": "https://localhost:8080/"
    },
    "executionInfo": {
     "status": "ok",
     "timestamp": 1712683986945,
     "user_tz": -120,
     "elapsed": 382,
     "user": {
      "displayName": "Daniel Senften",
      "userId": "05364229159230685820"
     }
    },
    "outputId": "eb8e3909-4223-453d-af84-b1fe8b8c9246",
    "ExecuteTime": {
     "end_time": "2024-01-31T19:14:39.153888Z",
     "start_time": "2024-01-31T19:14:39.140579Z"
    }
   },
   "source": [
    "for i in range(0, 10):\n",
    "  print(i, fib_interval(i))"
   ],
   "execution_count": 15,
   "outputs": [
    {
     "output_type": "stream",
     "name": "stdout",
     "text": [
      "0 (0, 1)\n",
      "1 (0, 1)\n",
      "2 (1, 2)\n",
      "3 (2, 3)\n",
      "4 (3, 5)\n",
      "5 (3, 5)\n",
      "6 (5, 8)\n",
      "7 (5, 8)\n",
      "8 (5, 8)\n",
      "9 (8, 13)\n"
     ]
    }
   ]
  },
  {
   "cell_type": "markdown",
   "metadata": {
    "id": "l1Hol_qtU8uL"
   },
   "source": [
    "## Variable Anzahl von Parametern"
   ]
  },
  {
   "cell_type": "markdown",
   "metadata": {
    "id": "rn2ZfUmxVCmW"
   },
   "source": [
    "Man hat sehr häufig Fälle, in denen die Anzahl der beim Aufruf nötigen Parameter nicht bekannt ist. Im Folgenden zeigen wir, wie man Funktionen definiert, die mit einer beliebigen Anzahl von Argumenten aufgerufen werden können."
   ]
  },
  {
   "cell_type": "code",
   "metadata": {
    "id": "BI2hC6enVfge",
    "executionInfo": {
     "status": "ok",
     "timestamp": 1712684273786,
     "user_tz": -120,
     "elapsed": 465,
     "user": {
      "displayName": "Daniel Senften",
      "userId": "05364229159230685820"
     }
    },
    "ExecuteTime": {
     "end_time": "2024-01-31T19:19:13.282148Z",
     "start_time": "2024-01-31T19:19:13.277393Z"
    }
   },
   "source": [
    "def variable_arguments(*argument):\n",
    "  print(argument)"
   ],
   "execution_count": 16,
   "outputs": []
  },
  {
   "cell_type": "code",
   "metadata": {
    "id": "gKj91jneVp5y",
    "colab": {
     "base_uri": "https://localhost:8080/"
    },
    "executionInfo": {
     "status": "ok",
     "timestamp": 1712684292333,
     "user_tz": -120,
     "elapsed": 343,
     "user": {
      "displayName": "Daniel Senften",
      "userId": "05364229159230685820"
     }
    },
    "outputId": "355ed53a-f8ed-4ccf-ee78-02a2537be619",
    "ExecuteTime": {
     "end_time": "2024-01-31T19:19:25.794071Z",
     "start_time": "2024-01-31T19:19:25.782134Z"
    }
   },
   "source": [
    "variable_arguments()"
   ],
   "execution_count": 17,
   "outputs": [
    {
     "output_type": "stream",
     "name": "stdout",
     "text": [
      "()\n"
     ]
    }
   ]
  },
  {
   "cell_type": "code",
   "metadata": {
    "id": "5hmBPQ4bVrl5",
    "colab": {
     "base_uri": "https://localhost:8080/"
    },
    "executionInfo": {
     "status": "ok",
     "timestamp": 1712684339165,
     "user_tz": -120,
     "elapsed": 421,
     "user": {
      "displayName": "Daniel Senften",
      "userId": "05364229159230685820"
     }
    },
    "outputId": "23e8730b-e58a-4356-e81d-c3bab3f3ad11",
    "ExecuteTime": {
     "end_time": "2024-01-31T19:20:20.097286Z",
     "start_time": "2024-01-31T19:20:20.038016Z"
    }
   },
   "source": [
    "variable_arguments(34, 'Do you like Python?', 'Yes, I do!', [1, 2], 3.14159)"
   ],
   "execution_count": 18,
   "outputs": [
    {
     "output_type": "stream",
     "name": "stdout",
     "text": [
      "(34, 'Do you like Python?', 'Yes, I do!', [1, 2], 3.14159)\n"
     ]
    }
   ]
  },
  {
   "cell_type": "markdown",
   "metadata": {
    "id": "CpG60yWFV_Vx"
   },
   "source": [
    "Wir erkennen, dass die beim Aufruf an `variable_arguments` übergebenen Argumente in einem Tupel gesammelt werden. Auf dieses Tupel kann als „normale” Variable im Rumpf der Funktion zugegriffen werden. Ruft man die Funktion ohne jegliche Argumente auf, so ist $x$ ein leeres Tupel."
   ]
  },
  {
   "cell_type": "code",
   "metadata": {
    "id": "qt9W0DrPWO-h",
    "executionInfo": {
     "status": "ok",
     "timestamp": 1712684388577,
     "user_tz": -120,
     "elapsed": 327,
     "user": {
      "displayName": "Daniel Senften",
      "userId": "05364229159230685820"
     }
    },
    "ExecuteTime": {
     "end_time": "2024-01-31T19:22:33.028934Z",
     "start_time": "2024-01-31T19:22:32.957914Z"
    }
   },
   "source": [
    "def locations(city, *other_cities):\n",
    "  print(city, other_cities)"
   ],
   "execution_count": 19,
   "outputs": []
  },
  {
   "cell_type": "code",
   "metadata": {
    "id": "QFS8JFnOWbHJ",
    "colab": {
     "base_uri": "https://localhost:8080/"
    },
    "executionInfo": {
     "status": "ok",
     "timestamp": 1712684408569,
     "user_tz": -120,
     "elapsed": 377,
     "user": {
      "displayName": "Daniel Senften",
      "userId": "05364229159230685820"
     }
    },
    "outputId": "26ba0e1c-6cfd-4de4-e463-5d1687b79aa4",
    "ExecuteTime": {
     "end_time": "2024-01-31T19:22:35.739016Z",
     "start_time": "2024-01-31T19:22:35.726027Z"
    }
   },
   "source": [
    "locations('Berlin')"
   ],
   "execution_count": 20,
   "outputs": [
    {
     "output_type": "stream",
     "name": "stdout",
     "text": [
      "Berlin ()\n"
     ]
    }
   ]
  },
  {
   "cell_type": "code",
   "metadata": {
    "id": "4mr_8bAzWf8J",
    "colab": {
     "base_uri": "https://localhost:8080/"
    },
    "executionInfo": {
     "status": "ok",
     "timestamp": 1712684438656,
     "user_tz": -120,
     "elapsed": 509,
     "user": {
      "displayName": "Daniel Senften",
      "userId": "05364229159230685820"
     }
    },
    "outputId": "5c191684-5202-40d8-818a-512ffbd7d9d3",
    "ExecuteTime": {
     "end_time": "2024-01-31T19:22:48.901737Z",
     "start_time": "2024-01-31T19:22:48.870096Z"
    }
   },
   "source": [
    "locations('Berlin', 'Freiburg', 'Stuttgart', 'Düsseldorf', 'Bern', \"Basel\")"
   ],
   "execution_count": 21,
   "outputs": [
    {
     "output_type": "stream",
     "name": "stdout",
     "text": [
      "Berlin ('Freiburg', 'Stuttgart', 'Düsseldorf', 'Bern', 'Basel')\n"
     ]
    }
   ]
  },
  {
   "cell_type": "markdown",
   "metadata": {
    "id": "9G-UDE9UWwfn"
   },
   "source": [
    "Wir wollen dies an einem sinnvolleren Beispiel veranschaulichen. Wir schreiben dazu eine Funktion, die das arithmetische Mittel aus einer variablen Anzahl von Werten berechnet:"
   ]
  },
  {
   "cell_type": "code",
   "metadata": {
    "id": "vRbT8C98Wyj-",
    "executionInfo": {
     "status": "ok",
     "timestamp": 1712684477186,
     "user_tz": -120,
     "elapsed": 515,
     "user": {
      "displayName": "Daniel Senften",
      "userId": "05364229159230685820"
     }
    },
    "ExecuteTime": {
     "end_time": "2024-01-31T19:25:15.807014Z",
     "start_time": "2024-01-31T19:25:15.769752Z"
    }
   },
   "source": [
    "def mean(first, *others):\n",
    "  return(first + sum(others)) / (1 + len(others))"
   ],
   "execution_count": 22,
   "outputs": []
  },
  {
   "cell_type": "code",
   "metadata": {
    "id": "tHBCWZMgXFIg",
    "colab": {
     "base_uri": "https://localhost:8080/"
    },
    "executionInfo": {
     "status": "ok",
     "timestamp": 1712684600331,
     "user_tz": -120,
     "elapsed": 414,
     "user": {
      "displayName": "Daniel Senften",
      "userId": "05364229159230685820"
     }
    },
    "outputId": "d8860a91-f993-4beb-d965-1887132ba95d",
    "ExecuteTime": {
     "end_time": "2024-01-31T19:25:19.357080Z",
     "start_time": "2024-01-31T19:25:19.310951Z"
    }
   },
   "source": [
    "mean(1)"
   ],
   "execution_count": 23,
   "outputs": [
    {
     "output_type": "execute_result",
     "data": {
      "text/plain": [
       "1.0"
      ]
     },
     "metadata": {},
     "execution_count": 23
    }
   ]
  },
  {
   "cell_type": "code",
   "metadata": {
    "id": "Gz1B_C4JXGxG",
    "colab": {
     "base_uri": "https://localhost:8080/"
    },
    "executionInfo": {
     "status": "ok",
     "timestamp": 1712684607258,
     "user_tz": -120,
     "elapsed": 323,
     "user": {
      "displayName": "Daniel Senften",
      "userId": "05364229159230685820"
     }
    },
    "outputId": "b3cc5373-ac6b-4248-b795-f11d89c4d4eb",
    "ExecuteTime": {
     "end_time": "2024-01-31T19:25:46.748340Z",
     "start_time": "2024-01-31T19:25:46.681864Z"
    }
   },
   "source": [
    "mean(4, 5, 6, 7, 8, 3.14159)"
   ],
   "execution_count": 24,
   "outputs": [
    {
     "output_type": "execute_result",
     "data": {
      "text/plain": [
       "5.523598333333333"
      ]
     },
     "metadata": {},
     "execution_count": 24
    }
   ]
  },
  {
   "cell_type": "code",
   "metadata": {
    "id": "5I3Z2H4eXJiF",
    "colab": {
     "base_uri": "https://localhost:8080/"
    },
    "executionInfo": {
     "status": "ok",
     "timestamp": 1712684612230,
     "user_tz": -120,
     "elapsed": 388,
     "user": {
      "displayName": "Daniel Senften",
      "userId": "05364229159230685820"
     }
    },
    "outputId": "7d341111-f059-4ccb-9f5f-d25502779d07",
    "ExecuteTime": {
     "end_time": "2024-01-31T19:26:11.442869Z",
     "start_time": "2024-01-31T19:26:11.430356Z"
    }
   },
   "source": [
    "mean(35, 89, 103, 1, 17, 44, 12, 9, 4711, 3.14159)"
   ],
   "execution_count": 25,
   "outputs": [
    {
     "output_type": "execute_result",
     "data": {
      "text/plain": [
       "502.41415900000004"
      ]
     },
     "metadata": {},
     "execution_count": 25
    }
   ]
  },
  {
   "cell_type": "markdown",
   "metadata": {
    "id": "0vIzN1v_XW9V"
   },
   "source": [
    "Wie sieht es aber nun aus, wenn wir das arithmetische Mittel einer Liste oder eines Tupel berechnen wollen? Ruft man die Funktion mit einer Liste oder einem Tupel als Argument statt mit einer variablen Anzahl von Zahlen auf, wird ein Fehler generiert:"
   ]
  },
  {
   "cell_type": "code",
   "metadata": {
    "id": "lvBEoNkjXlPi",
    "ExecuteTime": {
     "end_time": "2024-01-31T19:27:52.144649Z",
     "start_time": "2024-01-31T19:27:52.130560Z"
    },
    "colab": {
     "base_uri": "https://localhost:8080/",
     "height": 245
    },
    "executionInfo": {
     "status": "error",
     "timestamp": 1712684738923,
     "user_tz": -120,
     "elapsed": 347,
     "user": {
      "displayName": "Daniel Senften",
      "userId": "05364229159230685820"
     }
    },
    "outputId": "d163f904-5eb4-48d4-fc70-60fb71cdc749"
   },
   "source": [
    "lst = [35, 89, 103, 1, 17, 44, 12, 9, 4711, 3.14159]\n",
    "\n",
    "mean(lst)"
   ],
   "execution_count": 27,
   "outputs": [
    {
     "output_type": "error",
     "ename": "TypeError",
     "evalue": "can only concatenate list (not \"int\") to list",
     "traceback": [
      "\u001B[0;31m---------------------------------------------------------------------------\u001B[0m",
      "\u001B[0;31mTypeError\u001B[0m                                 Traceback (most recent call last)",
      "\u001B[0;32m<ipython-input-27-697106ac4adc>\u001B[0m in \u001B[0;36m<cell line: 3>\u001B[0;34m()\u001B[0m\n\u001B[1;32m      1\u001B[0m \u001B[0mlst\u001B[0m \u001B[0;34m=\u001B[0m \u001B[0;34m[\u001B[0m\u001B[0;36m35\u001B[0m\u001B[0;34m,\u001B[0m \u001B[0;36m89\u001B[0m\u001B[0;34m,\u001B[0m \u001B[0;36m103\u001B[0m\u001B[0;34m,\u001B[0m \u001B[0;36m1\u001B[0m\u001B[0;34m,\u001B[0m \u001B[0;36m17\u001B[0m\u001B[0;34m,\u001B[0m \u001B[0;36m44\u001B[0m\u001B[0;34m,\u001B[0m \u001B[0;36m12\u001B[0m\u001B[0;34m,\u001B[0m \u001B[0;36m9\u001B[0m\u001B[0;34m,\u001B[0m \u001B[0;36m4711\u001B[0m\u001B[0;34m,\u001B[0m \u001B[0;36m3.14159\u001B[0m\u001B[0;34m]\u001B[0m\u001B[0;34m\u001B[0m\u001B[0;34m\u001B[0m\u001B[0m\n\u001B[1;32m      2\u001B[0m \u001B[0;34m\u001B[0m\u001B[0m\n\u001B[0;32m----> 3\u001B[0;31m \u001B[0mmean\u001B[0m\u001B[0;34m(\u001B[0m\u001B[0mlst\u001B[0m\u001B[0;34m)\u001B[0m\u001B[0;34m\u001B[0m\u001B[0;34m\u001B[0m\u001B[0m\n\u001B[0m",
      "\u001B[0;32m<ipython-input-22-6dbfe444b858>\u001B[0m in \u001B[0;36mmean\u001B[0;34m(first, *others)\u001B[0m\n\u001B[1;32m      1\u001B[0m \u001B[0;32mdef\u001B[0m \u001B[0mmean\u001B[0m\u001B[0;34m(\u001B[0m\u001B[0mfirst\u001B[0m\u001B[0;34m,\u001B[0m \u001B[0;34m*\u001B[0m\u001B[0mothers\u001B[0m\u001B[0;34m)\u001B[0m\u001B[0;34m:\u001B[0m\u001B[0;34m\u001B[0m\u001B[0;34m\u001B[0m\u001B[0m\n\u001B[0;32m----> 2\u001B[0;31m   \u001B[0;32mreturn\u001B[0m\u001B[0;34m(\u001B[0m\u001B[0mfirst\u001B[0m \u001B[0;34m+\u001B[0m \u001B[0msum\u001B[0m\u001B[0;34m(\u001B[0m\u001B[0mothers\u001B[0m\u001B[0;34m)\u001B[0m\u001B[0;34m)\u001B[0m \u001B[0;34m/\u001B[0m \u001B[0;34m(\u001B[0m\u001B[0;36m1\u001B[0m \u001B[0;34m+\u001B[0m \u001B[0mlen\u001B[0m\u001B[0;34m(\u001B[0m\u001B[0mothers\u001B[0m\u001B[0;34m)\u001B[0m\u001B[0;34m)\u001B[0m\u001B[0;34m\u001B[0m\u001B[0;34m\u001B[0m\u001B[0m\n\u001B[0m",
      "\u001B[0;31mTypeError\u001B[0m: can only concatenate list (not \"int\") to list"
     ]
    }
   ]
  },
  {
   "cell_type": "markdown",
   "metadata": {
    "id": "LKs5I3mpXv1X"
   },
   "source": [
    "Die Lösung besteht in der Benutzung eines weiteren Sternchens:"
   ]
  },
  {
   "cell_type": "code",
   "metadata": {
    "id": "yV9O6RzkXzeR",
    "colab": {
     "base_uri": "https://localhost:8080/"
    },
    "executionInfo": {
     "status": "ok",
     "timestamp": 1712684746795,
     "user_tz": -120,
     "elapsed": 333,
     "user": {
      "displayName": "Daniel Senften",
      "userId": "05364229159230685820"
     }
    },
    "outputId": "3485e44b-3e6b-465a-8414-fe6e1280ff76",
    "ExecuteTime": {
     "end_time": "2024-01-31T19:29:19.596943Z",
     "start_time": "2024-01-31T19:29:19.552894Z"
    }
   },
   "source": [
    "mean(*lst)"
   ],
   "execution_count": 28,
   "outputs": [
    {
     "output_type": "execute_result",
     "data": {
      "text/plain": [
       "502.41415900000004"
      ]
     },
     "metadata": {},
     "execution_count": 28
    }
   ]
  },
  {
   "cell_type": "markdown",
   "metadata": {
    "id": "eYYhFt9VX78N"
   },
   "source": [
    "## * in Funktionen"
   ]
  },
  {
   "cell_type": "markdown",
   "metadata": {
    "id": "o1oU44NLYiEg"
   },
   "source": [
    "Häufig wird jedoch sowohl in der Definition als auch beim Aufruf einer Funktion ein Sternchen verwendet. Beim Aufruf werden dann Tupel oder Listen entpackt, und bei der Definition werden beliebig viele Argumente in ein Tupel gepackt:"
   ]
  },
  {
   "cell_type": "code",
   "metadata": {
    "id": "YGYACoteYlbn",
    "executionInfo": {
     "status": "ok",
     "timestamp": 1712684816676,
     "user_tz": -120,
     "elapsed": 349,
     "user": {
      "displayName": "Daniel Senften",
      "userId": "05364229159230685820"
     }
    },
    "ExecuteTime": {
     "end_time": "2024-01-31T19:30:55.021381Z",
     "start_time": "2024-01-31T19:30:55.006816Z"
    }
   },
   "source": [
    "def function(*args):\n",
    "  return args"
   ],
   "execution_count": 29,
   "outputs": []
  },
  {
   "cell_type": "code",
   "metadata": {
    "id": "1ZTVq-16YqSm",
    "colab": {
     "base_uri": "https://localhost:8080/"
    },
    "executionInfo": {
     "status": "ok",
     "timestamp": 1712684852399,
     "user_tz": -120,
     "elapsed": 469,
     "user": {
      "displayName": "Daniel Senften",
      "userId": "05364229159230685820"
     }
    },
    "outputId": "723e330d-809f-4c74-b098-5b65c860b806",
    "ExecuteTime": {
     "end_time": "2024-01-31T19:31:01.857332Z",
     "start_time": "2024-01-31T19:31:01.756646Z"
    }
   },
   "source": [
    "function(3, 4, 5, 6) # In der Funktion f werden die Werte ins Tupel"
   ],
   "execution_count": 30,
   "outputs": [
    {
     "output_type": "execute_result",
     "data": {
      "text/plain": [
       "(3, 4, 5, 6)"
      ]
     },
     "metadata": {},
     "execution_count": 30
    }
   ]
  },
  {
   "cell_type": "code",
   "metadata": {
    "id": "MZlIIw45Y3xX",
    "colab": {
     "base_uri": "https://localhost:8080/"
    },
    "executionInfo": {
     "status": "ok",
     "timestamp": 1712684865461,
     "user_tz": -120,
     "elapsed": 434,
     "user": {
      "displayName": "Daniel Senften",
      "userId": "05364229159230685820"
     }
    },
    "outputId": "840326e3-2a3a-4c63-f6db-3f4b9b08eac9",
    "ExecuteTime": {
     "end_time": "2024-01-31T19:31:18.809152Z",
     "start_time": "2024-01-31T19:31:18.774001Z"
    }
   },
   "source": [
    "lst = [4, 6, 12]\n",
    "\n",
    "function(*lst)       # Liste lst wird entpackt, und dann werden die Werte in args gepackt"
   ],
   "execution_count": 31,
   "outputs": [
    {
     "output_type": "execute_result",
     "data": {
      "text/plain": [
       "(4, 6, 12)"
      ]
     },
     "metadata": {},
     "execution_count": 31
    }
   ]
  },
  {
   "cell_type": "markdown",
   "metadata": {
    "id": "l11Ee2b3ZQy9"
   },
   "source": [
    "## Beliebige Schlüsselwortparameter"
   ]
  },
  {
   "cell_type": "markdown",
   "metadata": {
    "id": "oov2UtX-ZW2r"
   },
   "source": [
    "Es gibt auch einen Mechanismus für eine beliebige Anzahl von Schlüsselwortparametern. Um dies zu ermöglichen, wurde als Notation ein doppeltes Sternchen `**` eingeführt:\n"
   ]
  },
  {
   "cell_type": "code",
   "metadata": {
    "id": "d1-WzslbZeNF",
    "executionInfo": {
     "status": "ok",
     "timestamp": 1712684975430,
     "user_tz": -120,
     "elapsed": 343,
     "user": {
      "displayName": "Daniel Senften",
      "userId": "05364229159230685820"
     }
    },
    "ExecuteTime": {
     "end_time": "2024-01-31T19:32:52.957Z",
     "start_time": "2024-01-31T19:32:52.950321Z"
    }
   },
   "source": [
    "def foo(*args, **kwargs):\n",
    "  print(f'args:   {args}')\n",
    "  print(f'kwargs: {kwargs}')"
   ],
   "execution_count": 32,
   "outputs": []
  },
  {
   "cell_type": "markdown",
   "source": [],
   "metadata": {
    "collapsed": false,
    "id": "v50ZO0eKh5F1"
   }
  },
  {
   "cell_type": "code",
   "metadata": {
    "id": "4YqDSk-XZrPR",
    "colab": {
     "base_uri": "https://localhost:8080/"
    },
    "executionInfo": {
     "status": "ok",
     "timestamp": 1712685088355,
     "user_tz": -120,
     "elapsed": 615,
     "user": {
      "displayName": "Daniel Senften",
      "userId": "05364229159230685820"
     }
    },
    "outputId": "46fff4f1-5ea7-4ba1-e5b4-57ea0c1f143b",
    "ExecuteTime": {
     "end_time": "2024-01-31T19:36:50.262775Z",
     "start_time": "2024-01-31T19:36:50.255267Z"
    }
   },
   "source": [
    "my_list = 42, [89, 12]\n",
    "foo('Daniel', *my_list, 3.14159, x=17, name='Hello', z=[3, 8, 9], args=47, first_name='Daniel')"
   ],
   "execution_count": 33,
   "outputs": [
    {
     "output_type": "stream",
     "name": "stdout",
     "text": [
      "args:   ('Daniel', 42, [89, 12], 3.14159)\n",
      "kwargs: {'x': 17, 'name': 'Hello', 'z': [3, 8, 9], 'args': 47, 'first_name': 'Daniel'}\n"
     ]
    }
   ]
  }
 ]
}
