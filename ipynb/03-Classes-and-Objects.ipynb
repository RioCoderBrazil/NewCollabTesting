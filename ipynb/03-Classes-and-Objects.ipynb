{
 "nbformat": 4,
 "nbformat_minor": 0,
 "metadata": {
  "colab": {
   "provenance": [],
   "private_outputs": true
  },
  "kernelspec": {
   "name": "python3",
   "language": "python",
   "display_name": "Python 3 (ipykernel)"
  }
 },
 "cells": [
  {
   "cell_type": "markdown",
   "metadata": {
    "id": "dgcfjPC9vonD"
   },
   "source": [
    "# Aspekte der Objektorientierung\n",
    "\n",
    "---\n",
    "In diesem Kapitel geben wir eine grundlegende Einführung in den objektorientierten Ansatz von Python. Die objektorientierte Programmierung (OOP) ist eine der mächtigsten Programmiermethoden in Python. Wie wir jedoch gesehen haben, ist es nicht zwingend erforderlich, OOP zu nutzen. Es ist durchaus möglich, umfangreiche und effiziente Programme ohne den Einsatz von OOP-Techniken zu schreiben."
   ]
  },
  {
   "cell_type": "markdown",
   "metadata": {
    "id": "uifHNmV0wn-r"
   },
   "source": [
    "## Objekte und Instanzen\n",
    "Vielleicht ist Ihnen bereits aufgefallen, dass bei der Verwendung der `type`-Funktion immer auch das Wort `class` angezeigt wird. In Python sind alle Datentypen, Funktionen, Module usw. Klassen."
   ]
  },
  {
   "cell_type": "code",
   "metadata": {
    "id": "LyF8LsGtwpXD",
    "ExecuteTime": {
     "end_time": "2024-08-09T10:58:51.603308Z",
     "start_time": "2024-08-09T10:58:51.600463Z"
    }
   },
   "source": [
    "b = 12.3\n",
    "\n",
    "print(type(b))"
   ],
   "outputs": [
    {
     "name": "stdout",
     "output_type": "stream",
     "text": [
      "<class 'float'>\n"
     ]
    }
   ],
   "execution_count": 1
  },
  {
   "cell_type": "code",
   "metadata": {
    "id": "pS42DWwlxCu9",
    "ExecuteTime": {
     "end_time": "2024-08-09T10:58:53.199880Z",
     "start_time": "2024-08-09T10:58:53.196629Z"
    }
   },
   "source": [
    "def foo(x):\n",
    "    return x + 42\n",
    "\n",
    "print(type(foo))\n",
    "\n",
    "x = {}\n",
    "print(type(x))"
   ],
   "outputs": [
    {
     "name": "stdout",
     "output_type": "stream",
     "text": [
      "<class 'function'>\n",
      "<class 'dict'>\n"
     ]
    }
   ],
   "execution_count": 2
  },
  {
   "cell_type": "markdown",
   "metadata": {
    "id": "3RUX19JaxcZT"
   },
   "source": [
    "## Eine minimale Klasse in Python\n",
    "Die wichtigsten Begriffe der objektorientierten Programmierung und deren Umsetzung in Python werden wir anhand eines Beispiels, der `Roboter`-Klasse', demonstrieren."
   ]
  },
  {
   "cell_type": "code",
   "metadata": {
    "id": "WP0A-oSKxJlZ",
    "ExecuteTime": {
     "end_time": "2024-02-07T17:46:01.413483Z",
     "start_time": "2024-02-07T17:46:01.399426Z"
    }
   },
   "source": [
    "class Roboter:\n",
    "    pass"
   ],
   "execution_count": null,
   "outputs": []
  },
  {
   "cell_type": "markdown",
   "metadata": {
    "id": "FPIy__L0yWz4"
   },
   "source": "***Hinweis***: In der Python-Programmierung ist die `pass`-Anweisung eine Null-Anweisung (leere Anweisung). Der Unterschied zwischen einem Kommentar und einer `pass`-Anweisung besteht darin, dass der Interpreter einen Kommentar vollständig ignoriert, `pass` jedoch nicht ignoriert."
  },
  {
   "cell_type": "code",
   "metadata": {
    "id": "EVV0lAigymOj",
    "ExecuteTime": {
     "end_time": "2024-08-09T11:04:09.959753Z",
     "start_time": "2024-08-09T11:04:09.952385Z"
    }
   },
   "source": [
    "class Roboter:\n",
    "    pass\n",
    "\n",
    "x = Roboter()\n",
    "y = Roboter()\n",
    "\n",
    "print(type(x))\n",
    "y2 = y\n",
    "\n",
    "print(y == y2)\n",
    "print(y == x)"
   ],
   "outputs": [
    {
     "name": "stdout",
     "output_type": "stream",
     "text": [
      "<class '__main__.Roboter'>\n",
      "True\n",
      "False\n"
     ]
    }
   ],
   "execution_count": 3
  },
  {
   "cell_type": "markdown",
   "metadata": {
    "id": "y3XQJMv66yg6"
   },
   "source": [
    "## Eigenschaften und Attribute\n",
    "Unsere Roboter haben keinerlei Eigenschaften – nicht einmal Namen, wie es für _ordentliche_ Roboter üblich wäre. Weitere mögliche Eigenschaften könnten beispielsweise eine Typbezeichnung, ein Baujahr und so weiter sein. In der objektorientierten Programmierung werden Eigenschaften als Attribute bezeichnet."
   ]
  },
  {
   "cell_type": "markdown",
   "metadata": {
    "id": "OLyc8_5V7SLR"
   },
   "source": "Einer Instanz kann man beliebige Attribute zuordnen. Diese werden mit einem Punkt an den Instanznamen angehängt. Solche Attribute nennt man auch Instanzattribute."
  },
  {
   "cell_type": "code",
   "metadata": {
    "id": "QBXZw8Gj61Md",
    "ExecuteTime": {
     "end_time": "2024-08-09T11:06:32.667498Z",
     "start_time": "2024-08-09T11:06:32.661926Z"
    }
   },
   "source": [
    "class Roboter:\n",
    "    pass\n",
    "\n",
    "\n",
    "x = Roboter()\n",
    "x.name = \"Marvin\"\n",
    "x.baujahr = 1979\n",
    "\n",
    "y = Roboter()\n",
    "y.name = \"Caliban\"\n",
    "y.baujahr = 1993"
   ],
   "outputs": [],
   "execution_count": 4
  },
  {
   "cell_type": "code",
   "metadata": {
    "id": "T9qMCOT472VE",
    "ExecuteTime": {
     "end_time": "2024-08-09T11:06:35.226720Z",
     "start_time": "2024-08-09T11:06:35.224113Z"
    }
   },
   "source": [
    "print(y.name)"
   ],
   "outputs": [
    {
     "name": "stdout",
     "output_type": "stream",
     "text": [
      "Caliban\n"
     ]
    }
   ],
   "execution_count": 5
  },
  {
   "cell_type": "markdown",
   "metadata": {
    "id": "2g8Rbb0F8v7V"
   },
   "source": "Attribute können übrigens auch dem Klassenobjekt selbst zugeordnet werden. Diese werden als Klassenattribute bezeichnet. Klassenattribute sind gewissermassen für alle Instanzen gemeinsam. Beispielsweise können wir ein Klassenattribut `anzahl` einführen, das die Anzahl aller Instanzen enthält. Es ist klar, dass dieses Attribut nichts mit einem einzelnen Roboter zu tun hat."
  },
  {
   "cell_type": "code",
   "metadata": {
    "id": "EnJaY2om72vu",
    "ExecuteTime": {
     "end_time": "2024-08-09T11:07:31.611541Z",
     "start_time": "2024-08-09T11:07:31.606245Z"
    }
   },
   "source": [
    "class Roboter:\n",
    "    pass\n",
    "\n",
    "\n",
    "Roboter.anzahl = 0\n",
    "x = Roboter()\n",
    "Roboter.anzahl += 1\n",
    "\n",
    "print(x.anzahl)"
   ],
   "outputs": [
    {
     "name": "stdout",
     "output_type": "stream",
     "text": [
      "1\n"
     ]
    }
   ],
   "execution_count": 6
  },
  {
   "cell_type": "markdown",
   "metadata": {
    "id": "_PVs1PeJ9Jiz"
   },
   "source": "Klassenattribute können auch von Instanzen derselben Klasse abgerufen werden:"
  },
  {
   "cell_type": "code",
   "metadata": {
    "id": "lAkX40Mr9Mev",
    "ExecuteTime": {
     "end_time": "2024-08-09T11:08:15.759960Z",
     "start_time": "2024-08-09T11:08:15.751482Z"
    }
   },
   "source": [
    "class Roboter:\n",
    "    pass\n",
    "\n",
    "\n",
    "Roboter.marke = \"Kuka\"\n",
    "\n",
    "x = Roboter()\n",
    "x.marke"
   ],
   "outputs": [
    {
     "data": {
      "text/plain": [
       "'Kuka'"
      ]
     },
     "execution_count": 7,
     "metadata": {},
     "output_type": "execute_result"
    }
   ],
   "execution_count": 7
  },
  {
   "cell_type": "code",
   "metadata": {
    "id": "JD8iPTgN9W6f",
    "ExecuteTime": {
     "end_time": "2024-08-09T11:08:18.709747Z",
     "start_time": "2024-08-09T11:08:18.705508Z"
    }
   },
   "source": [
    "y = Roboter()\n",
    "y.marke = \"Atlas\"\n",
    "\n",
    "x.marke"
   ],
   "outputs": [
    {
     "data": {
      "text/plain": [
       "'Kuka'"
      ]
     },
     "execution_count": 8,
     "metadata": {},
     "output_type": "execute_result"
    }
   ],
   "execution_count": 8
  },
  {
   "cell_type": "code",
   "metadata": {
    "id": "Fb81QTtA9w83",
    "ExecuteTime": {
     "end_time": "2024-08-09T11:08:20.870142Z",
     "start_time": "2024-08-09T11:08:20.866905Z"
    }
   },
   "source": [
    "y.marke"
   ],
   "outputs": [
    {
     "data": {
      "text/plain": [
       "'Atlas'"
      ]
     },
     "execution_count": 9,
     "metadata": {},
     "output_type": "execute_result"
    }
   ],
   "execution_count": 9
  },
  {
   "cell_type": "markdown",
   "metadata": {
    "id": "mSKBo51393lq"
   },
   "source": "Am obigen Beispiel sehen wir, dass eine Roboterinstanz das gleiche Markenattribut wie das Klassenattribut hat, solange wir für diese Instanz kein eigenes Attribut erstellen."
  },
  {
   "cell_type": "markdown",
   "metadata": {
    "id": "kh3mzGcp-RZx"
   },
   "source": [
    "## Methoden\n",
    "Um zu zeigen, wie man Methoden in einer Klasse definiert, werden wir unsere leere Roboterklasse um eine Methode `say_hello` erweitern. Eine Methode unterscheidet sich äusserlich nur in zwei Aspekten von einer Funktion:\n",
    "\n",
    "*   Sie ist eine Funktion, die innerhalb einer `class`-Definition definiert ist.\n",
    "*   Der erste Parameter einer Methode ist immer eine Referenz auf die Instanz, von der sie aufgerufen wird. Diese Referenz wird üblicherweise `self` benannt.\n",
    "\n"
   ]
  },
  {
   "cell_type": "code",
   "metadata": {
    "id": "gRYuBP9P-pKp",
    "ExecuteTime": {
     "end_time": "2024-08-09T11:10:27.585727Z",
     "start_time": "2024-08-09T11:10:27.574159Z"
    }
   },
   "source": [
    "class Roboter:\n",
    "\n",
    "    def say_hello(self):\n",
    "        print(\"Hello, World\")\n",
    "\n",
    "\n",
    "x = Roboter()\n",
    "x.say_hello()"
   ],
   "outputs": [
    {
     "name": "stdout",
     "output_type": "stream",
     "text": [
      "Hello, World\n"
     ]
    }
   ],
   "execution_count": 10
  },
  {
   "cell_type": "markdown",
   "metadata": {
    "id": "JUT_Py5uAMT9"
   },
   "source": [
    "## Die `__init__()` Methode\n",
    "Schön wäre es, wenn wir direkt bei der Instanziierung den Namen und das Baujahr setzen bzw. übergeben könnten, also x = Roboter(\"Marvin\", 1979). Für diesen Zweck bietet Python eine Methode mit dem Namen `__init__`. Der Name dieser Methode ist festgelegt und kann nicht frei gewählt werden."
   ]
  },
  {
   "cell_type": "code",
   "metadata": {
    "id": "_PK7ogqhAZij",
    "ExecuteTime": {
     "end_time": "2024-02-07T18:17:33.381128Z",
     "start_time": "2024-02-07T18:17:33.351322Z"
    }
   },
   "source": [
    "class Roboter:\n",
    "\n",
    "    def __init__(self, name, baujahr):\n",
    "        self.name = name\n",
    "        self.baujahr = baujahr\n",
    "\n",
    "    def say_hello(self):\n",
    "        print(f'Hallo, mein Name ist {self.name}, {self.baujahr}.')\n",
    "\n",
    "\n",
    "x = Roboter(\"Marvin\", 1999)\n",
    "x.baujahr = 1700 # Sideeffect\n",
    "\n",
    "x.say_hello()"
   ],
   "execution_count": null,
   "outputs": []
  },
  {
   "cell_type": "markdown",
   "metadata": {
    "id": "xZE7lVt-Bh5B"
   },
   "source": [
    "## Datenkapselung, Datenabstraktion\n",
    "Unter Datenkapselung versteht man den Schutz von Daten bzw. Attributen vor dem unmittelbaren Zugriff. Der Zugriff auf die Daten bzw. Attribute erfolgt meistens über entsprechende Methoden, die man auch als Zugriffsmethoden bezeichnet. Diese Methoden dienen dazu, invariante Interfaces für die Klassenbenutzung zu schaffen und Implementierungsdetails zu verbergen. Dadurch soll gewährleistet werden, dass man jederzeit Änderungen an der Implementierung vornehmen kann, ohne dass sich die Benutzersicht, also das Interface, ändert. Deshalb werden in der OOP für Attribute meistens zwei Zugriffsmethoden bereitgestellt: eine Methode, die einem den Wert des Attributs liefert – als **Getter** oder als Abfragemethode bezeichnet –, und eine andere, mit deren Hilfe man den Wert eines Attributs verändern kann – als **Setter** oder als Änderungsmethode benannt."
   ]
  },
  {
   "cell_type": "markdown",
   "metadata": {
    "id": "bD4FzV9UCDkS"
   },
   "source": [
    "### Zugriffsmethoden\n",
    "Die eigentlichen Attribute, also in unserem Beispiel der Name und das Baujahr, werden nun in private-Attributen versteckt, d.h. `__name`. Zwei Unterstriche vor einem Attributnamen machen den Namen zu einem privaten Attribut. Damit können Benutzer der Klasse nicht mehr darauf zugreifen."
   ]
  },
  {
   "cell_type": "code",
   "metadata": {
    "id": "l_2DtULLBXMH",
    "ExecuteTime": {
     "end_time": "2024-02-07T18:22:09.875757Z",
     "start_time": "2024-02-07T18:22:09.861654Z"
    }
   },
   "source": [
    "class Roboter:\n",
    "\n",
    "    def __init__(self, name, baujahr):\n",
    "        self.set_name(name)\n",
    "        self.baujahr = baujahr\n",
    "\n",
    "    def say_hello(self):\n",
    "        print(f'Hallo, mein Name ist {self.get_name()}.')\n",
    "\n",
    "    def get_name(self):\n",
    "        return self.__name\n",
    "\n",
    "    def set_name(self, name):\n",
    "        if name == 'Egon':\n",
    "            self.__name = 'Marvin'\n",
    "        else:\n",
    "            self.__name = name\n",
    "\n",
    "\n",
    "if __name__ == \"__main__\":\n",
    "    x = Roboter(\"Egon\", 1979)\n",
    "    y = Roboter(\"Henry\", 1980)\n",
    "\n",
    "    y.set_name(x.get_name())\n",
    "\n",
    "    x.say_hello()\n",
    "    y.say_hello()"
   ],
   "execution_count": null,
   "outputs": []
  },
  {
   "cell_type": "markdown",
   "metadata": {
    "id": "diNEYc9tEG6J"
   },
   "source": [
    "### Properties\n",
    "Wir haben unsere Roboter-Klasse so abgeändert, dass wir auf den Roboternamen nur noch über die Methoden `get_name()` und `set_name()`zugreifen können.\n",
    "\n",
    "Stellen wir uns vor, dass wir einen Roboter x und y haben. Nun soll x so wie y heissen. Dies können wir mit der Anweisung"
   ]
  },
  {
   "cell_type": "code",
   "metadata": {
    "id": "U1ID5JfeEEwf"
   },
   "source": [
    "x.set_name(y.get_name())"
   ],
   "execution_count": null,
   "outputs": []
  },
  {
   "cell_type": "markdown",
   "metadata": {
    "id": "YXjIclipEuPW"
   },
   "source": [
    "erreichen. Deutlich bequemer und vielleicht auch ein wenig leichter lesbar gestaltete sich die Umbenennung, als wir noch direkt auf ein public-Attribut zugreifen konnten, also als wir die Umbenennung über\n",
    "\n",
    "```\n",
    "x.name = y.name\n",
    "```"
   ]
  },
  {
   "cell_type": "code",
   "metadata": {
    "id": "eYeq3bUAEnsJ",
    "ExecuteTime": {
     "end_time": "2024-02-07T18:47:13.229794Z",
     "start_time": "2024-02-07T18:47:13.188789Z"
    }
   },
   "source": [
    "class Roboter:\n",
    "\n",
    "    def __init__(self, name, baujahr):\n",
    "        self.set_name(name)\n",
    "        self.baujahr = baujahr\n",
    "\n",
    "    def say_hello(self):\n",
    "        print(f'Hallo, mein Name ist {self.get_name()}.')\n",
    "\n",
    "    def get_name(self):\n",
    "        return self.__name\n",
    "\n",
    "    def set_name(self, name):\n",
    "        if name == 'Egon':\n",
    "            self.__name = 'Marvin'\n",
    "        else:\n",
    "            self.__name = name\n",
    "\n",
    "    name = property(get_name, set_name)"
   ],
   "execution_count": null,
   "outputs": []
  },
  {
   "cell_type": "code",
   "metadata": {
    "id": "wFIcXNOMFIgZ",
    "ExecuteTime": {
     "end_time": "2024-02-07T18:47:40.729819Z",
     "start_time": "2024-02-07T18:47:40.653103Z"
    }
   },
   "source": [
    "if __name__ == \"__main__\":\n",
    "    x = Roboter(\"Egon\", 1979)\n",
    "    y = Roboter(\"Henry\", 1980)\n",
    "\n",
    "    y.name = \"Egon\"\n",
    "    print(y.name)"
   ],
   "execution_count": null,
   "outputs": []
  },
  {
   "cell_type": "markdown",
   "metadata": {
    "id": "kFl5H-S3Fs7t"
   },
   "source": [
    "### Properties mit Dekorateuren"
   ]
  },
  {
   "cell_type": "code",
   "metadata": {
    "id": "DONALlIuFI3S",
    "ExecuteTime": {
     "end_time": "2024-02-07T18:54:47.142414Z",
     "start_time": "2024-02-07T18:54:47.122306Z"
    }
   },
   "source": [
    "class Roboter:\n",
    "\n",
    "    def __init__(self, name, baujahr):\n",
    "        self.name = name\n",
    "        self.__baujahr = baujahr\n",
    "\n",
    "    def say_hello(self):\n",
    "        print(f'Hallo, mein Name ist {self.name}.')\n",
    "\n",
    "    @property\n",
    "    def name(self):\n",
    "        return self.__name\n",
    "\n",
    "    @name.setter\n",
    "    def name(self, name):\n",
    "        if name == 'Egon':\n",
    "            self.__name = 'Marvin'\n",
    "        else:\n",
    "            self.__name = name\n",
    "\n",
    "\n",
    "x = Roboter(\"Egon\", 1979)\n",
    "print(x.name)"
   ],
   "execution_count": null,
   "outputs": []
  },
  {
   "cell_type": "markdown",
   "metadata": {
    "id": "EhoZSaAHIVyI"
   },
   "source": [
    "## Die Funktion `__str__()`\n",
    "Wir schauen uns nun an, was passiert, wenn wir eine Roboter-Instanz in einer `print`-Funktion verwenden:"
   ]
  },
  {
   "cell_type": "code",
   "metadata": {
    "id": "8C_gnn_jGLRZ",
    "ExecuteTime": {
     "end_time": "2024-02-07T18:55:50.939236Z",
     "start_time": "2024-02-07T18:55:50.936242Z"
    }
   },
   "source": [
    "x = Roboter(\"Marvin\", 2017)\n",
    "\n",
    "print(x)"
   ],
   "execution_count": null,
   "outputs": []
  },
  {
   "cell_type": "markdown",
   "metadata": {
    "id": "DHYmLpYHKYOt"
   },
   "source": [
    "Wendet man auf ein Objekt die Funktion str oder repr an, sucht Python in der Klassen- definition dieses Objekts nach Methoden mit den entsprechenden Namen `__str__()` und `__repr__()`. Sind sie vorhanden, werden sie entsprechend aufgerufen."
   ]
  },
  {
   "cell_type": "code",
   "metadata": {
    "id": "S_p-4k7pIdeY",
    "ExecuteTime": {
     "end_time": "2024-02-07T18:57:24.970144Z",
     "start_time": "2024-02-07T18:57:24.960720Z"
    }
   },
   "source": [
    "class Roboter:\n",
    "\n",
    "    def __init__(self, name, baujahr):\n",
    "        self.name = name\n",
    "        self.__baujahr = baujahr\n",
    "\n",
    "    def say_hello(self):\n",
    "        print(f'Hallo, mein Name ist {self.name}.')\n",
    "\n",
    "    @property\n",
    "    def name(self):\n",
    "        return self.__name\n",
    "\n",
    "    @name.setter\n",
    "    def name(self, name):\n",
    "        if name == 'Egon':\n",
    "            self.__name = 'Marvin'\n",
    "        else:\n",
    "            self.__name = name\n",
    "\n",
    "    def __str__(self):\n",
    "        return f'Name: {self.name}, Baujahr: {self.__baujahr}'\n",
    "\n",
    "    def __repr__(self):\n",
    "        return f'Roboter(\"{self.name}\", {self.__baujahr})'"
   ],
   "execution_count": null,
   "outputs": []
  },
  {
   "cell_type": "code",
   "metadata": {
    "id": "2sPdGAlWJY36",
    "ExecuteTime": {
     "end_time": "2024-02-07T18:57:27.497511Z",
     "start_time": "2024-02-07T18:57:27.491420Z"
    }
   },
   "source": [
    "x = Roboter(\"Marvin\", 2017)\n",
    "\n",
    "print(x)\n",
    "print(repr(x))"
   ],
   "execution_count": null,
   "outputs": []
  },
  {
   "cell_type": "markdown",
   "metadata": {
    "id": "K8J73-BsSGjn"
   },
   "source": [
    "## Aufgabe"
   ]
  },
  {
   "cell_type": "markdown",
   "metadata": {
    "id": "2Uz29W3oSJb9"
   },
   "source": [
    "In dieser Aufgabe geht wieder um eine Roboterklasse. Uns interessiert nicht das Aussehen und die Beschaffenheit eines Roboters, sondern nur seine Position in einer imaginären Landschaft, die zweidimensional sein soll und durch ein Koordinatensystem beschrieben werden kann.\n",
    "\n",
    "Ein Roboter hat also zwei Attribute für die $x$- und die $y$-Koordinate. Es empfiehlt sich, diese Informationen in einer 2er-Liste zusammenzufassen, also beispielsweise $position = [3,4]$, wobei dann 3 der x-Position und 4 der y-Position entspricht. Der Roboter ist in eine der vier Richtungen *west*, *south*, *east* oder *north* orientiert, was wir in einem Attribut speichern wollen.\n",
    "\n",
    "Außerdem sollten unsere Roboter auch Namen haben. Allerdings dürfen die Namen nicht länger als 10 Zeichen sein. Sollte jemand versuchen, dem Roboter einen längeren Namen zuzuweisen, soll der Name auf 10 Zeichen abgeschnitten werden.\n",
    "\n",
    "Um die Roboter im Koordinatensystem bewegen zu können, benötigen wir eine `move`- Methode. Die Methode erwartet einen Parameter *distance*, der angibt, um welchem Betrag sich der Roboter in Richtung der eingestellten Orientierung bewegen soll. Wird ein Roboter $x$ beispielsweise mit `x.move(10)` aufgerufen und ist dieser Roboter östlich orientiert, also x.orientation == \"east\", und ist [3,7] die aktuelle Position des Roboters, dann bewegt er sich 10 Felder östlich und befindet sich anschließend in Position [3,17]."
   ]
  }
 ]
}
