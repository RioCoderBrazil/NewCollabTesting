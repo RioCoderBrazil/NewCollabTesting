{
 "cells": [
  {
   "metadata": {},
   "cell_type": "markdown",
   "source": [
    "# Mein erstes Jupyter Notizbuch\n",
    "Dies ist mein erster Jupyter Notizbuch, welches im Rahmen des Kurses\n",
    "[Python Einführung](https://talent-factory.moodlecloud.com/course/view.php?id=11) \n",
    "verwendet wird."
   ],
   "id": "5db02ce4034ad69b"
  },
  {
   "metadata": {},
   "cell_type": "code",
   "outputs": [],
   "execution_count": null,
   "source": "print(\"Willkommen\")",
   "id": "initial_id"
  }
 ],
 "metadata": {
  "kernelspec": {
   "display_name": "Python 3",
   "language": "python",
   "name": "python3"
  },
  "language_info": {
   "codemirror_mode": {
    "name": "ipython",
    "version": 2
   },
   "file_extension": ".py",
   "mimetype": "text/x-python",
   "name": "python",
   "nbconvert_exporter": "python",
   "pygments_lexer": "ipython2",
   "version": "2.7.6"
  }
 },
 "nbformat": 4,
 "nbformat_minor": 5
}
