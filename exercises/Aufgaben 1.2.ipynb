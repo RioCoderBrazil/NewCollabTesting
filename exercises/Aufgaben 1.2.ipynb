{
 "cells": [
  {
   "metadata": {},
   "cell_type": "markdown",
   "source": "# Aufgabe 1.2 - Datentypen und Variablen",
   "id": "69dc26ffc42ee5c4"
  },
  {
   "metadata": {},
   "cell_type": "markdown",
   "source": [
    "### Aufgabe 1: Variablendeklaration und Zuweisung\n",
    "\n",
    "- Erstellen Sie drei Variablen `a`, `b`, und `c`. Weisen Sie `a` den Wert 5, `b` den Wert 3.2 und `c` den String «Python ist toll» zu.\n",
    "- Geben Sie die Werte der Variablen auf der Konsole aus.\n",
    "- Ändern Sie den Wert von `a` auf 10 und den Wert von `b` auf 7.5. Geben Sie die neuen Werte ebenfalls aus."
   ],
   "id": "6fbf17c77d34da91"
  },
  {
   "metadata": {
    "ExecuteTime": {
     "end_time": "2024-08-06T06:31:03.203661Z",
     "start_time": "2024-08-06T06:31:03.201092Z"
    }
   },
   "cell_type": "code",
   "source": [
    "# Erstellen und initialisieren Sie die Variablen\n",
    "a = 5\n",
    "b = 3.2\n",
    "c = \"Python ist toll\""
   ],
   "id": "34521001af44d540",
   "outputs": [],
   "execution_count": 2
  },
  {
   "metadata": {
    "ExecuteTime": {
     "end_time": "2024-08-06T06:31:03.251457Z",
     "start_time": "2024-08-06T06:31:03.244512Z"
    }
   },
   "cell_type": "code",
   "source": [
    "# Ausgabe der Variablenwerte\n",
    "print(a, b, c)"
   ],
   "id": "8322c2dbceb246a2",
   "outputs": [
    {
     "name": "stdout",
     "output_type": "stream",
     "text": [
      "5 3.2 Python ist toll\n"
     ]
    }
   ],
   "execution_count": 3
  },
  {
   "metadata": {
    "ExecuteTime": {
     "end_time": "2024-08-06T06:31:03.299434Z",
     "start_time": "2024-08-06T06:31:03.296040Z"
    }
   },
   "cell_type": "code",
   "source": [
    "# Wertänderung\n",
    "a = 10\n",
    "b = 7.5"
   ],
   "id": "1a3219e9981a2f48",
   "outputs": [],
   "execution_count": 4
  },
  {
   "metadata": {
    "ExecuteTime": {
     "end_time": "2024-08-06T06:31:03.325635Z",
     "start_time": "2024-08-06T06:31:03.320722Z"
    }
   },
   "cell_type": "code",
   "source": [
    "# Ausgabe der neuen Variablenwerte\n",
    "print(a, b)"
   ],
   "id": "e9aca9990559c3f1",
   "outputs": [
    {
     "name": "stdout",
     "output_type": "stream",
     "text": [
      "10 7.5\n"
     ]
    }
   ],
   "execution_count": 5
  },
  {
   "metadata": {},
   "cell_type": "markdown",
   "source": [
    "### Aufgabe 2: Arithmetische Operationen\n",
    "- Erstellen Sie die Variablen x und y mit den Werten 42 und 3.14. Führen Sie folgende Operationen durch und geben Sie die Ergebnisse aus:\n",
    "  - Addition\n",
    "  - Subtraktion\n",
    "  - Multiplikation\n",
    "  - Division\n",
    "  - Potenzierung"
   ],
   "id": "a9c39aeb3638f944"
  },
  {
   "metadata": {
    "ExecuteTime": {
     "end_time": "2024-08-06T06:31:03.335916Z",
     "start_time": "2024-08-06T06:31:03.334036Z"
    }
   },
   "cell_type": "code",
   "source": [
    "# Variablendeklaration\n",
    "x = 42\n",
    "y = 3.14"
   ],
   "id": "ba2ba56821b63055",
   "outputs": [],
   "execution_count": 6
  },
  {
   "metadata": {
    "ExecuteTime": {
     "end_time": "2024-08-06T06:31:03.350540Z",
     "start_time": "2024-08-06T06:31:03.346012Z"
    }
   },
   "cell_type": "code",
   "source": [
    "# Addition\n",
    "addition = x + y\n",
    "print(\"Addition: \", addition)"
   ],
   "id": "b1715f33ef4db06a",
   "outputs": [
    {
     "name": "stdout",
     "output_type": "stream",
     "text": [
      "Addition:  45.14\n"
     ]
    }
   ],
   "execution_count": 7
  },
  {
   "metadata": {
    "ExecuteTime": {
     "end_time": "2024-08-06T06:31:03.378453Z",
     "start_time": "2024-08-06T06:31:03.374799Z"
    }
   },
   "cell_type": "code",
   "source": [
    "# Subtraktion\n",
    "subtraktion = x - y\n",
    "print(\"Subtraction: \", subtraktion)"
   ],
   "id": "2e62c7d20666a495",
   "outputs": [
    {
     "name": "stdout",
     "output_type": "stream",
     "text": [
      "Subtraction:  38.86\n"
     ]
    }
   ],
   "execution_count": 8
  },
  {
   "metadata": {
    "ExecuteTime": {
     "end_time": "2024-08-06T06:31:03.389129Z",
     "start_time": "2024-08-06T06:31:03.385022Z"
    }
   },
   "cell_type": "code",
   "source": [
    "# Multiplikation\n",
    "multiplikation = x * y\n",
    "print(\"Multiplication: \", multiplikation)"
   ],
   "id": "6c2c8e78e019101",
   "outputs": [
    {
     "name": "stdout",
     "output_type": "stream",
     "text": [
      "Multiplication:  131.88\n"
     ]
    }
   ],
   "execution_count": 9
  },
  {
   "metadata": {
    "ExecuteTime": {
     "end_time": "2024-08-06T06:31:03.399287Z",
     "start_time": "2024-08-06T06:31:03.396398Z"
    }
   },
   "cell_type": "code",
   "source": [
    "# Division\n",
    "division = x / y\n",
    "print(\"Division: \", division)"
   ],
   "id": "7fdfd14260ddc012",
   "outputs": [
    {
     "name": "stdout",
     "output_type": "stream",
     "text": [
      "Division:  13.375796178343949\n"
     ]
    }
   ],
   "execution_count": 10
  },
  {
   "metadata": {
    "ExecuteTime": {
     "end_time": "2024-08-06T06:31:03.412700Z",
     "start_time": "2024-08-06T06:31:03.407579Z"
    }
   },
   "cell_type": "code",
   "source": [
    "# Potenzierung\n",
    "potenzierung = x ** y\n",
    "print(\"Exponentiation: \", potenzierung)"
   ],
   "id": "cf3d1b0d5eed0dbe",
   "outputs": [
    {
     "name": "stdout",
     "output_type": "stream",
     "text": [
      "Exponentiation:  125026.7009920332\n"
     ]
    }
   ],
   "execution_count": 11
  },
  {
   "metadata": {},
   "cell_type": "markdown",
   "source": [
    "### Aufgabe 3: String-Verarbeitung\n",
    "\n",
    "- Erstellen Sie eine Zeichenkette `text` mit dem Inhalt «Programmieren mit Python macht Spass!».\n",
    "- Finden Sie die Länge der Zeichenkette.\n",
    "- Wandeln Sie die Zeichenkette in Grossbuchstaben um und geben Sie das Ergebnis aus.\n",
    "- Ersetzen Sie das Wort «Spass» durch «Freude» und geben Sie das neue Resultat aus."
   ],
   "id": "a3b6be6f8469e958"
  },
  {
   "metadata": {
    "ExecuteTime": {
     "end_time": "2024-08-06T06:31:03.430739Z",
     "start_time": "2024-08-06T06:31:03.427994Z"
    }
   },
   "cell_type": "code",
   "source": [
    "# Erstellen Sie die Zeichenkette\n",
    "text = \"Programmieren mit Python macht Spass!\""
   ],
   "id": "94577023fdcf747c",
   "outputs": [],
   "execution_count": 12
  },
  {
   "metadata": {
    "ExecuteTime": {
     "end_time": "2024-08-06T06:31:03.441297Z",
     "start_time": "2024-08-06T06:31:03.438077Z"
    }
   },
   "cell_type": "code",
   "source": [
    "# Finden Sie die Länge der Zeichenkette\n",
    "laenge = len(text)\n",
    "print(\"Länge: \", laenge)"
   ],
   "id": "ad0cdbcac4b8addf",
   "outputs": [
    {
     "name": "stdout",
     "output_type": "stream",
     "text": [
      "Länge:  37\n"
     ]
    }
   ],
   "execution_count": 13
  },
  {
   "metadata": {
    "ExecuteTime": {
     "end_time": "2024-08-06T06:39:46.117161Z",
     "start_time": "2024-08-06T06:39:46.110894Z"
    }
   },
   "cell_type": "code",
   "source": [
    "# Wandeln Sie die Zeichenkette in Grossbuchstaben um\n",
    "grossbuchstaben = text.upper()\n",
    "print(\"In Grossbuchstaben: \", grossbuchstaben)"
   ],
   "id": "9c45b61f0d27b5f1",
   "outputs": [
    {
     "name": "stdout",
     "output_type": "stream",
     "text": [
      "In Grossbuchstaben:  PROGRAMMIEREN MIT PYTHON MACHT SPASS!\n"
     ]
    }
   ],
   "execution_count": 24
  },
  {
   "metadata": {
    "ExecuteTime": {
     "end_time": "2024-08-06T06:31:03.460111Z",
     "start_time": "2024-08-06T06:31:03.457383Z"
    }
   },
   "cell_type": "code",
   "source": [
    "# Ersetzen Sie das Wort \"Spass\" durch \"Freude\"\n",
    "neuer_text = text.replace(\"Spass\", \"Freude\")\n",
    "print(\"Ersetzter Text: \", neuer_text)"
   ],
   "id": "ebba9855e890ab27",
   "outputs": [
    {
     "name": "stdout",
     "output_type": "stream",
     "text": [
      "Ersetzter Text:  Programmieren mit Python macht Freude!\n"
     ]
    }
   ],
   "execution_count": 15
  },
  {
   "metadata": {},
   "cell_type": "markdown",
   "source": [
    "### Aufgabe 4: Typumwandlung\n",
    "\n",
    "- Erstellen Sie die Variable `zahl` mit dem Wert «123.45» (als String). Wandeln Sie diese Zeichenkette in einen Float-Wert um und führen Sie dann eine Multiplikation mit 10 durch.\n",
    "- Geben Sie das Ergebnis in der Konsole aus."
   ],
   "id": "2c359d5250055614"
  },
  {
   "metadata": {
    "ExecuteTime": {
     "end_time": "2024-08-06T06:31:03.485426Z",
     "start_time": "2024-08-06T06:31:03.479923Z"
    }
   },
   "cell_type": "code",
   "source": [
    "# Erstellen der Variablen \n",
    "zahl = \"123.45\""
   ],
   "id": "73ee7e46ede562bf",
   "outputs": [],
   "execution_count": 16
  },
  {
   "metadata": {
    "ExecuteTime": {
     "end_time": "2024-08-06T06:31:03.500799Z",
     "start_time": "2024-08-06T06:31:03.495862Z"
    }
   },
   "cell_type": "code",
   "source": [
    "# Wandeln Sie die Zeichenkette in einen Float-Wert um\n",
    "zahl_float = float(zahl)"
   ],
   "id": "f795f9a639f33457",
   "outputs": [],
   "execution_count": 17
  },
  {
   "metadata": {
    "ExecuteTime": {
     "end_time": "2024-08-06T06:31:03.515290Z",
     "start_time": "2024-08-06T06:31:03.510413Z"
    }
   },
   "cell_type": "code",
   "source": [
    "# Multiplikation mit 10\n",
    "ergebnis = zahl_float * 10"
   ],
   "id": "fdebd5c8c2686d6d",
   "outputs": [],
   "execution_count": 18
  },
  {
   "metadata": {
    "ExecuteTime": {
     "end_time": "2024-08-06T06:31:03.538109Z",
     "start_time": "2024-08-06T06:31:03.535376Z"
    }
   },
   "cell_type": "code",
   "source": [
    "# Ausgabe des Ergebnisses\n",
    "print(\"Ergebnis: \", ergebnis)"
   ],
   "id": "da9a059ee8d8e155",
   "outputs": [
    {
     "name": "stdout",
     "output_type": "stream",
     "text": [
      "Ergebnis:  1234.5\n"
     ]
    }
   ],
   "execution_count": 19
  },
  {
   "metadata": {},
   "cell_type": "markdown",
   "source": [
    "### Aufgabe 5: Typüberprüfung\n",
    "\n",
    "- Deklarieren Sie vier Variablen: `num`, `pi`, `message`, und `is_valid`. Weisen Sie `num` den Wert 3, `pi` den Wert 3.14, `message` den String \"Hallo\" und `is_valid` den Boolean-Wert `True` zu.\n",
    "- Überprüfen Sie den Typ jeder dieser Variablen und geben Sie das Ergebnis aus."
   ],
   "id": "4760b44361a7548c"
  },
  {
   "metadata": {
    "ExecuteTime": {
     "end_time": "2024-08-06T06:31:03.569105Z",
     "start_time": "2024-08-06T06:31:03.567167Z"
    }
   },
   "cell_type": "code",
   "source": [
    "# Deklarieren Sie vier Variablen\n",
    "num = 3\n",
    "pi = 3.14\n",
    "message = \"Hallo\"\n",
    "is_valid = True"
   ],
   "id": "4b5eb5dda2bf2784",
   "outputs": [],
   "execution_count": 20
  },
  {
   "metadata": {
    "ExecuteTime": {
     "end_time": "2024-08-06T06:31:03.596112Z",
     "start_time": "2024-08-06T06:31:03.593286Z"
    }
   },
   "cell_type": "code",
   "source": [
    "# Überprüfen und Ausgeben Sie den Typ jeder dieser Variablen\n",
    "print(\"Typ von num: \", type(num))\n",
    "print(\"Typ von pi: \", type(pi))\n",
    "print(\"Typ von message: \", type(message))\n",
    "print(\"Typ von is_valid: \", type(is_valid))"
   ],
   "id": "c91b4a88bc08b1a7",
   "outputs": [
    {
     "name": "stdout",
     "output_type": "stream",
     "text": [
      "Typ von num:  <class 'int'>\n",
      "Typ von pi:  <class 'float'>\n",
      "Typ von message:  <class 'str'>\n",
      "Typ von is_valid:  <class 'bool'>\n"
     ]
    }
   ],
   "execution_count": 21
  }
 ],
 "metadata": {
  "kernelspec": {
   "display_name": "Python 3",
   "language": "python",
   "name": "python3"
  },
  "language_info": {
   "codemirror_mode": {
    "name": "ipython",
    "version": 2
   },
   "file_extension": ".py",
   "mimetype": "text/x-python",
   "name": "python",
   "nbconvert_exporter": "python",
   "pygments_lexer": "ipython2",
   "version": "2.7.6"
  }
 },
 "nbformat": 4,
 "nbformat_minor": 5
}
